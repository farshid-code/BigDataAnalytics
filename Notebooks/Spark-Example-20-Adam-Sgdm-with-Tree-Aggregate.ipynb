{
 "cells": [
  {
   "cell_type": "markdown",
   "metadata": {},
   "source": [
    "### Gradient Descent Optimizers Implementation with Tree Aggregate in PySpark\n",
    "### Author: \n",
    "* Yi Rong (yirong@bu.edu)\n",
    "* Xiaoyang Wang (gnayoaix@bu.edu)\n",
    "\n",
    "### Date: 05/24/2021"
   ]
  },
  {
   "cell_type": "code",
   "execution_count": 141,
   "metadata": {},
   "outputs": [],
   "source": [
    "from __future__ import print_function\n",
    "import sys\n",
    "\n",
    "from operator import add\n",
    "# from string import lowercase\n",
    "from re import sub, search\n",
    "import numpy as np\n",
    "from numpy.random.mtrand import dirichlet, multinomial\n",
    "from string import punctuation\n",
    "import random\n",
    "import time\n",
    "import math\n",
    "\n",
    "from scipy.stats import norm\n",
    "import pandas as pd\n",
    "from sklearn.datasets import make_blobs\n",
    "from matplotlib import pyplot\n",
    "from pandas import DataFrame\n",
    "import matplotlib.cm as cm\n",
    "from random import sample\n",
    "\n",
    "from pyspark.sql import functions as f, udf\n",
    "from pyspark import SparkContext\n",
    "from pyspark import SparkConf\n",
    "from pyspark.context import SparkContext\n",
    "from pyspark.sql import SparkSession, SQLContext\n",
    "from pyspark.mllib.stat import Statistics\n",
    "from numpy.linalg import multi_dot\n",
    "from scipy.stats import multivariate_normal\n",
    "from pyspark.ml.tuning import ParamGridBuilder, TrainValidationSplit"
   ]
  },
  {
   "cell_type": "markdown",
   "metadata": {},
   "source": [
    "### Generate Data with make_blobs"
   ]
  },
  {
   "cell_type": "code",
   "execution_count": 144,
   "metadata": {},
   "outputs": [],
   "source": [
    "n_feature = 2 # the number of features\n",
    "n_components = 2 # the number of clusters\n",
    "\n",
    "max_iter = 400 # max iterations \n",
    "n=10000 # the number of total samples"
   ]
  },
  {
   "cell_type": "code",
   "execution_count": 145,
   "metadata": {},
   "outputs": [],
   "source": [
    "# generate isotropic Gaussian blobs (data from mixture Gaussian distributions)\n",
    "X, y = make_blobs(n_samples=n, # the number of total samples\n",
    "                  centers=n_components, # the number of clusters\n",
    "                  n_features=n_feature, # the number of features\n",
    "                  cluster_std = [0.5] * n_components, # the std of each cluster\n",
    "                  random_state=2) # 2"
   ]
  },
  {
   "cell_type": "code",
   "execution_count": 146,
   "metadata": {},
   "outputs": [
    {
     "data": {
      "image/png": "[encoded data removed]",
      "text/plain": [
       "<Figure size 432x288 with 1 Axes>"
      ]
     },
     "metadata": {
      "needs_background": "light"
     },
     "output_type": "display_data"
    }
   ],
   "source": [
    "# scatter plot, data points annotated by different colors\n",
    "df = DataFrame(dict(x=X[:,0], y=X[:,1], label=y))\n",
    "cluster_name = set(y)\n",
    "colors = dict(zip(cluster_name, cm.rainbow(np.linspace(0, 1, len(cluster_name)))))\n",
    "fig, ax = pyplot.subplots()\n",
    "grouped = df.groupby('label')\n",
    "for key, group in grouped:\n",
    "    group.plot(ax=ax, kind='scatter', x='x', y='y', label=key, color=colors[key].reshape(1,-1))\n",
    "pyplot.title('Original 2D Data from {} Clusters'.format(n_components))\n",
    "pyplot.show()"
   ]
  },
  {
   "cell_type": "markdown",
   "metadata": {},
   "source": [
    "### Train a Logistic Regression Model"
   ]
  },
  {
   "cell_type": "code",
   "execution_count": 147,
   "metadata": {},
   "outputs": [
    {
     "data": {
      "text/plain": [
       "PythonRDD[86171] at RDD at PythonRDD.scala:53"
      ]
     },
     "execution_count": 147,
     "metadata": {},
     "output_type": "execute_result"
    }
   ],
   "source": [
    "# read X, y into rdd\n",
    "rdd_X = sc.parallelize(X)\n",
    "rdd_y = sc.parallelize(y)\n",
    "\n",
    "# split data into train and test\n",
    "traindata, testdata = rdd_y.zip(rdd_X).randomSplit([0.9, 0.1], seed=12345)\n",
    "traindata.cache()"
   ]
  },
  {
   "cell_type": "code",
   "execution_count": 148,
   "metadata": {},
   "outputs": [],
   "source": [
    "train_size = traindata.count()"
   ]
  },
  {
   "cell_type": "markdown",
   "metadata": {},
   "source": [
    "## Greadient Descent Optimizers\n",
    "\n",
    "### Stochastic Gradient Descent (SGD)\n",
    "### $\\theta = \\theta -  \\eta \\cdot \\nabla_{\\theta} J(θ) $\n",
    "\n",
    "### Momentum\n",
    "\n",
    "### $\\nu_{t} = \\gamma \\nu_{t-1} + \\nabla_{\\theta} J(θ)$\n",
    "\n",
    "### $\\theta = \\theta - \\nu_{t}$\n",
    "\n",
    "### Nesterov accelerated gradient\n",
    "\n",
    "### $\\nu_{t} = \\gamma \\nu_{t-1} + \\nabla_{\\theta} J(θ - \\gamma \\nu_{t-1})$\n",
    "\n",
    "### $\\theta = \\theta - \\nu_{t}$\n",
    "\n",
    "or \n",
    "\n",
    "### $\\theta_{temp} = \\theta_{t} - \\gamma \\nu_{t-1}$\n",
    "\n",
    "### $\\theta_{t+1} = \\theta_{temp} - \\nabla_{\\theta} J(θ)$\n",
    "\n",
    "### $\\nu_{t} = \\gamma \\nu_{t-1} + \\nabla_{\\theta} J(θ)$\n",
    "\n",
    "### Adagrad\n",
    "\n",
    "### $\\theta_{t+1} = \\theta_{t} - \\frac{\\eta}{\\sqrt{G_{t}+\\epsilon}} \\cdot g_{t}$\n",
    "\n",
    "where $G_{t} \\in \\mathbb{R}^{d\\times d}$ is a diagonal matrix where each diagonal element is the sum of the squares of the\n",
    "gradients up to time step $t$.\n",
    "\n",
    "### RMSprop\n",
    "\n",
    "### $E[g^{2}]_{t} = \\beta E[g^{2}]_{t-1} + (1-\\beta )g^{2}_{t}$\n",
    "\n",
    "### $\\theta_{t+1} = \\theta_{t} - \\frac{\\eta}{\\sqrt{E[g^{2}]_{t} +\\epsilon}} \\cdot g_{t}$\n",
    "\n",
    "where $E[g^{2}]$ is an exponentially decaying average of squared gradients.\n",
    "\n",
    "### Adam\n",
    "\n",
    "### $m_{t} = \\beta_{1}m_{t-1}+(1-\\beta_{1})g_{t}$\n",
    "\n",
    "### $\\nu_{t} = \\beta_{2} \\nu_{t-1} + (1-\\beta_{2})g^{2}_{t}$\n",
    "\n",
    "### $ \\hat{m_{t}} =\\frac{m_{t}}{1-\\beta^{t}_{1}}$\n",
    "\n",
    "### $ \\hat{\\nu_{t}} =\\frac{\\nu_{t}}{1-\\beta^{t}_{2}}$\n",
    "\n",
    "### $\\theta_{t+1} = \\theta_{t} - \\frac{\\eta}{\\sqrt{\\hat{\\nu_{t}} +\\epsilon}} \\cdot \\hat{m_{t}}$\n",
    "\n",
    "### reference: https://arxiv.org/pdf/1609.04747.pdf"
   ]
  },
  {
   "cell_type": "code",
   "execution_count": 160,
   "metadata": {},
   "outputs": [],
   "source": [
    "def LogisticRegression(traindata=traindata,\n",
    "                       max_iteration = max_iter,\n",
    "                       learningRate = 0.01,\n",
    "                       regularization = 0.01,\n",
    "                       mini_batch_size = 512,\n",
    "                       tolerance = 10e-8,\n",
    "                       beta = 0.9,\n",
    "                       beta2 = 0.999,\n",
    "                       optimizer = 'SGD'  #optimizer: 'Momentum' / 'Adam' / 'Nesterov' / 'Adagrad' / 'RMSprop' / 'SGD' \n",
    "                      ):\n",
    "\n",
    "    # initialization\n",
    "    prev_cost = 0\n",
    "    L_cost = []\n",
    "    prev_validation = 0\n",
    "    train_size = traindata.count()\n",
    "\n",
    "    parameter_size = len(traindata.take(1)[0][1]) + 1\n",
    "    np.random.seed(0)\n",
    "    parameter_vector = np.random.normal(0, 0.1, parameter_size)\n",
    "#     parameter_vector = np.zeros(parameter_size) # initialize with zeros\n",
    "    momentum = np.zeros(parameter_size)\n",
    "    prev_mom = np.zeros(parameter_size)\n",
    "    second_mom = np.array(parameter_size)\n",
    "    gti = np.zeros(parameter_size)\n",
    "    epsilon = 10e-8\n",
    "    \n",
    "    for i in range(max_iteration):\n",
    "\n",
    "        bc_weights = parameter_vector[:-1]\n",
    "        bc1_weights = parameter_vector[-1]\n",
    "\n",
    "        min_batch = traindata.sample(False, mini_batch_size / train_size, 1 + i)\n",
    "\n",
    "        res = min_batch.treeAggregate((np.zeros(parameter_size), 0, 0),\\\n",
    "              lambda x, y:(x[0]\\\n",
    "                          + (np.append(y[1], 1)) * (-y[0] + (np.exp(np.dot(y[1], bc_weights) + bc1_weights)\\\n",
    "                          /(1 + np.exp(np.dot(y[1], bc_weights) + bc1_weights)))),\\\n",
    "                          x[1] \\\n",
    "                          + y[0] * (-(np.dot(y[1], bc_weights) + bc1_weights)) \\\n",
    "                          + np.log(1 + np.exp(np.dot(y[1],bc_weights)+ bc1_weights)),\\\n",
    "                          x[2] + 1),\n",
    "              lambda x, y:(x[0] + y[0], x[1] + y[1], x[2] + y[2]))\n",
    "\n",
    "        cost =  res[1] + regularization * (np.square(parameter_vector).sum())\n",
    "\n",
    "        # calculate gradients\n",
    "        gradient_derivative = (1.0 / res[2]) * res[0] + 2 * regularization * parameter_vector\n",
    "        \n",
    "        if optimizer == 'SGD':\n",
    "            parameter_vector = parameter_vector - learningRate * gradient_derivative\n",
    "\n",
    "        if optimizer =='Momentum':\n",
    "            momentum = beta * momentum + learningRate * gradient_derivative\n",
    "            parameter_vector = parameter_vector - momentum\n",
    "            \n",
    "        if optimizer == 'Nesterov':\n",
    "            parameter_temp = parameter_vector - beta * prev_mom\n",
    "            parameter_vector = parameter_temp - learningRate * gradient_derivative\n",
    "            prev_mom = momentum\n",
    "            momentum = beta * momentum + learningRate * gradient_derivative\n",
    "            \n",
    "        if optimizer == 'Adam':\n",
    "            momentum = beta * momentum + (1 - beta) * gradient_derivative\n",
    "            second_mom = beta2 * second_mom + (1 - beta2) * (gradient_derivative**2)\n",
    "            momentum_ = momentum / (1 - beta**(i + 1))\n",
    "            second_mom_ = second_mom / (1 - beta2**(i + 1))\n",
    "            parameter_vector = parameter_vector - learningRate * momentum_ / (np.sqrt(second_mom_) + epsilon)\n",
    "\n",
    "        if optimizer == 'Adagrad':\n",
    "            gti += gradient_derivative**2\n",
    "            adj_grad = gradient_derivative / (np.sqrt(gti)  + epsilon)\n",
    "            parameter_vector = parameter_vector - learningRate  * adj_grad\n",
    "        \n",
    "        if optimizer == 'RMSprop':\n",
    "            sq_grad = gradient_derivative**2\n",
    "            exp_grad = beta * gti / (i + 1) + (1 - beta) * sq_grad\n",
    "            parameter_vector = parameter_vector - learningRate / np.sqrt(exp_grad + epsilon) * gradient_derivative\n",
    "            gti += sq_grad\n",
    "            \n",
    "        if i%20 == 0 :\n",
    "            print(\"Iteration No.\", i, \" Cost=\", cost)\n",
    "            \n",
    "#         print(\"Iteration No.\", i, \" Cost=\", cost)\n",
    "        \n",
    "        # Stop if the cost is not descreasing\n",
    "        if abs(cost - prev_cost) < tolerance:\n",
    "            print(\"cost - prev_cost: \" + str(cost - prev_cost))\n",
    "            break\n",
    "        prev_cost = cost\n",
    "        L_cost.append(cost)\n",
    "        \n",
    "    return parameter_vector, L_cost"
   ]
  },
  {
   "cell_type": "markdown",
   "metadata": {},
   "source": [
    "### Model Training"
   ]
  },
  {
   "cell_type": "markdown",
   "metadata": {},
   "source": [
    "#### SGD"
   ]
  },
  {
   "cell_type": "code",
   "execution_count": 161,
   "metadata": {
    "scrolled": true
   },
   "outputs": [
    {
     "name": "stdout",
     "output_type": "stream",
     "text": [
      "Iteration No. 0  Cost= 277.1715473129733\n",
      "Iteration No. 20  Cost= 195.8638143487128\n",
      "Iteration No. 40  Cost= 178.67982067084822\n",
      "Iteration No. 60  Cost= 173.58143637606548\n",
      "Iteration No. 80  Cost= 157.97454898432036\n",
      "Iteration No. 100  Cost= 156.75024256823139\n",
      "Iteration No. 120  Cost= 150.60917837497507\n",
      "Iteration No. 140  Cost= 134.6956510724494\n",
      "Iteration No. 160  Cost= 137.38890085206134\n",
      "Iteration No. 180  Cost= 136.40318149267034\n",
      "Iteration No. 200  Cost= 107.45645844755487\n",
      "Iteration No. 220  Cost= 112.73745727919051\n",
      "Iteration No. 240  Cost= 113.28670797076897\n",
      "Iteration No. 260  Cost= 97.70932210200313\n",
      "Iteration No. 280  Cost= 98.84289038770584\n",
      "Iteration No. 300  Cost= 96.66968666789494\n",
      "Iteration No. 320  Cost= 98.74801640407506\n",
      "Iteration No. 340  Cost= 99.9234880492304\n",
      "Iteration No. 360  Cost= 87.5457426226855\n",
      "Iteration No. 380  Cost= 85.18174256969155\n"
     ]
    }
   ],
   "source": [
    "parameter_vector_sgd, L_cost_sgd = LogisticRegression(traindata=traindata,\n",
    "                       max_iteration = max_iter,\n",
    "                       learningRate = 0.01,\n",
    "                       regularization = 0.01,\n",
    "                       mini_batch_size = 512,\n",
    "                       tolerance = 10e-8,\n",
    "                       optimizer = 'SGD' \n",
    "                      )"
   ]
  },
  {
   "cell_type": "markdown",
   "metadata": {},
   "source": [
    "#### Adam"
   ]
  },
  {
   "cell_type": "code",
   "execution_count": 162,
   "metadata": {},
   "outputs": [
    {
     "name": "stdout",
     "output_type": "stream",
     "text": [
      "Iteration No. 0  Cost= 277.1715473129733\n",
      "Iteration No. 20  Cost= 257.47602684020507\n",
      "Iteration No. 40  Cost= 239.5417301779561\n",
      "Iteration No. 60  Cost= 228.8011763429062\n",
      "Iteration No. 80  Cost= 209.48628334506358\n",
      "Iteration No. 100  Cost= 210.17592438589062\n",
      "Iteration No. 120  Cost= 206.97353950309295\n",
      "Iteration No. 140  Cost= 193.2703517536573\n",
      "Iteration No. 160  Cost= 198.34769848533043\n",
      "Iteration No. 180  Cost= 202.34546760384742\n",
      "Iteration No. 200  Cost= 165.76469992808006\n",
      "Iteration No. 220  Cost= 174.36964770830065\n",
      "Iteration No. 240  Cost= 179.99370205382763\n",
      "Iteration No. 260  Cost= 156.5183786667344\n",
      "Iteration No. 280  Cost= 161.33464501376542\n",
      "Iteration No. 300  Cost= 161.52836614015266\n",
      "Iteration No. 320  Cost= 165.50173478859236\n",
      "Iteration No. 340  Cost= 166.6825811864354\n",
      "Iteration No. 360  Cost= 154.33889841676356\n",
      "Iteration No. 380  Cost= 149.53554042127965\n"
     ]
    }
   ],
   "source": [
    "parameter_vector_adam, L_cost_adam = LogisticRegression(traindata=traindata,\n",
    "                       max_iteration = max_iter,\n",
    "                       learningRate = 0.01,\n",
    "                       regularization = 0.01,\n",
    "                       mini_batch_size = 512,\n",
    "                       tolerance = 10e-8,\n",
    "                       beta2 = 0.999,\n",
    "                       optimizer = 'Adam'\n",
    "                      )"
   ]
  },
  {
   "cell_type": "markdown",
   "metadata": {},
   "source": [
    "#### Momentum"
   ]
  },
  {
   "cell_type": "code",
   "execution_count": 163,
   "metadata": {
    "scrolled": true
   },
   "outputs": [
    {
     "name": "stdout",
     "output_type": "stream",
     "text": [
      "Iteration No. 0  Cost= 277.1715473129733\n",
      "Iteration No. 20  Cost= 143.50598517069872\n",
      "Iteration No. 40  Cost= 87.90170898309614\n",
      "Iteration No. 60  Cost= 68.01621791723733\n",
      "Iteration No. 80  Cost= 55.90425378271596\n",
      "Iteration No. 100  Cost= 50.983588113300236\n",
      "Iteration No. 120  Cost= 44.56344753637255\n",
      "Iteration No. 140  Cost= 37.18474315437171\n",
      "Iteration No. 160  Cost= 38.993173791422706\n",
      "Iteration No. 180  Cost= 38.04090499385265\n",
      "Iteration No. 200  Cost= 30.44503808634857\n",
      "Iteration No. 220  Cost= 33.13654291444172\n",
      "Iteration No. 240  Cost= 32.06972221949955\n",
      "Iteration No. 260  Cost= 29.02954012271521\n",
      "Iteration No. 280  Cost= 29.609602121988015\n",
      "Iteration No. 300  Cost= 29.497462638369946\n",
      "Iteration No. 320  Cost= 30.597393035938072\n",
      "Iteration No. 340  Cost= 32.852791550204934\n",
      "Iteration No. 360  Cost= 25.6256028155042\n",
      "Iteration No. 380  Cost= 26.75930096129786\n"
     ]
    }
   ],
   "source": [
    "parameter_vector_momentum, L_cost_momentum = LogisticRegression(traindata=traindata,\n",
    "                       max_iteration = max_iter,\n",
    "                       learningRate = 0.01,\n",
    "                       regularization = 0.01,\n",
    "                       mini_batch_size = 512,\n",
    "                       tolerance = 10e-8,\n",
    "                       optimizer = 'Momentum'\n",
    "                      )"
   ]
  },
  {
   "cell_type": "markdown",
   "metadata": {},
   "source": [
    "#### Nesterov"
   ]
  },
  {
   "cell_type": "code",
   "execution_count": 164,
   "metadata": {
    "scrolled": true
   },
   "outputs": [
    {
     "name": "stdout",
     "output_type": "stream",
     "text": [
      "Iteration No. 0  Cost= 277.1715473129733\n",
      "Iteration No. 20  Cost= 153.37934064278886\n",
      "Iteration No. 40  Cost= 88.4147822804283\n",
      "Iteration No. 60  Cost= 67.14940954707028\n",
      "Iteration No. 80  Cost= 55.15764872201109\n",
      "Iteration No. 100  Cost= 50.38567236024413\n",
      "Iteration No. 120  Cost= 44.06267931616216\n",
      "Iteration No. 140  Cost= 36.81496824890174\n",
      "Iteration No. 160  Cost= 38.672933811962515\n",
      "Iteration No. 180  Cost= 37.7643090061225\n",
      "Iteration No. 200  Cost= 30.260939438882577\n",
      "Iteration No. 220  Cost= 32.96537017536998\n",
      "Iteration No. 240  Cost= 31.916020493217076\n",
      "Iteration No. 260  Cost= 28.91523826555479\n",
      "Iteration No. 280  Cost= 29.50407614334269\n",
      "Iteration No. 300  Cost= 29.409628482210167\n",
      "Iteration No. 320  Cost= 30.515378785161502\n",
      "Iteration No. 340  Cost= 32.77756951894879\n",
      "Iteration No. 360  Cost= 25.563907135522847\n",
      "Iteration No. 380  Cost= 26.704533020455838\n"
     ]
    }
   ],
   "source": [
    "parameter_vector_nesterov, L_cost_nesterov = LogisticRegression(traindata=traindata,\n",
    "                       max_iteration = max_iter,\n",
    "                       learningRate = 0.01,\n",
    "                       regularization = 0.01,\n",
    "                       mini_batch_size = 512,\n",
    "                       tolerance = 10e-8,\n",
    "                       optimizer = 'Nesterov'\n",
    "                      )"
   ]
  },
  {
   "cell_type": "markdown",
   "metadata": {},
   "source": [
    "#### Adagrad"
   ]
  },
  {
   "cell_type": "code",
   "execution_count": 165,
   "metadata": {},
   "outputs": [
    {
     "name": "stdout",
     "output_type": "stream",
     "text": [
      "Iteration No. 0  Cost= 277.1715473129733\n",
      "Iteration No. 20  Cost= 212.14122844499258\n",
      "Iteration No. 40  Cost= 193.25879827222352\n",
      "Iteration No. 60  Cost= 186.00405700443477\n",
      "Iteration No. 80  Cost= 171.24028770060053\n",
      "Iteration No. 100  Cost= 171.60001109762854\n",
      "Iteration No. 120  Cost= 167.97162827093263\n",
      "Iteration No. 140  Cost= 155.58665154845647\n",
      "Iteration No. 160  Cost= 159.08157406597553\n",
      "Iteration No. 180  Cost= 162.1601836128942\n",
      "Iteration No. 200  Cost= 133.05620381467307\n",
      "Iteration No. 220  Cost= 139.84692888087423\n",
      "Iteration No. 240  Cost= 143.48833883201638\n",
      "Iteration No. 260  Cost= 125.46331082928158\n",
      "Iteration No. 280  Cost= 130.03571054033262\n",
      "Iteration No. 300  Cost= 130.07473888667843\n",
      "Iteration No. 320  Cost= 134.88746895434045\n",
      "Iteration No. 340  Cost= 136.5373054087155\n",
      "Iteration No. 360  Cost= 127.30623181510363\n",
      "Iteration No. 380  Cost= 124.04007143528891\n"
     ]
    }
   ],
   "source": [
    "parameter_vector_adagrad, L_cost_adagrad = LogisticRegression(traindata=traindata,\n",
    "                       max_iteration = max_iter,\n",
    "                       learningRate = 0.01,\n",
    "                       regularization = 0.01,\n",
    "                       mini_batch_size = 512,\n",
    "                       tolerance = 10e-8,\n",
    "                       optimizer = 'Adagrad'\n",
    "                      )"
   ]
  },
  {
   "cell_type": "markdown",
   "metadata": {},
   "source": [
    "#### RMSprop"
   ]
  },
  {
   "cell_type": "code",
   "execution_count": 166,
   "metadata": {
    "scrolled": true
   },
   "outputs": [
    {
     "name": "stdout",
     "output_type": "stream",
     "text": [
      "Iteration No. 0  Cost= 277.1715473129733\n",
      "Iteration No. 20  Cost= 153.8687601168233\n",
      "Iteration No. 40  Cost= 116.79396048423737\n",
      "Iteration No. 60  Cost= 97.04270894252664\n",
      "Iteration No. 80  Cost= 78.4630709743574\n",
      "Iteration No. 100  Cost= 69.740741277584\n",
      "Iteration No. 120  Cost= 60.37476102561391\n",
      "Iteration No. 140  Cost= 49.130947963715506\n",
      "Iteration No. 160  Cost= 48.455486175721134\n",
      "Iteration No. 180  Cost= 45.742864013591905\n",
      "Iteration No. 200  Cost= 35.148071390410415\n",
      "Iteration No. 220  Cost= 36.667480791462616\n",
      "Iteration No. 240  Cost= 35.18995696133875\n",
      "Iteration No. 260  Cost= 30.596926904480185\n",
      "Iteration No. 280  Cost= 30.987036161366273\n",
      "Iteration No. 300  Cost= 30.34074827845004\n",
      "Iteration No. 320  Cost= 30.97403938105697\n",
      "Iteration No. 340  Cost= 32.68422907945869\n",
      "Iteration No. 360  Cost= 26.362808461547274\n",
      "Iteration No. 380  Cost= 26.921227466341428\n"
     ]
    }
   ],
   "source": [
    "parameter_vector_rmsprop, L_cost_rmsprop = LogisticRegression(traindata=traindata,\n",
    "                       max_iteration = max_iter,\n",
    "                       learningRate = 0.01,\n",
    "                       regularization = 0.01,\n",
    "                       mini_batch_size = 512,\n",
    "                       tolerance = 10e-8,\n",
    "                       optimizer = 'RMSprop'\n",
    "                      )"
   ]
  },
  {
   "cell_type": "markdown",
   "metadata": {},
   "source": [
    "### Optimizers Comparison"
   ]
  },
  {
   "cell_type": "code",
   "execution_count": 167,
   "metadata": {},
   "outputs": [
    {
     "data": {
      "image/png": "[encoded data removed]",
      "text/plain": [
       "<Figure size 432x288 with 1 Axes>"
      ]
     },
     "metadata": {
      "needs_background": "light"
     },
     "output_type": "display_data"
    }
   ],
   "source": [
    "# Data\n",
    "df = pd.DataFrame({'iteration': range(1, max_iter+1), \n",
    "                     'cost_momentum': L_cost_momentum, \n",
    "                     'cost_adam': L_cost_adam, \n",
    "                     'cost_sgd': L_cost_sgd,\n",
    "                     'cost_rmsprop': L_cost_rmsprop,\n",
    "                     'cost_adagrad': L_cost_adagrad,\n",
    "                     'cost_nesterov': L_cost_nesterov})\n",
    " \n",
    "# multiple line plots\n",
    "pyplot.plot( 'iteration', 'cost_momentum', data=df, marker='', color='skyblue', linewidth=2)\n",
    "pyplot.plot( 'iteration', 'cost_adam', data=df, marker='', color='red', linewidth=2)\n",
    "pyplot.plot( 'iteration', 'cost_sgd', data=df, marker='', color='green', linewidth=2)\n",
    "pyplot.plot( 'iteration', 'cost_rmsprop', data=df, marker='', color='purple', linewidth=2)\n",
    "pyplot.plot( 'iteration', 'cost_adagrad', data=df, marker='', color='darkblue', linewidth=2)\n",
    "pyplot.plot( 'iteration', 'cost_nesterov', data=df, marker='', color='grey', linewidth=2)\n",
    "# show legend\n",
    "pyplot.legend()\n",
    "pyplot.title('Cost Comparison among Gradient Descent Optimizers')\n",
    "# show graph\n",
    "pyplot.show()"
   ]
  },
  {
   "cell_type": "code",
   "execution_count": null,
   "metadata": {},
   "outputs": [],
   "source": []
  }
 ],
 "metadata": {
  "kernelspec": {
   "display_name": "Python 3",
   "language": "python",
   "name": "python3"
  },
  "language_info": {
   "codemirror_mode": {
    "name": "ipython",
    "version": 3
   },
   "file_extension": ".py",
   "mimetype": "text/x-python",
   "name": "python",
   "nbconvert_exporter": "python",
   "pygments_lexer": "ipython3",
   "version": "3.7.6"
  }
 },
 "nbformat": 4,
 "nbformat_minor": 4
}
