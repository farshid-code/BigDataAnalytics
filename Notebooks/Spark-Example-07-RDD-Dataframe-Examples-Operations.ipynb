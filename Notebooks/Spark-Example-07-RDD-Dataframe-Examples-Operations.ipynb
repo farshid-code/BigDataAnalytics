{
 "cells": [
  {
   "cell_type": "code",
   "execution_count": 1,
   "metadata": {
    "colab": {},
    "colab_type": "code",
    "id": "DxCkou-p6TQJ"
   },
   "outputs": [
    {
     "data": {
      "text/plain": [
       "[('to', 1)]"
      ]
     },
     "execution_count": 1,
     "metadata": {},
     "output_type": "execute_result"
    }
   ],
   "source": [
    "rdd = sc.parallelize([(\"to\", 1), (\"be\", 1), (\"or\", 1) , (\"not\", 1),  (\"to\", 1),  (\"be\", 1)])\n",
    "\n",
    "rdd.take(1)"
   ]
  },
  {
   "cell_type": "markdown",
   "metadata": {},
   "source": [
    "# reduceByKey"
   ]
  },
  {
   "cell_type": "code",
   "execution_count": 2,
   "metadata": {
    "colab": {
     "base_uri": "https://localhost:8080/",
     "height": 35
    },
    "colab_type": "code",
    "id": "f4V11y6t6jwg",
    "outputId": "7780ba7a-e9c5-42b3-891c-c7540ff9b693"
   },
   "outputs": [
    {
     "data": {
      "text/plain": [
       "[('to', 2), ('be', 2), ('or', 1), ('not', 1)]"
      ]
     },
     "execution_count": 2,
     "metadata": {},
     "output_type": "execute_result"
    }
   ],
   "source": [
    "rdd3= rdd.reduceByKey(lambda x, y: x + y)\n",
    "\n",
    "rdd3.collect()"
   ]
  },
  {
   "cell_type": "markdown",
   "metadata": {},
   "source": [
    "# distinct\n"
   ]
  },
  {
   "cell_type": "code",
   "execution_count": 3,
   "metadata": {
    "colab": {
     "base_uri": "https://localhost:8080/",
     "height": 35
    },
    "colab_type": "code",
    "id": "S-jRzDMV6ngO",
    "outputId": "6a372664-d1cc-437b-d282-51616084ae82"
   },
   "outputs": [
    {
     "data": {
      "text/plain": [
       "[1, 2, 3]"
      ]
     },
     "execution_count": 3,
     "metadata": {},
     "output_type": "execute_result"
    }
   ],
   "source": [
    "sc.parallelize([1, 1, 2, 3]).distinct().collect()"
   ]
  },
  {
   "cell_type": "markdown",
   "metadata": {},
   "source": [
    "# join "
   ]
  },
  {
   "cell_type": "code",
   "execution_count": 4,
   "metadata": {
    "colab": {
     "base_uri": "https://localhost:8080/",
     "height": 35
    },
    "colab_type": "code",
    "id": "xpkxR-Y5-NZW",
    "outputId": "50bce1b7-69a3-4719-80aa-f56689f87f1e"
   },
   "outputs": [
    {
     "data": {
      "text/plain": [
       "[(1, ('a', 'AA')), (1, ('b', 'AA')), (5, ('c', 'BB')), (5, ('c', 'CC'))]"
      ]
     },
     "execution_count": 4,
     "metadata": {},
     "output_type": "execute_result"
    }
   ],
   "source": [
    "rdd1 = sc.parallelize( [(1, 'a'), (1, 'b'), (5, 'c'), (2, 'd'), (3, 'e')])\n",
    "rdd2 = sc.parallelize([(1, 'AA'), (5, 'BB'), (5, 'CC'), (6, 'DD')])\n",
    "\n",
    "rdd1.join(rdd2).collect()\n"
   ]
  },
  {
   "cell_type": "markdown",
   "metadata": {},
   "source": [
    "# leftOuterJoin"
   ]
  },
  {
   "cell_type": "code",
   "execution_count": 5,
   "metadata": {
    "colab": {
     "base_uri": "https://localhost:8080/",
     "height": 125
    },
    "colab_type": "code",
    "id": "1NSYAIsZ-NmB",
    "outputId": "1d83d817-8a6f-45b3-d26c-f9b0ed5c7251"
   },
   "outputs": [
    {
     "data": {
      "text/plain": [
       "[(1, ('a', 'AA')),\n",
       " (1, ('b', 'AA')),\n",
       " (2, ('d', None)),\n",
       " (3, ('e', None)),\n",
       " (5, ('c', 'BB')),\n",
       " (5, ('c', 'CC'))]"
      ]
     },
     "execution_count": 5,
     "metadata": {},
     "output_type": "execute_result"
    }
   ],
   "source": [
    "rdd1.leftOuterJoin(rdd2).collect()\n"
   ]
  },
  {
   "cell_type": "markdown",
   "metadata": {},
   "source": [
    "# rightOuterJoin"
   ]
  },
  {
   "cell_type": "code",
   "execution_count": 6,
   "metadata": {
    "colab": {
     "base_uri": "https://localhost:8080/",
     "height": 107
    },
    "colab_type": "code",
    "id": "WmB--8ps-Nzo",
    "outputId": "e95a49b9-d41e-490c-dc98-d433bdf2fb6e"
   },
   "outputs": [
    {
     "data": {
      "text/plain": [
       "[(1, ('a', 'AA')),\n",
       " (1, ('b', 'AA')),\n",
       " (5, ('c', 'BB')),\n",
       " (5, ('c', 'CC')),\n",
       " (6, (None, 'DD'))]"
      ]
     },
     "execution_count": 6,
     "metadata": {},
     "output_type": "execute_result"
    }
   ],
   "source": [
    "rdd1.rightOuterJoin(rdd2).collect()\n"
   ]
  },
  {
   "cell_type": "markdown",
   "metadata": {},
   "source": [
    "# fullOuterJoin"
   ]
  },
  {
   "cell_type": "code",
   "execution_count": 7,
   "metadata": {
    "colab": {
     "base_uri": "https://localhost:8080/",
     "height": 143
    },
    "colab_type": "code",
    "id": "euKiqW0AFWRo",
    "outputId": "23ca4ea4-7bfc-4bda-f5c8-1ba4e96a5c08"
   },
   "outputs": [
    {
     "data": {
      "text/plain": [
       "[(1, ('a', 'AA')),\n",
       " (1, ('b', 'AA')),\n",
       " (2, ('d', None)),\n",
       " (3, ('e', None)),\n",
       " (5, ('c', 'BB')),\n",
       " (5, ('c', 'CC')),\n",
       " (6, (None, 'DD'))]"
      ]
     },
     "execution_count": 7,
     "metadata": {},
     "output_type": "execute_result"
    }
   ],
   "source": [
    "rdd1.fullOuterJoin(rdd2).collect()\n"
   ]
  },
  {
   "cell_type": "markdown",
   "metadata": {},
   "source": [
    "# reduce"
   ]
  },
  {
   "cell_type": "code",
   "execution_count": 8,
   "metadata": {
    "colab": {
     "base_uri": "https://localhost:8080/",
     "height": 35
    },
    "colab_type": "code",
    "id": "mlH1SmYZFWbZ",
    "outputId": "3d840211-4f78-4a49-8caa-200b419c3e5b"
   },
   "outputs": [
    {
     "data": {
      "text/plain": [
       "15"
      ]
     },
     "execution_count": 8,
     "metadata": {},
     "output_type": "execute_result"
    }
   ],
   "source": [
    "sc.parallelize([1, 2, 3, 4, 5]).reduce(lambda x, y: x+y)"
   ]
  },
  {
   "cell_type": "markdown",
   "metadata": {},
   "source": [
    "# mapValues"
   ]
  },
  {
   "cell_type": "code",
   "execution_count": 9,
   "metadata": {
    "colab": {
     "base_uri": "https://localhost:8080/",
     "height": 35
    },
    "colab_type": "code",
    "id": "1P1Q2jljFWiX",
    "outputId": "1c44f8ea-b2ec-44eb-8440-189b0e574c49"
   },
   "outputs": [
    {
     "data": {
      "text/plain": [
       "[('a', 3), ('b', 1)]"
      ]
     },
     "execution_count": 9,
     "metadata": {},
     "output_type": "execute_result"
    }
   ],
   "source": [
    "rdd = sc.parallelize([(\"a\", [\"apple\", \"banana\", \"lemon\"]), (\"b\", [\"grapes\"])])\n",
    "rdd.mapValues(lambda x: len(x)).collect()"
   ]
  },
  {
   "cell_type": "markdown",
   "metadata": {},
   "source": [
    "# map"
   ]
  },
  {
   "cell_type": "code",
   "execution_count": 10,
   "metadata": {
    "colab": {
     "base_uri": "https://localhost:8080/",
     "height": 35
    },
    "colab_type": "code",
    "id": "qUyMSwmh8TuH",
    "outputId": "49581ab3-2f22-4227-d9e4-563e382805d6"
   },
   "outputs": [
    {
     "data": {
      "text/plain": [
       "[('a', 3), ('b', 1)]"
      ]
     },
     "execution_count": 10,
     "metadata": {},
     "output_type": "execute_result"
    }
   ],
   "source": [
    "rdd.map(lambda x: (x[0], len(x[1]))).collect()"
   ]
  },
  {
   "cell_type": "markdown",
   "metadata": {},
   "source": [
    "# first"
   ]
  },
  {
   "cell_type": "code",
   "execution_count": 11,
   "metadata": {
    "colab": {
     "base_uri": "https://localhost:8080/",
     "height": 35
    },
    "colab_type": "code",
    "id": "s939zS9k_k5K",
    "outputId": "f9b85a1b-1ed1-4cce-8062-b8be0e87406c"
   },
   "outputs": [
    {
     "data": {
      "text/plain": [
       "4"
      ]
     },
     "execution_count": 11,
     "metadata": {},
     "output_type": "execute_result"
    }
   ],
   "source": [
    "sc.parallelize([4, 2, 3]).first()"
   ]
  },
  {
   "cell_type": "code",
   "execution_count": 12,
   "metadata": {
    "colab": {
     "base_uri": "https://localhost:8080/",
     "height": 35
    },
    "colab_type": "code",
    "id": "C2Q1YQ8OvHQo",
    "outputId": "8f2a1135-e4cd-4e71-9193-a241dd80f506"
   },
   "outputs": [
    {
     "data": {
      "text/plain": [
       "(4, 2)"
      ]
     },
     "execution_count": 12,
     "metadata": {},
     "output_type": "execute_result"
    }
   ],
   "source": [
    "sc.parallelize([(4, 2), (1, 2), (3, 2)]).first()"
   ]
  },
  {
   "cell_type": "markdown",
   "metadata": {},
   "source": [
    "# countByValue"
   ]
  },
  {
   "cell_type": "code",
   "execution_count": 13,
   "metadata": {
    "colab": {
     "base_uri": "https://localhost:8080/",
     "height": 35
    },
    "colab_type": "code",
    "id": "8PYrJuKjvUeH",
    "outputId": "2afe274c-dcad-4584-f3c0-978edcb153b4"
   },
   "outputs": [
    {
     "data": {
      "text/plain": [
       "defaultdict(int, {1: 2, 2: 3})"
      ]
     },
     "execution_count": 13,
     "metadata": {},
     "output_type": "execute_result"
    }
   ],
   "source": [
    "sc.parallelize([1, 2, 1, 2, 2], 2).countByValue()"
   ]
  },
  {
   "cell_type": "markdown",
   "metadata": {},
   "source": [
    "# coalesce"
   ]
  },
  {
   "cell_type": "code",
   "execution_count": 14,
   "metadata": {
    "colab": {
     "base_uri": "https://localhost:8080/",
     "height": 35
    },
    "colab_type": "code",
    "id": "Ow6evPkoctWw",
    "outputId": "ae8f4979-33ea-4d41-e3eb-9e3487de9c39"
   },
   "outputs": [
    {
     "data": {
      "text/plain": [
       "[1, 2, 3, 4, 5]"
      ]
     },
     "execution_count": 14,
     "metadata": {},
     "output_type": "execute_result"
    }
   ],
   "source": [
    "sc.parallelize([1, 2, 3, 4, 5], 3).coalesce(1).collect()\n"
   ]
  },
  {
   "cell_type": "markdown",
   "metadata": {},
   "source": [
    "# glom"
   ]
  },
  {
   "cell_type": "code",
   "execution_count": 15,
   "metadata": {
    "colab": {
     "base_uri": "https://localhost:8080/",
     "height": 35
    },
    "colab_type": "code",
    "id": "RqWgCT85kGi8",
    "outputId": "abadd45e-1fd7-4927-8ba7-eb501284a262"
   },
   "outputs": [
    {
     "data": {
      "text/plain": [
       "[[1], [2, 3, 4, 5]]"
      ]
     },
     "execution_count": 15,
     "metadata": {},
     "output_type": "execute_result"
    }
   ],
   "source": [
    "sc.parallelize([1, 2, 3, 4, 5], 3).coalesce(2).glom().collect()\n"
   ]
  },
  {
   "cell_type": "code",
   "execution_count": 16,
   "metadata": {
    "colab": {
     "base_uri": "https://localhost:8080/",
     "height": 35
    },
    "colab_type": "code",
    "id": "XiMDYItkrxsp",
    "outputId": "8800012e-455f-48f6-d571-8cd6744e9547"
   },
   "outputs": [
    {
     "data": {
      "text/plain": [
       "[[1, 2], [3, 4], [5, 6], [7, 8]]"
      ]
     },
     "execution_count": 16,
     "metadata": {},
     "output_type": "execute_result"
    }
   ],
   "source": [
    " rdd = sc.parallelize([1,2,3,4,5,6,7,8], 4)\n",
    " rdd.glom().collect()"
   ]
  },
  {
   "cell_type": "markdown",
   "metadata": {},
   "source": [
    "# groupByKey"
   ]
  },
  {
   "cell_type": "code",
   "execution_count": 17,
   "metadata": {
    "colab": {
     "base_uri": "https://localhost:8080/",
     "height": 53
    },
    "colab_type": "code",
    "id": "45lLcfaFwaDy",
    "outputId": "33060130-43d0-42d7-8c77-2d775ba6bc3a"
   },
   "outputs": [
    {
     "data": {
      "text/plain": [
       "[('b', <pyspark.resultiterable.ResultIterable at 0x7fd12ecefb80>),\n",
       " ('a', <pyspark.resultiterable.ResultIterable at 0x7fd12ed2e1f0>)]"
      ]
     },
     "execution_count": 17,
     "metadata": {},
     "output_type": "execute_result"
    }
   ],
   "source": [
    "rdd = sc.parallelize([(\"a\", 1), (\"b\", 1), (\"a\", 1)])\n",
    "rdd.groupByKey().collect()"
   ]
  },
  {
   "cell_type": "code",
   "execution_count": 18,
   "metadata": {
    "colab": {
     "base_uri": "https://localhost:8080/",
     "height": 35
    },
    "colab_type": "code",
    "id": "O2BTUsOAVSJY",
    "outputId": "2f9d76a3-c426-496b-9607-dd4adcb3adc4"
   },
   "outputs": [
    {
     "data": {
      "text/plain": [
       "[('c', 1), ('a', 1), ('b', 1)]"
      ]
     },
     "execution_count": 18,
     "metadata": {},
     "output_type": "execute_result"
    }
   ],
   "source": [
    "rdd = sc.parallelize([(\"c\", 1), (\"a\", 1), (\"b\", 1)])\n",
    "rdd.collect()"
   ]
  },
  {
   "cell_type": "markdown",
   "metadata": {},
   "source": [
    "# sortByKey"
   ]
  },
  {
   "cell_type": "code",
   "execution_count": 19,
   "metadata": {
    "colab": {
     "base_uri": "https://localhost:8080/",
     "height": 35
    },
    "colab_type": "code",
    "id": "UZXol1jJ2wJB",
    "outputId": "5b31574b-e010-4513-9a94-8551ee8624d7"
   },
   "outputs": [
    {
     "data": {
      "text/plain": [
       "[('a', 1), ('b', 1), ('c', 1)]"
      ]
     },
     "execution_count": 19,
     "metadata": {},
     "output_type": "execute_result"
    }
   ],
   "source": [
    "rdd.sortByKey().collect()"
   ]
  },
  {
   "cell_type": "code",
   "execution_count": 20,
   "metadata": {
    "colab": {
     "base_uri": "https://localhost:8080/",
     "height": 35
    },
    "colab_type": "code",
    "id": "E3GNoS5i2zgV",
    "outputId": "925632f6-7dee-4cba-d4aa-23c5f72e3e05"
   },
   "outputs": [
    {
     "data": {
      "text/plain": [
       "[('c1', 'p1'), ('c2', 'p1'), ('c1', 'p1'), ('c2', 'p2'), ('c2', 'p3')]"
      ]
     },
     "execution_count": 20,
     "metadata": {},
     "output_type": "execute_result"
    }
   ],
   "source": [
    "rdd = sc.parallelize([(\"c1\", \"p1\"), (\"c2\", \"p1\"), (\"c1\", \"p1\") , (\"c2\", \"p2\") , (\"c2\", \"p3\")])\n",
    "rdd.collect()\n"
   ]
  },
  {
   "cell_type": "markdown",
   "metadata": {},
   "source": [
    "# aggregateByKey"
   ]
  },
  {
   "cell_type": "code",
   "execution_count": 21,
   "metadata": {
    "colab": {
     "base_uri": "https://localhost:8080/",
     "height": 35
    },
    "colab_type": "code",
    "id": "uohkxiYl5rt2",
    "outputId": "c65ed17e-64ed-47b1-c6cc-255c0c4d7ce8"
   },
   "outputs": [
    {
     "data": {
      "text/plain": [
       "[('c2', {'p1', 'p2', 'p3'}), ('c1', {'p1'})]"
      ]
     },
     "execution_count": 21,
     "metadata": {},
     "output_type": "execute_result"
    }
   ],
   "source": [
    "def mySequenceFunction(x, y):\n",
    "    x.add(y)\n",
    "    return x\n",
    "\n",
    "\n",
    "def myCombinerFunction(x, y):\n",
    "    x.update(y)\n",
    "    return x\n",
    "\n",
    "rdd.aggregateByKey(set([]), mySequenceFunction, myCombinerFunction ).collect()"
   ]
  },
  {
   "cell_type": "markdown",
   "metadata": {},
   "source": [
    "# createDataFrame"
   ]
  },
  {
   "cell_type": "code",
   "execution_count": 22,
   "metadata": {
    "colab": {
     "base_uri": "https://localhost:8080/",
     "height": 35
    },
    "colab_type": "code",
    "id": "4_ItI6cSTQrt",
    "outputId": "8318578f-f345-402b-a5d7-f05d4dc2c236"
   },
   "outputs": [
    {
     "data": {
      "text/plain": [
       "[Row(drinker='Chris', beer='Berliner', score=5)]"
      ]
     },
     "execution_count": 22,
     "metadata": {},
     "output_type": "execute_result"
    }
   ],
   "source": [
    "a = [('Chris', 'Berliner', 5)]\n",
    "sqlContext.createDataFrame(a, ['drinker', 'beer', 'score']).collect()"
   ]
  },
  {
   "cell_type": "code",
   "execution_count": 23,
   "metadata": {
    "colab": {
     "base_uri": "https://localhost:8080/",
     "height": 35
    },
    "colab_type": "code",
    "id": "43l7vpi1_7gf",
    "outputId": "2b72c8d1-db4c-4e6a-c17f-e9cd4e917751"
   },
   "outputs": [
    {
     "data": {
      "text/plain": [
       "[Row(drinker='Chris', beer='Berliner', score=5)]"
      ]
     },
     "execution_count": 23,
     "metadata": {},
     "output_type": "execute_result"
    }
   ],
   "source": [
    "spark.createDataFrame(a, ['drinker', 'beer', 'score']).collect()"
   ]
  },
  {
   "cell_type": "code",
   "execution_count": 24,
   "metadata": {
    "colab": {
     "base_uri": "https://localhost:8080/",
     "height": 305
    },
    "colab_type": "code",
    "id": "I2eiKpYoAruH",
    "outputId": "ab746040-d1d4-41e4-90df-da4925f434f3"
   },
   "outputs": [
    {
     "name": "stdout",
     "output_type": "stream",
     "text": [
      "+-------+--------+\n",
      "|Drinker|    Beer|\n",
      "+-------+--------+\n",
      "|  Chris|     Bud|\n",
      "|    Kia|Berliner|\n",
      "|   Matt|    ARJK|\n",
      "+-------+--------+\n",
      "\n",
      "+-------+------+\n",
      "|Drinker|   Bar|\n",
      "+-------+------+\n",
      "|  Chris|Bohene|\n",
      "|    Kia|Little|\n",
      "|  Oscar| Griff|\n",
      "+-------+------+\n",
      "\n"
     ]
    }
   ],
   "source": [
    "likes = [('Chris', 'Bud'), ('Kia', 'Berliner'), ('Matt', 'ARJK')]\n",
    "frequents = [('Chris', 'Bohene'), ('Kia', 'Little'), ('Oscar', 'Griff')] \n",
    "\n",
    "likesName=['Drinker', 'Beer']\n",
    "frequentsName=['Drinker', 'Bar']\n",
    "\n",
    "likesDF = sqlContext.createDataFrame(likes, likesName)\n",
    "frequentsDF = sqlContext.createDataFrame(frequents, frequentsName)\n",
    "\n",
    "likesDF.show()\n",
    "frequentsDF.show()"
   ]
  },
  {
   "cell_type": "markdown",
   "metadata": {},
   "source": [
    "# join"
   ]
  },
  {
   "cell_type": "code",
   "execution_count": 25,
   "metadata": {
    "colab": {
     "base_uri": "https://localhost:8080/",
     "height": 161
    },
    "colab_type": "code",
    "id": "-CDxXdbLB9-C",
    "outputId": "f533bdd8-7609-4965-8d67-9764ecb5cc06"
   },
   "outputs": [
    {
     "name": "stdout",
     "output_type": "stream",
     "text": [
      "+-------+--------+-------+------+\n",
      "|Drinker|    Beer|Drinker|   Bar|\n",
      "+-------+--------+-------+------+\n",
      "|  Chris|     Bud|  Chris|Bohene|\n",
      "|    Kia|Berliner|    Kia|Little|\n",
      "|   null|    null|  Oscar| Griff|\n",
      "+-------+--------+-------+------+\n",
      "\n"
     ]
    }
   ],
   "source": [
    "likesDF.join(frequentsDF, likesDF.Drinker == frequentsDF.Drinker, 'right').show()"
   ]
  },
  {
   "cell_type": "markdown",
   "metadata": {},
   "source": [
    "# full join"
   ]
  },
  {
   "cell_type": "code",
   "execution_count": 26,
   "metadata": {
    "colab": {
     "base_uri": "https://localhost:8080/",
     "height": 179
    },
    "colab_type": "code",
    "id": "EKAPXzzyIXkX",
    "outputId": "c4422203-25ae-4a9a-9fc4-26995d222b44"
   },
   "outputs": [
    {
     "name": "stdout",
     "output_type": "stream",
     "text": [
      "+-------+--------+-------+------+\n",
      "|Drinker|    Beer|Drinker|   Bar|\n",
      "+-------+--------+-------+------+\n",
      "|  Chris|     Bud|  Chris|Bohene|\n",
      "|    Kia|Berliner|    Kia|Little|\n",
      "|   null|    null|  Oscar| Griff|\n",
      "|   Matt|    ARJK|   null|  null|\n",
      "+-------+--------+-------+------+\n",
      "\n"
     ]
    }
   ],
   "source": [
    "likesDF.join(frequentsDF, likesDF.Drinker == frequentsDF.Drinker, 'full').show()"
   ]
  },
  {
   "cell_type": "markdown",
   "metadata": {},
   "source": [
    "# left_anti"
   ]
  },
  {
   "cell_type": "code",
   "execution_count": 27,
   "metadata": {
    "colab": {
     "base_uri": "https://localhost:8080/",
     "height": 125
    },
    "colab_type": "code",
    "id": "cmLLZkq0I3sA",
    "outputId": "d6df70b1-881e-403c-ce61-09b2ff372e06"
   },
   "outputs": [
    {
     "name": "stdout",
     "output_type": "stream",
     "text": [
      "+-------+----+\n",
      "|Drinker|Beer|\n",
      "+-------+----+\n",
      "|   Matt|ARJK|\n",
      "+-------+----+\n",
      "\n"
     ]
    }
   ],
   "source": [
    "likesDF.join(frequentsDF, likesDF.Drinker == frequentsDF.Drinker, 'left_anti').show()"
   ]
  },
  {
   "cell_type": "code",
   "execution_count": 28,
   "metadata": {
    "colab": {
     "base_uri": "https://localhost:8080/",
     "height": 35
    },
    "colab_type": "code",
    "id": "ncXg-s47Jvoo",
    "outputId": "cf60a2a6-6a9d-4199-87b7-ee335b1e5188"
   },
   "outputs": [
    {
     "data": {
      "text/plain": [
       "3"
      ]
     },
     "execution_count": 28,
     "metadata": {},
     "output_type": "execute_result"
    }
   ],
   "source": [
    "likesDF.count()"
   ]
  },
  {
   "cell_type": "code",
   "execution_count": 29,
   "metadata": {
    "colab": {
     "base_uri": "https://localhost:8080/",
     "height": 323
    },
    "colab_type": "code",
    "id": "YlbpwelIp-z8",
    "outputId": "d5cd4777-424a-4713-ba8d-801181075975"
   },
   "outputs": [
    {
     "name": "stdout",
     "output_type": "stream",
     "text": [
      "+---+---+\n",
      "| id|  c|\n",
      "+---+---+\n",
      "|  a|  1|\n",
      "|  b|  1|\n",
      "|  b|  1|\n",
      "|  a|  2|\n",
      "+---+---+\n",
      "\n",
      "+---+---+\n",
      "| id|  c|\n",
      "+---+---+\n",
      "|  a|  1|\n",
      "|  b|  1|\n",
      "|  a|  2|\n",
      "+---+---+\n",
      "\n"
     ]
    }
   ],
   "source": [
    "df = spark.createDataFrame([('a', 1), ('b', 1), ('b', 1), ('a', 2)], ('id', 'c'))\n",
    "df.show()\n",
    "df.distinct().show()"
   ]
  },
  {
   "cell_type": "code",
   "execution_count": 30,
   "metadata": {
    "colab": {
     "base_uri": "https://localhost:8080/",
     "height": 233
    },
    "colab_type": "code",
    "id": "xafz6OItqsgd",
    "outputId": "d8d341fd-cdd1-4330-a9a4-291456308180"
   },
   "outputs": [
    {
     "name": "stdout",
     "output_type": "stream",
     "text": [
      "+---+---+\n",
      "| id|  c|\n",
      "+---+---+\n",
      "|  a|  1|\n",
      "|  b|  1|\n",
      "|  b|  1|\n",
      "|  a|  2|\n",
      "+---+---+\n",
      "\n",
      "[Row(id='a', c=1), Row(id='b', c=1), Row(id='b', c=1), Row(id='a', c=2)]\n",
      "[['a', 1], ['b', 1], ['b', 1], ['a', 2]]\n",
      "[('a', 1), ('b', 1), ('b', 1), ('a', 2)]\n"
     ]
    }
   ],
   "source": [
    "df = spark.createDataFrame([('a', 1), ('b', 1), ('b', 1), ('a', 2)], ('id', 'c'))\n",
    "df.show()\n",
    "rdd = df.rdd\n",
    "print(rdd.collect())\n",
    "\n",
    "print(df.rdd.map(list).collect())\n",
    "print(df.rdd.map(tuple).collect())"
   ]
  },
  {
   "cell_type": "markdown",
   "metadata": {},
   "source": [
    "# withColumn"
   ]
  },
  {
   "cell_type": "code",
   "execution_count": 31,
   "metadata": {
    "colab": {
     "base_uri": "https://localhost:8080/",
     "height": 341
    },
    "colab_type": "code",
    "id": "AY9EcLQbrSMM",
    "outputId": "0925fec8-39e3-45d2-fa57-aaa5c211d422"
   },
   "outputs": [
    {
     "name": "stdout",
     "output_type": "stream",
     "text": [
      "+----+\n",
      "|word|\n",
      "+----+\n",
      "|   a|\n",
      "|   b|\n",
      "|   b|\n",
      "|   c|\n",
      "+----+\n",
      "\n",
      "+----+-----+\n",
      "|word|COUNT|\n",
      "+----+-----+\n",
      "|   a|    1|\n",
      "|   b|    1|\n",
      "|   b|    1|\n",
      "|   c|    1|\n",
      "+----+-----+\n",
      "\n"
     ]
    }
   ],
   "source": [
    "df = spark.createDataFrame([['a'], ['b'], ['b'], ['c']], (['word']))\n",
    "df.show()\n",
    "\n",
    "from pyspark.sql.functions import lit\n",
    "new_df=df.withColumn(\"COUNT\", lit(1))\n",
    "\n",
    "new_df.show()"
   ]
  },
  {
   "cell_type": "markdown",
   "metadata": {},
   "source": [
    "# groupBy"
   ]
  },
  {
   "cell_type": "code",
   "execution_count": 32,
   "metadata": {
    "colab": {
     "base_uri": "https://localhost:8080/",
     "height": 161
    },
    "colab_type": "code",
    "id": "jFzIofcGPfxp",
    "outputId": "48648bef-f2e3-4a64-e35b-1e2845f7bb2a"
   },
   "outputs": [
    {
     "name": "stdout",
     "output_type": "stream",
     "text": [
      "+----+----------+\n",
      "|word|sum(COUNT)|\n",
      "+----+----------+\n",
      "|   c|         1|\n",
      "|   b|         2|\n",
      "|   a|         1|\n",
      "+----+----------+\n",
      "\n"
     ]
    }
   ],
   "source": [
    "from pyspark.sql import functions as func\n",
    "new_df.groupBy(\"word\").agg(func.sum(\"COUNT\")).show()\n"
   ]
  },
  {
   "cell_type": "code",
   "execution_count": 33,
   "metadata": {
    "colab": {
     "base_uri": "https://localhost:8080/",
     "height": 305
    },
    "colab_type": "code",
    "id": "xL-ROpzDkaOP",
    "outputId": "1e17264f-9349-45c2-c1f7-3429f3762f05"
   },
   "outputs": [
    {
     "name": "stdout",
     "output_type": "stream",
     "text": [
      "+------+---+\n",
      "|  Name|Age|\n",
      "+------+---+\n",
      "| Alice| 25|\n",
      "|Robert| 12|\n",
      "| Chris| 45|\n",
      "+------+---+\n",
      "\n",
      "+------+---+--------+\n",
      "|  Name|Age|Maturity|\n",
      "+------+---+--------+\n",
      "| Alice| 25|   Adult|\n",
      "|Robert| 12|   Child|\n",
      "| Chris| 45|   Adult|\n",
      "+------+---+--------+\n",
      "\n"
     ]
    }
   ],
   "source": [
    "from pyspark.sql.types import StringType\n",
    "from pyspark.sql.functions import udf\n",
    "\n",
    "l = [('Alice', 25), ('Robert', 12), ('Chris', 45)]\n",
    "df = sqlContext.createDataFrame(l, ['Name', 'Age'])\n",
    "df.show()\n",
    "\n",
    "\n",
    "maturity_udf = udf(lambda age: \"Adult\" if age >=18 else \"Child\", StringType())\n",
    "\n",
    "newdf=df.withColumn(\"Maturity\", maturity_udf(df.Age))\n",
    "newdf.show()"
   ]
  },
  {
   "cell_type": "code",
   "execution_count": 34,
   "metadata": {
    "colab": {
     "base_uri": "https://localhost:8080/",
     "height": 125
    },
    "colab_type": "code",
    "id": "-eaQwifam-xC",
    "outputId": "f90d2aca-7d2b-439c-fa61-9e8d1b17b9c3"
   },
   "outputs": [
    {
     "name": "stdout",
     "output_type": "stream",
     "text": [
      "+-----+---+\n",
      "| Name|Age|\n",
      "+-----+---+\n",
      "|Chris| 45|\n",
      "+-----+---+\n",
      "\n"
     ]
    }
   ],
   "source": [
    "df.orderBy(\"Age\", ascending=False).limit(1).show()"
   ]
  },
  {
   "cell_type": "code",
   "execution_count": 35,
   "metadata": {
    "colab": {
     "base_uri": "https://localhost:8080/",
     "height": 53
    },
    "colab_type": "code",
    "id": "px64C_L6wXGE",
    "outputId": "17478de9-afa8-43a7-a891-9767e876f86c"
   },
   "outputs": [
    {
     "name": "stdout",
     "output_type": "stream",
     "text": [
      "[array([0.76846505, 0.05705327]), array([0.40446678, 0.77749   ]), array([0.51566049, 0.15785746]), array([0.69676384, 0.65762969])]\n"
     ]
    },
    {
     "data": {
      "text/plain": [
       "array([2.38535615, 1.65003043])"
      ]
     },
     "execution_count": 35,
     "metadata": {},
     "output_type": "execute_result"
    }
   ],
   "source": [
    "# generate some data to demonstrate \n",
    "# mat = np.arange(100).reshape(10, -1)\n",
    "import numpy as np\n",
    "mat = np.random.rand(8,1).reshape(4, -1)\n",
    "\n",
    "rdd = sc.parallelize(mat)\n",
    "\n",
    "\n",
    "print(rdd.collect())\n",
    "\n",
    "rdd.reduce(lambda x, y: np.add(x, y))\n",
    "\n"
   ]
  },
  {
   "cell_type": "code",
   "execution_count": 36,
   "metadata": {
    "colab": {
     "base_uri": "https://localhost:8080/",
     "height": 179
    },
    "colab_type": "code",
    "id": "n-9Nk-A4u3zf",
    "outputId": "12b5ce07-370e-4d8c-f3aa-a9c2c6dae5bd"
   },
   "outputs": [
    {
     "name": "stdout",
     "output_type": "stream",
     "text": [
      "+-----+--------------------+\n",
      "|label|            features|\n",
      "+-----+--------------------+\n",
      "|    0|[0.15242048972476...|\n",
      "|    1|[0.14090972448097...|\n",
      "|    1|[0.29773734150601...|\n",
      "|    0|[0.88440300545562...|\n",
      "+-----+--------------------+\n",
      "\n"
     ]
    }
   ],
   "source": [
    "\n",
    "from pyspark.ml.linalg import Vectors\n",
    "\n",
    "size=2\n",
    "\n",
    "data = [(0, Vectors.dense(np.random.rand(size)),),\n",
    "        (1, Vectors.dense(np.random.rand(size)),),\n",
    "        (1, Vectors.dense(np.random.rand(size)),),\n",
    "        (0, Vectors.dense(np.random.rand(size)),)]\n",
    "\n",
    "df = spark.createDataFrame(data, [\"label\", \"features\"])\n",
    "df.show()\n",
    "\n",
    "# a = df.rdd.map(lambda x: x[1]).reduce(lambda x,y: x + y )\n",
    "# print(a)"
   ]
  },
  {
   "cell_type": "code",
   "execution_count": 37,
   "metadata": {
    "colab": {
     "base_uri": "https://localhost:8080/",
     "height": 71
    },
    "colab_type": "code",
    "id": "3441OIR0Qe2D",
    "outputId": "93f105b3-f61e-4649-f604-d6688086fc85"
   },
   "outputs": [
    {
     "name": "stdout",
     "output_type": "stream",
     "text": [
      "[0.29,0.83]\n",
      "[0.72,0.43]\n"
     ]
    },
    {
     "data": {
      "text/plain": [
       "array([1.01, 1.26])"
      ]
     },
     "execution_count": 37,
     "metadata": {},
     "output_type": "execute_result"
    }
   ],
   "source": [
    "a = Vectors.dense(np.round(np.random.rand(size), 2))\n",
    "b = Vectors.dense(np.round(np.random.rand(size), 2))\n",
    "\n",
    "print(a)\n",
    "print(b)\n",
    "\n",
    "\n",
    "np.add(a , b) "
   ]
  },
  {
   "cell_type": "code",
   "execution_count": 38,
   "metadata": {
    "colab": {
     "base_uri": "https://localhost:8080/",
     "height": 35
    },
    "colab_type": "code",
    "id": "e6yUAYuJXQv-",
    "outputId": "08c56f4b-659b-41dd-f561-888adcd3758c"
   },
   "outputs": [
    {
     "data": {
      "text/plain": [
       "array([], shape=(0, 1), dtype=float64)"
      ]
     },
     "execution_count": 38,
     "metadata": {},
     "output_type": "execute_result"
    }
   ],
   "source": [
    "np.random.sample([0, 1])"
   ]
  }
 ],
 "metadata": {
  "colab": {
   "collapsed_sections": [],
   "name": "Examples-CS777.ipynb",
   "provenance": []
  },
  "kernelspec": {
   "display_name": "Python 3",
   "language": "python",
   "name": "python3"
  },
  "language_info": {
   "codemirror_mode": {
    "name": "ipython",
    "version": 3
   },
   "file_extension": ".py",
   "mimetype": "text/x-python",
   "name": "python",
   "nbconvert_exporter": "python",
   "pygments_lexer": "ipython3",
   "version": "3.8.5"
  }
 },
 "nbformat": 4,
 "nbformat_minor": 1
}
