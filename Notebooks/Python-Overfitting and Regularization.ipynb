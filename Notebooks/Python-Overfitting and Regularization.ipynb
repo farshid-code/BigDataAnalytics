{
 "cells": [
  {
   "cell_type": "code",
   "execution_count": null,
   "metadata": {},
   "outputs": [],
   "source": [
    "import pandas as pd\n",
    "import numpy as np\n",
    "import matplotlib.pyplot as plt\n",
    "import seaborn as sns\n",
    "from sklearn import metrics\n",
    "from sklearn.linear_model import LinearRegression\n",
    "from sklearn.model_selection import train_test_split\n",
    "from sklearn.preprocessing import PolynomialFeatures\n",
    "from sklearn.pipeline import make_pipeline\n",
    "from sklearn import preprocessing\n",
    "\n",
    "# allow plots to appear directly in the notebook\n",
    "% matplotlib inline"
   ]
  },
  {
   "cell_type": "code",
   "execution_count": 2,
   "metadata": {},
   "outputs": [
    {
     "data": {
      "text/html": [
       "<div>\n",
       "<style scoped>\n",
       "    .dataframe tbody tr th:only-of-type {\n",
       "        vertical-align: middle;\n",
       "    }\n",
       "\n",
       "    .dataframe tbody tr th {\n",
       "        vertical-align: top;\n",
       "    }\n",
       "\n",
       "    .dataframe thead th {\n",
       "        text-align: right;\n",
       "    }\n",
       "</style>\n",
       "<table border=\"1\" class=\"dataframe\">\n",
       "  <thead>\n",
       "    <tr style=\"text-align: right;\">\n",
       "      <th></th>\n",
       "      <th>TV</th>\n",
       "      <th>Radio</th>\n",
       "      <th>Newspaper</th>\n",
       "      <th>Sales</th>\n",
       "    </tr>\n",
       "  </thead>\n",
       "  <tbody>\n",
       "    <tr>\n",
       "      <th>0</th>\n",
       "      <td>230.1</td>\n",
       "      <td>37.8</td>\n",
       "      <td>69.2</td>\n",
       "      <td>22.1</td>\n",
       "    </tr>\n",
       "    <tr>\n",
       "      <th>1</th>\n",
       "      <td>44.5</td>\n",
       "      <td>39.3</td>\n",
       "      <td>45.1</td>\n",
       "      <td>10.4</td>\n",
       "    </tr>\n",
       "    <tr>\n",
       "      <th>2</th>\n",
       "      <td>17.2</td>\n",
       "      <td>45.9</td>\n",
       "      <td>69.3</td>\n",
       "      <td>12.0</td>\n",
       "    </tr>\n",
       "    <tr>\n",
       "      <th>3</th>\n",
       "      <td>151.5</td>\n",
       "      <td>41.3</td>\n",
       "      <td>58.5</td>\n",
       "      <td>16.5</td>\n",
       "    </tr>\n",
       "    <tr>\n",
       "      <th>4</th>\n",
       "      <td>180.8</td>\n",
       "      <td>10.8</td>\n",
       "      <td>58.4</td>\n",
       "      <td>17.9</td>\n",
       "    </tr>\n",
       "    <tr>\n",
       "      <th>5</th>\n",
       "      <td>8.7</td>\n",
       "      <td>48.9</td>\n",
       "      <td>75.0</td>\n",
       "      <td>7.2</td>\n",
       "    </tr>\n",
       "    <tr>\n",
       "      <th>6</th>\n",
       "      <td>57.5</td>\n",
       "      <td>32.8</td>\n",
       "      <td>23.5</td>\n",
       "      <td>11.8</td>\n",
       "    </tr>\n",
       "    <tr>\n",
       "      <th>7</th>\n",
       "      <td>120.2</td>\n",
       "      <td>19.6</td>\n",
       "      <td>11.6</td>\n",
       "      <td>13.2</td>\n",
       "    </tr>\n",
       "    <tr>\n",
       "      <th>8</th>\n",
       "      <td>8.6</td>\n",
       "      <td>2.1</td>\n",
       "      <td>1.0</td>\n",
       "      <td>4.8</td>\n",
       "    </tr>\n",
       "    <tr>\n",
       "      <th>9</th>\n",
       "      <td>199.8</td>\n",
       "      <td>2.6</td>\n",
       "      <td>21.2</td>\n",
       "      <td>15.6</td>\n",
       "    </tr>\n",
       "  </tbody>\n",
       "</table>\n",
       "</div>"
      ],
      "text/plain": [
       "      TV  Radio  Newspaper  Sales\n",
       "0  230.1   37.8       69.2   22.1\n",
       "1   44.5   39.3       45.1   10.4\n",
       "2   17.2   45.9       69.3   12.0\n",
       "3  151.5   41.3       58.5   16.5\n",
       "4  180.8   10.8       58.4   17.9\n",
       "5    8.7   48.9       75.0    7.2\n",
       "6   57.5   32.8       23.5   11.8\n",
       "7  120.2   19.6       11.6   13.2\n",
       "8    8.6    2.1        1.0    4.8\n",
       "9  199.8    2.6       21.2   15.6"
      ]
     },
     "execution_count": 2,
     "metadata": {},
     "output_type": "execute_result"
    }
   ],
   "source": [
    "df_advertising = pd.read_csv(\"data\\\\advertising.csv\")\n",
    "df_advertising.head(10)"
   ]
  },
  {
   "cell_type": "code",
   "execution_count": 3,
   "metadata": {},
   "outputs": [
    {
     "name": "stdout",
     "output_type": "stream",
     "text": [
      "[7.99142087]\n",
      "[[0.04896291]]\n"
     ]
    }
   ],
   "source": [
    "df_advertising = df_advertising.head(40)\n",
    "X = df_advertising[['TV']]\n",
    "y = df_advertising[[\"Sales\"]]\n",
    "\n",
    "SkLearn_model = LinearRegression()\n",
    "SkLearn_result = SkLearn_model.fit(X, y)\n",
    "\n",
    "# print the coefficients\n",
    "print(SkLearn_result.intercept_)\n",
    "print(SkLearn_result.coef_)\n",
    "#Model Interpretation \n",
    "#The Interpretation comes out as : y = 6.9748 + 0.05546x"
   ]
  },
  {
   "cell_type": "code",
   "execution_count": 30,
   "metadata": {},
   "outputs": [
    {
     "name": "stdout",
     "output_type": "stream",
     "text": [
      "(40, 1)\n",
      "(20, 1)\n",
      "Train error 2.3889816179335313\n",
      "Test error 1.9244322226523658\n"
     ]
    }
   ],
   "source": [
    "\n",
    "X = df_advertising[['TV']]\n",
    "y = df_advertising.Sales\n",
    "print(X.shape)\n",
    "# Split data\n",
    "X_train, X_test, y_train, y_test = train_test_split(X, y, random_state=3, train_size=0.5)\n",
    "\n",
    "print(X_train.shape)\n",
    "# Instantiate model\n",
    "lm2 = LinearRegression()\n",
    "\n",
    "# Fit Model\n",
    "lm2.fit(X_train, y_train)\n",
    "\n",
    "# Predict\n",
    "y_pred = lm2.predict(X_test)\n",
    "y_pred_train = lm2.predict(X_train)\n",
    "\n",
    "# RMSE\n",
    "print(\"Train error\",np.sqrt(metrics.mean_squared_error(y_train, y_pred_train)))\n",
    "print(\"Test error\",np.sqrt(metrics.mean_squared_error(y_test, y_pred)))\n"
   ]
  },
  {
   "cell_type": "code",
   "execution_count": 26,
   "metadata": {},
   "outputs": [
    {
     "name": "stdout",
     "output_type": "stream",
     "text": [
      "Test error 1.9244263486758628\n",
      "Test error 1.9237484434030971\n"
     ]
    }
   ],
   "source": [
    "from sklearn.linear_model import Ridge, Lasso\n",
    "\n",
    "ridgeReg = Ridge(alpha=1)\n",
    "ridgeReg.fit(X_train, y_train)\n",
    "y_pred = ridgeReg.predict(X_test)\n",
    "# RMSE\n",
    "print(\"Test error\",np.sqrt(metrics.mean_squared_error(y_test, y_pred)))\n",
    "\n",
    "lassoReg = Lasso(alpha=0.3, fit_intercept=True)\n",
    "lassoReg.fit(X_train, y_train)\n",
    "y_pred = lassoReg.predict(X_test)\n",
    "# RMSE\n",
    "print(\"Test error\",np.sqrt(metrics.mean_squared_error(y_test, y_pred)))"
   ]
  },
  {
   "cell_type": "code",
   "execution_count": 36,
   "metadata": {},
   "outputs": [
    {
     "name": "stdout",
     "output_type": "stream",
     "text": [
      "Train error 0.011915651687034082\n",
      "Test error 506.34509034258565\n"
     ]
    },
    {
     "name": "stderr",
     "output_type": "stream",
     "text": [
      "c:\\Users\\trajanod\\Anaconda3\\envs\\transformers\\lib\\site-packages\\sklearn\\base.py:445: UserWarning: X does not have valid feature names, but PolynomialFeatures was fitted with feature names\n",
      "  warnings.warn(\n"
     ]
    },
    {
     "data": {
      "image/png": "[encoded data removed]",
      "text/plain": [
       "<Figure size 432x288 with 1 Axes>"
      ]
     },
     "metadata": {
      "needs_background": "light"
     },
     "output_type": "display_data"
    }
   ],
   "source": [
    "scaler = preprocessing.StandardScaler()\n",
    "degree = 20\n",
    "polyreg = make_pipeline(PolynomialFeatures(degree), scaler, LinearRegression())\n",
    "polyreg.fit(X_train, y_train)\n",
    "y_pred = polyreg.predict(X_test)\n",
    "y_pred_train = polyreg.predict(X_train)\n",
    "print(\"Train error\", np.sqrt(metrics.mean_squared_error(y_train, y_pred_train)))\n",
    "print(\"Test error\",np.sqrt(metrics.mean_squared_error(y_test, y_pred)))\n",
    "X = X_train['TV']\n",
    "X_seq = np.linspace(X.min(), X.max(), 300).reshape(-1, 1)\n",
    "plt.figure()\n",
    "plt.scatter(X_train['TV'], y_train)\n",
    "plt.scatter(X_test['TV'], y_test)\n",
    "plt.plot(X_seq, polyreg.predict(X_seq), color=\"black\")\n",
    "plt.title(\"Polynomial regression with degree \" + str(degree))\n",
    "plt.show()"
   ]
  },
  {
   "cell_type": "markdown",
   "metadata": {
    "collapsed": false
   },
   "source": []
  },
  {
   "cell_type": "code",
   "execution_count": 9,
   "metadata": {},
   "outputs": [
    {
     "name": "stdout",
     "output_type": "stream",
     "text": [
      "[0.09090909090909091, 0.1, 0.1111111111111111, 0.125, 0.14285714285714285, 0.16666666666666666, 0.2, 0.25, 0.3333333333333333, 0.5]\n",
      "[0.0, 37.06177235954234, 562.8346604460227, -9505.839702192607, 53720.966376477474, -158449.0278154834, 270559.43490072456, -269332.5218797353, 145089.46416085493, -32677.785599879327]\n",
      "[0.0, 3.706177235954234, 56.28346604460227, -950.5839702192607, 5372.096637647748, -15844.90278154834, 27055.94349007246, -26933.25218797353, 14508.946416085493, -3267.778559987933]\n"
     ]
    },
    {
     "name": "stderr",
     "output_type": "stream",
     "text": [
      "c:\\Users\\trajanod\\Anaconda3\\envs\\transformers\\lib\\site-packages\\sklearn\\base.py:445: UserWarning: X does not have valid feature names, but PolynomialFeatures was fitted with feature names\n",
      "  warnings.warn(\n"
     ]
    },
    {
     "data": {
      "image/png": "[encoded data removed]",
      "text/plain": [
       "<Figure size 432x288 with 1 Axes>"
      ]
     },
     "metadata": {
      "needs_background": "light"
     },
     "output_type": "display_data"
    }
   ],
   "source": [
    "red_c = [1/x for x in range(degree+2,1, -1)]\n",
    "print(red_c)\n",
    "print(list(polyreg[2].coef_))\n",
    "polyreg[2].coef_ = polyreg[2].coef_*.1\n",
    "print(list(polyreg[2].coef_))\n",
    "X = X_train['TV']\n",
    "X_seq = np.linspace(X.min(), X.max(), 300).reshape(-1, 1)\n",
    "plt.figure()\n",
    "plt.scatter(X_train['TV'], y_train)\n",
    "plt.scatter(X_test['TV'], y_test)\n",
    "plt.plot(X_seq, polyreg.predict(X_seq), color=\"black\")\n",
    "plt.title(\"Polynomial regression with degree \" + str(degree))\n",
    "plt.show()"
   ]
  },
  {
   "cell_type": "code",
   "execution_count": 40,
   "metadata": {},
   "outputs": [],
   "source": []
  },
  {
   "cell_type": "code",
   "execution_count": 10,
   "metadata": {},
   "outputs": [
    {
     "data": {
      "image/png": "[encoded data removed]",
      "text/plain": [
       "<Figure size 432x288 with 1 Axes>"
      ]
     },
     "metadata": {
      "needs_background": "light"
     },
     "output_type": "display_data"
    },
    {
     "name": "stdout",
     "output_type": "stream",
     "text": [
      "2.3510194011008383\n",
      "1.7951853801313518\n"
     ]
    }
   ],
   "source": [
    "import numpy\n",
    "\n",
    "mymodel = numpy.poly1d(numpy.polyfit(X, y_train, 2))\n",
    "myline = numpy.linspace(X.min(), X.max(), 300)\n",
    "plt.scatter(X, y_train)\n",
    "plt.scatter(X_test['TV'], y_test)\n",
    "plt.plot(myline, mymodel(myline))\n",
    "plt.show()\n",
    "y_pred = mymodel(X_test)\n",
    "y_pred_train = mymodel(X_train)\n",
    "print(np.sqrt(metrics.mean_squared_error(y_train, y_pred_train)))\n",
    "print(np.sqrt(metrics.mean_squared_error(y_test, y_pred)))"
   ]
  },
  {
   "cell_type": "code",
   "execution_count": 11,
   "metadata": {},
   "outputs": [
    {
     "name": "stdout",
     "output_type": "stream",
     "text": [
      "1 2.3889816179335317 1.9244322226523658\n",
      "2 2.3510194011008383 1.7951853801313518\n",
      "3 2.3445657338346786 1.8193741132041814\n",
      "4 2.2140828837687745 1.9340163025029795\n",
      "5 2.208038807231382 1.8847059415563703\n",
      "6 2.001988977687225 2.412181425191424\n",
      "7 1.9784174248859971 2.463472862540226\n",
      "8 1.8732332316613618 2.3952375118970046\n",
      "9 1.8465297784496808 2.683133617309382\n"
     ]
    },
    {
     "data": {
      "image/png": "[encoded data removed]",
      "text/plain": [
       "<Figure size 432x288 with 1 Axes>"
      ]
     },
     "metadata": {
      "needs_background": "light"
     },
     "output_type": "display_data"
    },
    {
     "data": {
      "image/png": "[encoded data removed]",
      "text/plain": [
       "<Figure size 432x288 with 1 Axes>"
      ]
     },
     "metadata": {
      "needs_background": "light"
     },
     "output_type": "display_data"
    }
   ],
   "source": [
    "train_l = []\n",
    "test_l = []\n",
    "for i in range(1, 10):\n",
    "    mymodel = numpy.poly1d(numpy.polyfit(X, y_train, i))\n",
    "    y_pred = mymodel(X_test)\n",
    "    y_pred_train = mymodel(X_train)\n",
    "    train = np.sqrt(metrics.mean_squared_error(y_train, y_pred_train))\n",
    "    test = np.sqrt(metrics.mean_squared_error(y_test, y_pred))\n",
    "    train_l.append(train)\n",
    "    test_l.append(test)\n",
    "    print(i, train, test)\n",
    "l = numpy.linspace(1, 9, 9)\n",
    "plt.plot(l, train_l)\n",
    "plt.show()\n",
    "plt.plot(l, test_l)\n",
    "plt.show()"
   ]
  },
  {
   "cell_type": "code",
   "execution_count": 12,
   "metadata": {},
   "outputs": [
    {
     "name": "stdout",
     "output_type": "stream",
     "text": [
      "2.346962300489941\n",
      "1.8217560304638818\n"
     ]
    }
   ],
   "source": [
    "from sklearn.linear_model import Ridge\n",
    "from sklearn.preprocessing import PolynomialFeatures\n",
    "from sklearn.pipeline import make_pipeline\n",
    "from sklearn.linear_model import LinearRegression\n",
    "from sklearn.preprocessing import StandardScaler\n",
    "\n",
    "scaler = StandardScaler()\n",
    "ridgeReg = Ridge(alpha=0.1)\n",
    "degree = 3\n",
    "polyreg = make_pipeline(PolynomialFeatures(degree), scaler, Ridge(alpha=0.1))\n",
    "polyreg.fit(X_train, y_train)\n",
    "y_pred = polyreg.predict(X_test)\n",
    "y_pred_train = polyreg.predict(X_train)\n",
    "print(np.sqrt(metrics.mean_squared_error(y_train, y_pred_train)))\n",
    "print(np.sqrt(metrics.mean_squared_error(y_test, y_pred)))"
   ]
  },
  {
   "cell_type": "code",
   "execution_count": 13,
   "metadata": {},
   "outputs": [
    {
     "name": "stderr",
     "output_type": "stream",
     "text": [
      "c:\\Users\\trajanod\\Anaconda3\\envs\\transformers\\lib\\site-packages\\sklearn\\base.py:445: UserWarning: X does not have valid feature names, but PolynomialFeatures was fitted with feature names\n",
      "  warnings.warn(\n"
     ]
    },
    {
     "data": {
      "image/png": "[encoded data removed]",
      "text/plain": [
       "<Figure size 432x288 with 1 Axes>"
      ]
     },
     "metadata": {
      "needs_background": "light"
     },
     "output_type": "display_data"
    }
   ],
   "source": [
    "X = X_train['TV']\n",
    "import matplotlib.pyplot as plt\n",
    "import numpy as np\n",
    "\n",
    "X_seq = np.linspace(min(X.min(), X_test['TV'].min()), max(X.max(), X_test['TV'].max()), 300).reshape(-1, 1)\n",
    "plt.figure()\n",
    "plt.scatter(X_train['TV'], y_train)\n",
    "plt.scatter(X_test['TV'], y_test)\n",
    "plt.plot(X_seq, polyreg.predict(X_seq), color=\"black\")\n",
    "plt.title(\"Polynomial regression with degree \" + str(degree))\n",
    "plt.show()"
   ]
  }
 ],
 "metadata": {
  "interpreter": {
   "hash": "a07109d4e890cd1de849ae149cb8a3ab961ddfd0856a0fd49443d959541badf4"
  },
  "kernelspec": {
   "display_name": "Python 3.9.7 ('transformers')",
   "language": "python",
   "name": "python3"
  },
  "language_info": {
   "codemirror_mode": {
    "name": "ipython",
    "version": 3
   },
   "file_extension": ".py",
   "mimetype": "text/x-python",
   "name": "python",
   "nbconvert_exporter": "python",
   "pygments_lexer": "ipython3",
   "version": "3.9.7"
  }
 },
 "nbformat": 4,
 "nbformat_minor": 4
}
