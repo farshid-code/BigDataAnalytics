{
 "cells": [
  {
   "cell_type": "code",
   "execution_count": 1,
   "metadata": {},
   "outputs": [],
   "source": [
    "# Let us create some RDDs\n",
    "valueRDDA = sc.parallelize([\"k\", \"f\", \"x\", \"w\", \"y\", \"f\", \"y\", \"k\", \"f\"])\n",
    "\n",
    "rddB = sc.parallelize([1, 2, 1, 2, 1, 2, 1, 1, 1])\n"
   ]
  },
  {
   "cell_type": "code",
   "execution_count": 2,
   "metadata": {},
   "outputs": [
    {
     "name": "stdout",
     "output_type": "stream",
     "text": [
      "RDD 1 :  [(1, 'k'), (2, 'f'), (1, 'x'), (2, 'w'), (1, 'y'), (2, 'f'), (1, 'y'), (1, 'k'), (1, 'f')]\n"
     ]
    }
   ],
   "source": [
    "# Now, we can zip these RDDs to create new RDDs with different keys\n",
    "rdd1 = rddB.zip(valueRDDA)\n",
    "\n",
    "print(\"RDD 1 : \", rdd1.collect())\n"
   ]
  },
  {
   "cell_type": "markdown",
   "metadata": {},
   "source": [
    "# reduceByKey()"
   ]
  },
  {
   "cell_type": "code",
   "execution_count": 3,
   "metadata": {},
   "outputs": [
    {
     "data": {
      "text/plain": [
       "[(1, {'f', 'k', 'x', 'y'}), (2, {'f', 'w'})]"
      ]
     },
     "execution_count": 3,
     "metadata": {},
     "output_type": "execute_result"
    }
   ],
   "source": [
    "# Writing a transformation that finds all the unique strings corresponding to each key.\n",
    "# rdd.map(kv => (kv._1, new Set[String]() + kv._2)).reduceByKey(_ ++ _)\n",
    "\n",
    "rddResult=rdd1.map(lambda x: (x[0], set(x[1]) ) ).reduceByKey(lambda x, y: x.union(y))\n",
    "rddResult.collect()"
   ]
  },
  {
   "cell_type": "markdown",
   "metadata": {},
   "source": [
    "# aggregateByKey()\n"
   ]
  },
  {
   "cell_type": "code",
   "execution_count": 6,
   "metadata": {},
   "outputs": [
    {
     "data": {
      "text/plain": [
       "[(1, {'f', 'k', 'x', 'y'}), (2, {'f', 'w'})]"
      ]
     },
     "execution_count": 6,
     "metadata": {},
     "output_type": "execute_result"
    }
   ],
   "source": [
    "# Better would be to use aggregateByKey()\n",
    "def my_add(x, y):\n",
    "    x.add(y)\n",
    "    return x\n",
    "\n",
    "\n",
    "rddResult2 = rdd1.aggregateByKey(set() , my_add , lambda x, y: x.union( y))\n",
    "rddResult2.collect()"
   ]
  },
  {
   "cell_type": "markdown",
   "metadata": {},
   "source": [
    "# combineByKey()"
   ]
  },
  {
   "cell_type": "code",
   "execution_count": 19,
   "metadata": {},
   "outputs": [
    {
     "data": {
      "text/plain": [
       "[(1, {'f', 'k', 'x', 'y'}), (2, {'f', 'w'})]"
      ]
     },
     "execution_count": 19,
     "metadata": {},
     "output_type": "execute_result"
    }
   ],
   "source": [
    "# Using combineByKey()\n",
    "\n",
    "\n",
    "# We need to provide 3 functions. \n",
    "\n",
    "# createCombiner, which turns a V into a C (e.g., creates a one-element list)\n",
    "# mergeValue, to merge a V into a C (e.g., adds it to the end of a list)\n",
    "# mergeCombiners, to combine two C’s into a single one (e.g., merges the lists)\n",
    "\n",
    "def to_set(a):\n",
    "    return set(a)\n",
    "\n",
    "\n",
    "def my_add(x, y):\n",
    "    x.add(y)\n",
    "    return x\n",
    "\n",
    "\n",
    "rddResult2 = rdd1.combineByKey(toSet, my_add , lambda x, y: x.union( y))\n",
    "\n",
    "rddResult2.collect()"
   ]
  },
  {
   "cell_type": "code",
   "execution_count": 18,
   "metadata": {},
   "outputs": [
    {
     "data": {
      "text/plain": [
       "[(1, ['k', 'x', 'y', 'y', 'k', 'f']), (2, ['f', 'w', 'f'])]"
      ]
     },
     "execution_count": 18,
     "metadata": {},
     "output_type": "execute_result"
    }
   ],
   "source": [
    "# We can also aggregate to a list. \n",
    "def to_list(a):\n",
    "    return [a]\n",
    "\n",
    "def addToList(x, y):\n",
    "    x.append(y)\n",
    "    return x\n",
    "\n",
    "def extend(x,y):\n",
    "    x.extend(y)\n",
    "    return x\n",
    "\n",
    "rddResult2 = rdd1.combineByKey(to_list, addToList, extend)\n",
    "\n",
    "rddResult2.collect()"
   ]
  }
 ],
 "metadata": {
  "kernelspec": {
   "display_name": "Python 3",
   "language": "python",
   "name": "python3"
  },
  "language_info": {
   "codemirror_mode": {
    "name": "ipython",
    "version": 3
   },
   "file_extension": ".py",
   "mimetype": "text/x-python",
   "name": "python",
   "nbconvert_exporter": "python",
   "pygments_lexer": "ipython3",
   "version": "3.8.5"
  }
 },
 "nbformat": 4,
 "nbformat_minor": 4
}
