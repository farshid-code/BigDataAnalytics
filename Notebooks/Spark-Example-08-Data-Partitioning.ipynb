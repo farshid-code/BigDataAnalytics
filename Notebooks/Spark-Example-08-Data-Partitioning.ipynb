{
 "cells": [
  {
   "cell_type": "markdown",
   "metadata": {
    "slideshow": {
     "slide_type": "slide"
    }
   },
   "source": [
    "# Data Partitioning and Accessing data partitions\n"
   ]
  },
  {
   "cell_type": "code",
   "execution_count": 1,
   "metadata": {
    "slideshow": {
     "slide_type": "slide"
    }
   },
   "outputs": [
    {
     "data": {
      "text/plain": [
       "[(1, 1), (2, 2), (3, 3), (4, 4), (5, 5), (6, 6), (7, 7), (8, 8)]"
      ]
     },
     "execution_count": 1,
     "metadata": {},
     "output_type": "execute_result"
    }
   ],
   "source": [
    "pairs = sc.parallelize([1, 2, 3, 4, 5, 6, 7, 8]).map(lambda x: (x, x))\n",
    "\n",
    "pairs.collect()\n"
   ]
  },
  {
   "cell_type": "code",
   "execution_count": 2,
   "metadata": {
    "slideshow": {
     "slide_type": "subslide"
    }
   },
   "outputs": [
    {
     "data": {
      "text/plain": [
       "[[(4, 4), (8, 8)], [(1, 1), (5, 5)], [(2, 2), (6, 6)], [(3, 3), (7, 7)]]"
      ]
     },
     "execution_count": 2,
     "metadata": {},
     "output_type": "execute_result"
    }
   ],
   "source": [
    "pairs.partitionBy(4).glom().collect()\n"
   ]
  },
  {
   "cell_type": "code",
   "execution_count": 3,
   "metadata": {
    "slideshow": {
     "slide_type": "slide"
    }
   },
   "outputs": [
    {
     "name": "stdout",
     "output_type": "stream",
     "text": [
      "8\n",
      "Batch number   0 [(2, 2), (1, 1)]\n",
      "Batch number   1 [(4, 4), (3, 3)]\n",
      "Batch number   2 [(6, 6), (5, 5)]\n",
      "Batch number   3 [(8, 8), (7, 7)]\n"
     ]
    }
   ],
   "source": [
    "\n",
    "# Get the coutn of data elements \n",
    "counts = pairs.count()\n",
    "print(counts)\n",
    "\n",
    "\n",
    "# First partition data based on number of batches. \n",
    "numberOfBatches = 4\n",
    "partitionedRDD = pairs.partitionBy(int(counts/numberOfBatches)).glom()\n",
    "\n",
    "partitionedRDD.cache()\n",
    "\n",
    "# Then we can Loop through the model and train it. \n",
    "for i in range(4):\n",
    "    \n",
    "    sets = partitionedRDD.map(lambda x: x[i]).collect()\n",
    "    print(\"Batch number  \", i, sets)"
   ]
  },
  {
   "cell_type": "code",
   "execution_count": 4,
   "metadata": {
    "slideshow": {
     "slide_type": "slide"
    }
   },
   "outputs": [
    {
     "data": {
      "text/plain": [
       "[[(2, 2), (4, 4), (6, 6), (8, 8)], [(1, 1), (3, 3), (5, 5), (7, 7)]]"
      ]
     },
     "execution_count": 4,
     "metadata": {},
     "output_type": "execute_result"
    }
   ],
   "source": [
    "pairs.partitionBy(2).glom().collect()\n",
    "\n"
   ]
  },
  {
   "cell_type": "code",
   "execution_count": 6,
   "metadata": {},
   "outputs": [
    {
     "data": {
      "text/plain": [
       "8"
      ]
     },
     "execution_count": 6,
     "metadata": {},
     "output_type": "execute_result"
    }
   ],
   "source": [
    "pairs.getNumPartitions()"
   ]
  },
  {
   "cell_type": "code",
   "execution_count": 58,
   "metadata": {},
   "outputs": [
    {
     "name": "stdout",
     "output_type": "stream",
     "text": [
      "[3, 7, 11, 15]\n"
     ]
    }
   ],
   "source": [
    "import numpy as np \n",
    "\n",
    "rddNP = sc.parallelize(np.array([1, 2, 3, 4, 5, 6, 7, 8]), 4)\n",
    "\n",
    "# for i in range(4):\n",
    "#     rddNP = rddNP.union(rddNP)\n",
    "#\n",
    "# print(rddNP.getNumPartitions())\n",
    "# rddNP.collect()\n",
    "\n",
    "\n",
    "def f(iterator): yield sum(iterator)\n",
    "print(rddNP.mapPartitions(f).collect())\n"
   ]
  },
  {
   "cell_type": "code",
   "execution_count": null,
   "metadata": {},
   "outputs": [],
   "source": []
  },
  {
   "cell_type": "code",
   "execution_count": null,
   "metadata": {},
   "outputs": [],
   "source": []
  }
 ],
 "metadata": {
  "celltoolbar": "Slideshow",
  "kernelspec": {
   "display_name": "Python 3",
   "language": "python",
   "name": "python3"
  },
  "language_info": {
   "codemirror_mode": {
    "name": "ipython",
    "version": 3
   },
   "file_extension": ".py",
   "mimetype": "text/x-python",
   "name": "python",
   "nbconvert_exporter": "python",
   "pygments_lexer": "ipython3",
   "version": "3.8.5"
  }
 },
 "nbformat": 4,
 "nbformat_minor": 4
}
