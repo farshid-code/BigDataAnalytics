{
 "cells": [
  {
   "cell_type": "markdown",
   "metadata": {},
   "source": [
    "# Spark Example\n",
    "\n",
    "This is a first tutorial on apache spark\n",
    "\n",
    "sc is here Spark Context object. You do not need to create the \"sc\" object, it is already loaded into memory. "
   ]
  },
  {
   "cell_type": "code",
   "execution_count": 1,
   "metadata": {},
   "outputs": [
    {
     "name": "stdout",
     "output_type": "stream",
     "text": [
      "3.0.0\n",
      "3.8\n",
      "local[*]\n"
     ]
    }
   ],
   "source": [
    "from pyspark import SparkContext\n",
    "sc = SparkContext()\n",
    "print(sc.version)\n",
    "print(sc.pythonVer)\n",
    "print(sc.master)"
   ]
  },
  {
   "cell_type": "code",
   "execution_count": 2,
   "metadata": {},
   "outputs": [],
   "source": [
    "# We create here an example text data. \n",
    "a = [\"What Will It Take for BU Commuters to Leave Their Cars for the MBTA? University boosts T pass subsidies to cover half the cost, raises parking fees, all part of broader strategy to build a greener BU\"]"
   ]
  },
  {
   "cell_type": "code",
   "execution_count": 3,
   "metadata": {},
   "outputs": [
    {
     "name": "stdout",
     "output_type": "stream",
     "text": [
      "['What Will It Take for BU Commuters to Leave Their Cars for the MBTA? University boosts T pass subsidies to cover half the cost, raises parking fees, all part of broader strategy to build a greener BU']\n"
     ]
    }
   ],
   "source": [
    "print(a)"
   ]
  },
  {
   "cell_type": "code",
   "execution_count": 4,
   "metadata": {},
   "outputs": [],
   "source": [
    "# Now, we can go ahead and parallize it, i.e., load it in a distributed data structure as RDD\n",
    "rdd = sc.parallelize(a)\n",
    "\n",
    "# sc is the spark context and it is already loaded \n",
    "# When you write spark pyscripts you need to create it. "
   ]
  },
  {
   "cell_type": "code",
   "execution_count": 5,
   "metadata": {},
   "outputs": [],
   "source": [
    "# lines = sc.textFile(sys.argv[1], 1)\n",
    "words = rdd.flatMap(lambda x: x.split(' '))\n",
    "\n"
   ]
  },
  {
   "cell_type": "code",
   "execution_count": 6,
   "metadata": {},
   "outputs": [
    {
     "data": {
      "text/plain": [
       "['What',\n",
       " 'Will',\n",
       " 'It',\n",
       " 'Take',\n",
       " 'for',\n",
       " 'BU',\n",
       " 'Commuters',\n",
       " 'to',\n",
       " 'Leave',\n",
       " 'Their']"
      ]
     },
     "execution_count": 6,
     "metadata": {},
     "output_type": "execute_result"
    }
   ],
   "source": [
    "words.take(10)"
   ]
  },
  {
   "cell_type": "code",
   "execution_count": 7,
   "metadata": {},
   "outputs": [
    {
     "data": {
      "text/plain": [
       "[('What', 1),\n",
       " ('Will', 1),\n",
       " ('It', 1),\n",
       " ('Cars', 1),\n",
       " ('of', 1),\n",
       " ('broader', 1),\n",
       " ('greener', 1),\n",
       " ('to', 3),\n",
       " ('Their', 1),\n",
       " ('the', 2),\n",
       " ('MBTA?', 1),\n",
       " ('T', 1),\n",
       " ('subsidies', 1),\n",
       " ('cost,', 1),\n",
       " ('parking', 1),\n",
       " ('fees,', 1),\n",
       " ('part', 1),\n",
       " ('build', 1),\n",
       " ('a', 1),\n",
       " ('University', 1),\n",
       " ('pass', 1),\n",
       " ('Take', 1),\n",
       " ('for', 2),\n",
       " ('BU', 2),\n",
       " ('Commuters', 1),\n",
       " ('Leave', 1),\n",
       " ('boosts', 1),\n",
       " ('cover', 1),\n",
       " ('half', 1),\n",
       " ('raises', 1),\n",
       " ('all', 1),\n",
       " ('strategy', 1)]"
      ]
     },
     "execution_count": 7,
     "metadata": {},
     "output_type": "execute_result"
    }
   ],
   "source": [
    "counts = rdd.flatMap(lambda x: x.split(' ')) \\\n",
    ".map(lambda x: (x, 1)) \\\n",
    ".reduceByKey(lambda x, y: x+y)\n",
    "\n",
    "counts.collect()"
   ]
  },
  {
   "cell_type": "code",
   "execution_count": 8,
   "metadata": {},
   "outputs": [
    {
     "data": {
      "text/plain": [
       "[('to', 3)]"
      ]
     },
     "execution_count": 8,
     "metadata": {},
     "output_type": "execute_result"
    }
   ],
   "source": [
    "counts.top(1)"
   ]
  },
  {
   "cell_type": "code",
   "execution_count": 9,
   "metadata": {},
   "outputs": [],
   "source": [
    "# top ()\n",
    "\n",
    "# top(num, key=None)[source]\n",
    "# Get the top N elements from an RDD."
   ]
  },
  {
   "cell_type": "code",
   "execution_count": 10,
   "metadata": {},
   "outputs": [
    {
     "data": {
      "text/plain": [
       "[12]"
      ]
     },
     "execution_count": 10,
     "metadata": {},
     "output_type": "execute_result"
    }
   ],
   "source": [
    "sc.parallelize([10, 4, 2, 12, 3]).top(1)"
   ]
  },
  {
   "cell_type": "code",
   "execution_count": 11,
   "metadata": {},
   "outputs": [
    {
     "data": {
      "text/plain": [
       "[6, 5]"
      ]
     },
     "execution_count": 11,
     "metadata": {},
     "output_type": "execute_result"
    }
   ],
   "source": [
    "sc.parallelize([2, 3, 4, 5, 6], 2).top(2)"
   ]
  },
  {
   "cell_type": "code",
   "execution_count": 12,
   "metadata": {},
   "outputs": [
    {
     "data": {
      "text/plain": [
       "[4, 3, 2]"
      ]
     },
     "execution_count": 12,
     "metadata": {},
     "output_type": "execute_result"
    }
   ],
   "source": [
    "sc.parallelize([10, 4, 2, 12, 3]).top(3, key=str)"
   ]
  },
  {
   "cell_type": "code",
   "execution_count": 13,
   "metadata": {},
   "outputs": [],
   "source": [
    "rdd1=sc.parallelize([('a', 10), ('c',4), ('z', 2), ('d', 12)])"
   ]
  },
  {
   "cell_type": "code",
   "execution_count": 14,
   "metadata": {},
   "outputs": [
    {
     "data": {
      "text/plain": [
       "[('d', 12), ('a', 10), ('c', 4)]"
      ]
     },
     "execution_count": 14,
     "metadata": {},
     "output_type": "execute_result"
    }
   ],
   "source": [
    "rdd1.top(3, key=lambda x: x[1])"
   ]
  },
  {
   "cell_type": "code",
   "execution_count": 15,
   "metadata": {},
   "outputs": [
    {
     "data": {
      "text/plain": [
       "[('z', 2), ('d', 12), ('c', 4)]"
      ]
     },
     "execution_count": 15,
     "metadata": {},
     "output_type": "execute_result"
    }
   ],
   "source": [
    "rdd1.top(3, key=lambda x: x[0])"
   ]
  },
  {
   "cell_type": "code",
   "execution_count": 16,
   "metadata": {},
   "outputs": [
    {
     "data": {
      "text/plain": [
       "[('z', 2), ('d', 12), ('c', 4)]"
      ]
     },
     "execution_count": 16,
     "metadata": {},
     "output_type": "execute_result"
    }
   ],
   "source": [
    "rdd1.top(3, lambda x: x[0])"
   ]
  },
  {
   "cell_type": "code",
   "execution_count": 17,
   "metadata": {},
   "outputs": [
    {
     "data": {
      "text/plain": [
       "[('z', 2), ('d', 12), ('c', 4)]"
      ]
     },
     "execution_count": 17,
     "metadata": {},
     "output_type": "execute_result"
    }
   ],
   "source": [
    "rdd1.top(3)"
   ]
  },
  {
   "cell_type": "code",
   "execution_count": 18,
   "metadata": {},
   "outputs": [
    {
     "data": {
      "text/plain": [
       "[('z', 2), ('d', 12), ('c', 4)]"
      ]
     },
     "execution_count": 18,
     "metadata": {},
     "output_type": "execute_result"
    }
   ],
   "source": [
    "rdd1.top(3, str)"
   ]
  },
  {
   "cell_type": "code",
   "execution_count": null,
   "metadata": {},
   "outputs": [],
   "source": []
  },
  {
   "cell_type": "code",
   "execution_count": null,
   "metadata": {},
   "outputs": [],
   "source": []
  },
  {
   "cell_type": "code",
   "execution_count": null,
   "metadata": {},
   "outputs": [],
   "source": []
  }
 ],
 "metadata": {
  "kernelspec": {
   "display_name": "Python 3",
   "language": "python",
   "name": "python3"
  },
  "language_info": {
   "codemirror_mode": {
    "name": "ipython",
    "version": 3
   },
   "file_extension": ".py",
   "mimetype": "text/x-python",
   "name": "python",
   "nbconvert_exporter": "python",
   "pygments_lexer": "ipython3",
   "version": "3.9.7"
  }
 },
 "nbformat": 4,
 "nbformat_minor": 2
}
