{
 "cells": [
  {
   "cell_type": "markdown",
   "metadata": {},
   "source": [
    "# Spark - Word Count Example in jupyter Notebook"
   ]
  },
  {
   "cell_type": "code",
   "execution_count": 1,
   "metadata": {},
   "outputs": [
    {
     "data": {
      "text/html": [
       "\n",
       "        <div>\n",
       "            <p><b>SparkContext</b></p>\n",
       "\n",
       "            <p><a href=\"http://RBAMW078377.mshome.net:4040\">Spark UI</a></p>\n",
       "\n",
       "            <dl>\n",
       "              <dt>Version</dt>\n",
       "                <dd><code>v3.2.1</code></dd>\n",
       "              <dt>Master</dt>\n",
       "                <dd><code>local[*]</code></dd>\n",
       "              <dt>AppName</dt>\n",
       "                <dd><code>pyspark-shell</code></dd>\n",
       "            </dl>\n",
       "        </div>\n",
       "        "
      ],
      "text/plain": [
       "<SparkContext master=local[*] appName=pyspark-shell>"
      ]
     },
     "execution_count": 1,
     "metadata": {},
     "output_type": "execute_result"
    }
   ],
   "source": [
    "from pyspark import SparkContext\n",
    "sc = SparkContext()\n",
    "sc"
   ]
  },
  {
   "cell_type": "code",
   "execution_count": 2,
   "metadata": {},
   "outputs": [
    {
     "data": {
      "text/plain": [
       "'The Project Gutenberg EBook of Alice’s Adventures in Wonderland, by Lewis Carroll'"
      ]
     },
     "execution_count": 2,
     "metadata": {},
     "output_type": "execute_result"
    }
   ],
   "source": [
    "# First we read all of the lines into an RDD. \n",
    "lines = sc.textFile(\"./data/Alices-Adventures-in-Wonderland-by-Lewis-Carroll.txt.bz2\")\n",
    "\n",
    "# First line is the header. \n",
    "lines.first()"
   ]
  },
  {
   "cell_type": "code",
   "execution_count": 3,
   "metadata": {},
   "outputs": [
    {
     "data": {
      "text/plain": [
       "['The Project Gutenberg EBook of Alice’s Adventures in Wonderland, by Lewis Carroll',\n",
       " '',\n",
       " 'This eBook is for the use of anyone anywhere in the United States and most',\n",
       " 'other parts of the world at no cost and with almost no restrictions']"
      ]
     },
     "execution_count": 3,
     "metadata": {},
     "output_type": "execute_result"
    }
   ],
   "source": [
    "lines.take(4)"
   ]
  },
  {
   "cell_type": "code",
   "execution_count": 4,
   "metadata": {},
   "outputs": [
    {
     "data": {
      "text/plain": [
       "['The', 'Project']"
      ]
     },
     "execution_count": 4,
     "metadata": {},
     "output_type": "execute_result"
    }
   ],
   "source": [
    "words = lines.flatMap(lambda x: x.split(' '))\n",
    "\n",
    "# Take two of these to know what is inside them \n",
    "words.take(2)"
   ]
  },
  {
   "cell_type": "code",
   "execution_count": 5,
   "metadata": {},
   "outputs": [
    {
     "data": {
      "text/plain": [
       "[('The', 1)]"
      ]
     },
     "execution_count": 5,
     "metadata": {},
     "output_type": "execute_result"
    }
   ],
   "source": [
    "wordsAsTuples = words.map(lambda x: (x, 1))\n",
    "\n",
    "wordsAsTuples.take(1)"
   ]
  },
  {
   "cell_type": "code",
   "execution_count": 6,
   "metadata": {},
   "outputs": [
    {
     "data": {
      "text/plain": [
       "[('The', 107)]"
      ]
     },
     "execution_count": 6,
     "metadata": {},
     "output_type": "execute_result"
    }
   ],
   "source": [
    "counts=wordsAsTuples.reduceByKey(lambda x, y: x+y)\n",
    "\n",
    "counts.take(1)"
   ]
  },
  {
   "cell_type": "markdown",
   "metadata": {},
   "source": [
    "# Get top 20 Words sorted. "
   ]
  },
  {
   "cell_type": "code",
   "execution_count": 7,
   "metadata": {},
   "outputs": [
    {
     "data": {
      "text/plain": [
       "[('the', 1682),\n",
       " ('', 1624),\n",
       " ('and', 787),\n",
       " ('to', 778),\n",
       " ('a', 667),\n",
       " ('of', 604),\n",
       " ('she', 485),\n",
       " ('said', 416),\n",
       " ('in', 408),\n",
       " ('it', 357),\n",
       " ('was', 329),\n",
       " ('you', 305),\n",
       " ('I', 249),\n",
       " ('as', 246),\n",
       " ('that', 226),\n",
       " ('Alice', 221),\n",
       " ('with', 215),\n",
       " ('at', 209),\n",
       " ('her', 204),\n",
       " ('had', 176)]"
      ]
     },
     "execution_count": 7,
     "metadata": {},
     "output_type": "execute_result"
    }
   ],
   "source": [
    "counts.top(20, lambda x: x[1])"
   ]
  },
  {
   "cell_type": "code",
   "execution_count": 8,
   "metadata": {},
   "outputs": [
    {
     "data": {
      "text/plain": [
       "[('the', 1682),\n",
       " ('and', 787),\n",
       " ('to', 778),\n",
       " ('a', 667),\n",
       " ('of', 604),\n",
       " ('she', 485),\n",
       " ('said', 416),\n",
       " ('in', 408),\n",
       " ('it', 357),\n",
       " ('was', 329),\n",
       " ('you', 305),\n",
       " ('I', 249),\n",
       " ('as', 246),\n",
       " ('that', 226),\n",
       " ('Alice', 221),\n",
       " ('with', 215),\n",
       " ('at', 209),\n",
       " ('her', 204),\n",
       " ('had', 176),\n",
       " ('all', 169)]"
      ]
     },
     "execution_count": 8,
     "metadata": {},
     "output_type": "execute_result"
    }
   ],
   "source": [
    "counts.filter(lambda x: x[0]!='').top(20, lambda x: x[1])"
   ]
  },
  {
   "cell_type": "code",
   "execution_count": null,
   "metadata": {},
   "outputs": [],
   "source": []
  },
  {
   "cell_type": "code",
   "execution_count": null,
   "metadata": {},
   "outputs": [],
   "source": []
  },
  {
   "cell_type": "code",
   "execution_count": null,
   "metadata": {},
   "outputs": [],
   "source": []
  }
 ],
 "metadata": {
  "kernelspec": {
   "display_name": "Python 3",
   "language": "python",
   "name": "python3"
  },
  "language_info": {
   "codemirror_mode": {
    "name": "ipython",
    "version": 3
   },
   "file_extension": ".py",
   "mimetype": "text/x-python",
   "name": "python",
   "nbconvert_exporter": "python",
   "pygments_lexer": "ipython3",
   "version": "3.9.7"
  }
 },
 "nbformat": 4,
 "nbformat_minor": 2
}
