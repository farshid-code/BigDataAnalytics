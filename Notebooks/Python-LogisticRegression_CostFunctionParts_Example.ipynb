{
  "nbformat": 4,
  "nbformat_minor": 0,
  "metadata": {
    "colab": {
      "name": "LogisticRegression-CostFunctionParts-Example.ipynb",
      "provenance": [],
      "collapsed_sections": []
    },
    "kernelspec": {
      "name": "python3",
      "display_name": "Python 3"
    },
    "language_info": {
      "name": "python"
    }
  },
  "cells": [
    {
      "cell_type": "markdown",
      "metadata": {
        "id": "1-prhAZtxu5d"
      },
      "source": [
        "In Logistic Regression we have the following LLH that we try to maximize it. \n",
        "\n",
        "\n",
        "$$\\huge LLH =  y \\times \\theta - log(1 + e^{\\theta})$$\n",
        "\n",
        "\n",
        "\n",
        "*   where $\\large  \\theta = \\sum^{n}_{i=1}{x_i \\times \\beta_i} $\n",
        "*  $y$ is one or zero for binary classification.\n",
        "\n",
        "\n",
        "Now, let us take a look at this component of the cost function $ log(1 + e^{\\theta})$ for different values of $\\theta$\n",
        "\n",
        "\n",
        "\n",
        " \n",
        "\n"
      ]
    },
    {
      "cell_type": "code",
      "metadata": {
        "colab": {
          "base_uri": "https://localhost:8080/",
          "height": 428
        },
        "id": "GZ9JC8GtvB6o",
        "outputId": "8239f778-b7f2-477f-b123-bde142bfd30f"
      },
      "source": [
        "import math\n",
        "import numpy as np\n",
        "import matplotlib.pyplot as plt\n",
        "\n",
        "start=-3\n",
        "end = 3\n",
        "\n",
        "theta = np.arange(-1000, end, 0.1)\n",
        "\n",
        "costPart = np.log(1+ np.exp(theta))\n",
        "\n",
        "\n",
        "\n",
        "plt.plot(theta, costPart , 'red')\n",
        "\n",
        "plt.xlim(start, end)\n",
        "plt.rcParams[\"figure.figsize\"] = (7,7)\n",
        "plt.show()"
      ],
      "execution_count": 29,
      "outputs": [
        {
          "output_type": "display_data",
          "data": {
            "image/png": "[encoded data removed]",
            "text/plain": [
              "<Figure size 504x504 with 1 Axes>"
            ]
          },
          "metadata": {
            "tags": [],
            "needs_background": "light"
          }
        }
      ]
    },
    {
      "cell_type": "code",
      "metadata": {
        "colab": {
          "base_uri": "https://localhost:8080/"
        },
        "id": "1W7ZsBejvJQu",
        "outputId": "11bcc508-85dc-4c41-cef5-4f3c1a80b51a"
      },
      "source": [
        "f1=(92, 23, 67, 98, 18, 6)\n",
        "f2=(12, 67, 92, 78, 45, 100)\n",
        "\n",
        "y=(0, 0, 1, 1, 0, 0)\n",
        "\n",
        "x=np.array(list(zip(f1,f2)))\n",
        "\n",
        "\n",
        "\n",
        "\n",
        "def llhForParam(r, x, y):\n",
        "  # np.dot(x, r)\n",
        "  theta = np.dot(x, r)\n",
        "  # print('theta is: ', theta)\n",
        "  # print('y x theta is: ', y* theta)\n",
        "  \n",
        "  # Now, calculate the LLH \n",
        "  llh = sum(y* theta - np.log(1+ np.exp(theta)))\n",
        "  return llh\n",
        "\n",
        "\n",
        "\n",
        "r=np.array([-1, -1])\n",
        "\n",
        "print('If coeffients are ', r , ' LLH is ', llhForParam(r, x, y) )\n",
        "\n",
        "\n",
        "r=np.array([-1, 1])\n",
        "\n",
        "print('If coeffients are ', r , ' LLH is ', llhForParam(r, x, y) )\n",
        "\n",
        "\n",
        "r=np.array([1, -1])\n",
        "\n",
        "print('If coeffients are ', r , ' LLH is ', llhForParam(r, x, y) )\n",
        "\n",
        "\n",
        "r=np.array([1, 1])\n",
        "\n",
        "print('If coeffients are ', r , ' LLH is ', llhForParam(r, x, y) )\n"
      ],
      "execution_count": 58,
      "outputs": [
        {
          "output_type": "stream",
          "text": [
            "If coeffients are  [-1 -1]  LLH is  -335.0\n",
            "If coeffients are  [-1  1]  LLH is  -185.00000000207692\n",
            "If coeffients are  [ 1 -1]  LLH is  -105.00000000207692\n",
            "If coeffients are  [1 1]  LLH is  -363.0\n"
          ],
          "name": "stdout"
        }
      ]
    },
    {
      "cell_type": "code",
      "metadata": {
        "id": "1li86JX-2-K-"
      },
      "source": [
        ""
      ],
      "execution_count": null,
      "outputs": []
    }
  ]
}