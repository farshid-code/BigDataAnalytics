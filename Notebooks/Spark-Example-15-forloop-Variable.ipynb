{
 "cells": [
  {
   "cell_type": "code",
   "execution_count": 1,
   "metadata": {},
   "outputs": [
    {
     "name": "stdout",
     "output_type": "stream",
     "text": [
      "3.0.0\n",
      "3.8\n",
      "local[*]\n"
     ]
    }
   ],
   "source": [
    "print(sc.version)\n",
    "print(sc.pythonVer)\n",
    "print(sc.master)"
   ]
  },
  {
   "cell_type": "code",
   "execution_count": 18,
   "metadata": {},
   "outputs": [
    {
     "name": "stdout",
     "output_type": "stream",
     "text": [
      "[array([0.01103651, 0.57008516]), array([0.02733301, 0.98669169])]\n"
     ]
    }
   ],
   "source": [
    "import numpy as np\n",
    "\n",
    "\n",
    "# Create some example numpy array inside my RDD\n",
    "mat = np.random.rand(80,1).reshape(40, -1)\n",
    "\n",
    "rdd = sc.parallelize(mat)\n",
    "\n",
    "\n",
    "print(rdd.take(2))"
   ]
  },
  {
   "cell_type": "code",
   "execution_count": 16,
   "metadata": {},
   "outputs": [
    {
     "name": "stdout",
     "output_type": "stream",
     "text": [
      "[2.07896302e+16 2.15988299e+16]\n"
     ]
    }
   ],
   "source": [
    "# Correct implementation \n",
    "alpha=1\n",
    "\n",
    "for i in range(10):\n",
    "    alpha=rdd.map(lambda x: x+ x + i + alpha).reduce(lambda x,y: x+y)\n",
    "\n",
    "print(alpha)"
   ]
  },
  {
   "cell_type": "code",
   "execution_count": 17,
   "metadata": {},
   "outputs": [
    {
     "name": "stdout",
     "output_type": "stream",
     "text": [
      "1\n"
     ]
    }
   ],
   "source": [
    "# Wrong Implementation.\n",
    "\n",
    "alpha=1\n",
    "\n",
    "for i in range(10):\n",
    "    rdd1=rdd.map(lambda x: x+ x + i + alpha)\n",
    "    \n",
    "rdd1.reduce(lambda x,y: x+y)\n",
    "\n",
    "print(alpha)"
   ]
  },
  {
   "cell_type": "code",
   "execution_count": null,
   "metadata": {},
   "outputs": [],
   "source": []
  }
 ],
 "metadata": {
  "kernelspec": {
   "display_name": "Python 3",
   "language": "python",
   "name": "python3"
  },
  "language_info": {
   "codemirror_mode": {
    "name": "ipython",
    "version": 3
   },
   "file_extension": ".py",
   "mimetype": "text/x-python",
   "name": "python",
   "nbconvert_exporter": "python",
   "pygments_lexer": "ipython3",
   "version": "3.8.5"
  }
 },
 "nbformat": 4,
 "nbformat_minor": 2
}
