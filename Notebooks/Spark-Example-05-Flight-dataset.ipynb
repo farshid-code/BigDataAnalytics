{
 "cells": [
  {
   "cell_type": "markdown",
   "metadata": {},
   "source": [
    "# Example - Flight Data Processing "
   ]
  },
  {
   "cell_type": "markdown",
   "metadata": {},
   "source": [
    "\n",
    "## Step-1: First you need download and move the file data to **./data/ folder**. \n",
    "\n",
    "The following command runs on Unix-based operating systems. \n",
    "\n",
    "Download it from this link https://s3.amazonaws.com/metcs777/flights.csv.bz2\n",
    "File size is 135 MB \n",
    "\n"
   ]
  },
  {
   "cell_type": "code",
   "execution_count": 9,
   "metadata": {},
   "outputs": [
    {
     "name": "stdout",
     "output_type": "stream",
     "text": [
      "total 295896\n",
      "drwxr-xr-x   6 kiat  staff        192 Jul 18 18:16 .\n",
      "drwxr-xr-x  16 kiat  staff        512 Jul 18 18:16 ..\n",
      "-rw-r--r--@  1 kiat  staff        244 Sep  5  2018 airlines.csv.bz2\n",
      "-rw-r--r--@  1 kiat  staff       8071 Sep  5  2018 airports.csv.bz2\n",
      "-rw-r--r--@  1 kiat  staff  141245764 Sep  5  2018 flights.csv.bz2\n",
      "-rw-r--r--   1 kiat  staff          0 Feb 25 21:34 placeholder\n"
     ]
    }
   ],
   "source": [
    "%%bash \n",
    "# Dataset is stored on AWS S3 \n",
    "# https://s3.amazonaws.com/metcs777/flights.csv.bz2\n",
    "# or from inside S3\n",
    "# s3://metcs777/flights.csv.bz2\n",
    "\n",
    "# Uncomment the following lines to download the datasets \n",
    "wget -q https://s3.amazonaws.com/metcs777/flights.csv.bz2\n",
    "mv flights.csv.bz2 ./data/\n",
    "ls -la ./data/"
   ]
  },
  {
   "cell_type": "code",
   "execution_count": 10,
   "metadata": {},
   "outputs": [
    {
     "name": "stdout",
     "output_type": "stream",
     "text": [
      "total 295896\n",
      "drwxr-xr-x   6 kiat  staff        192 Jul 18 18:16 .\n",
      "drwxr-xr-x  16 kiat  staff        512 Jul 18 18:16 ..\n",
      "-rw-r--r--@  1 kiat  staff        244 Sep  5  2018 airlines.csv.bz2\n",
      "-rw-r--r--@  1 kiat  staff       8071 Sep  5  2018 airports.csv.bz2\n",
      "-rw-r--r--@  1 kiat  staff  141245764 Sep  5  2018 flights.csv.bz2\n",
      "-rw-r--r--   1 kiat  staff          0 Feb 25 21:34 placeholder\n"
     ]
    },
    {
     "name": "stderr",
     "output_type": "stream",
     "text": [
      "--2020-07-18 18:16:22--  https://s3e.amazonaws.com/metcs777/airlines.csv.bz2\n",
      "Resolving s3e.amazonaws.com (s3e.amazonaws.com)... failed: nodename nor servname provided, or not known.\n",
      "wget: unable to resolve host address ‘s3e.amazonaws.com’\n",
      "mv: airlines.csv.bz2: No such file or directory\n",
      "--2020-07-18 18:16:22--  https://s3.amazonaws.com/metcs777/airports.csv.bz2\n",
      "Resolving s3.amazonaws.com (s3.amazonaws.com)... 52.217.32.150\n",
      "Connecting to s3.amazonaws.com (s3.amazonaws.com)|52.217.32.150|:443... connected.\n",
      "HTTP request sent, awaiting response... 200 OK\n",
      "Length: 8071 (7.9K) [application/x-bzip]\n",
      "Saving to: ‘airports.csv.bz2’\n",
      "\n",
      "     0K .......                                               100%  115M=0s\n",
      "\n",
      "2020-07-18 18:16:22 (115 MB/s) - ‘airports.csv.bz2’ saved [8071/8071]\n",
      "\n"
     ]
    }
   ],
   "source": [
    "%%bash\n",
    "# Now, let us get the Airports and Airlines datasets \n",
    "# And Link these data sets. \n",
    "\n",
    "# AirLine dataset https://s3.amazonaws.com/metcs777/airlines.csv.bz2 or s3://metcs777/airlines.csv.bz2\n",
    "# Airport dataset https://s3.amazonaws.com/metcs777/airports.csv.bz2 or s3://metcs777/airports.csv.bz2 \n",
    "wget -q https://s3e.amazonaws.com/metcs777/airlines.csv.bz2 \n",
    "\n",
    "mv  airlines.csv.bz2   ./data/\n",
    "\n",
    "wget -q https://s3.amazonaws.com/metcs777/airports.csv.bz2\n",
    "\n",
    "mv  airports.csv.bz2  ./data/ \n",
    "ls -la ./data/"
   ]
  },
  {
   "cell_type": "code",
   "execution_count": 11,
   "metadata": {},
   "outputs": [
    {
     "data": {
      "text/plain": [
       "'YEAR,MONTH,DAY,DAY_OF_WEEK,AIRLINE,FLIGHT_NUMBER,TAIL_NUMBER,ORIGIN_AIRPORT,DESTINATION_AIRPORT,SCHEDULED_DEPARTURE,DEPARTURE_TIME,DEPARTURE_DELAY,TAXI_OUT,WHEELS_OFF,SCHEDULED_TIME,ELAPSED_TIME,AIR_TIME,DISTANCE,WHEELS_ON,TAXI_IN,SCHEDULED_ARRIVAL,ARRIVAL_TIME,ARRIVAL_DELAY,DIVERTED,CANCELLED,CANCELLATION_REASON,AIR_SYSTEM_DELAY,SECURITY_DELAY,AIRLINE_DELAY,LATE_AIRCRAFT_DELAY,WEATHER_DELAY'"
      ]
     },
     "execution_count": 11,
     "metadata": {},
     "output_type": "execute_result"
    }
   ],
   "source": [
    "lines = sc.textFile(\"./data/flights.csv.bz2\")\n",
    "\n",
    "# First line is the header. \n",
    "lines.first()"
   ]
  },
  {
   "cell_type": "code",
   "execution_count": 12,
   "metadata": {},
   "outputs": [
    {
     "data": {
      "text/plain": [
       "['YEAR,MONTH,DAY,DAY_OF_WEEK,AIRLINE,FLIGHT_NUMBER,TAIL_NUMBER,ORIGIN_AIRPORT,DESTINATION_AIRPORT,SCHEDULED_DEPARTURE,DEPARTURE_TIME,DEPARTURE_DELAY,TAXI_OUT,WHEELS_OFF,SCHEDULED_TIME,ELAPSED_TIME,AIR_TIME,DISTANCE,WHEELS_ON,TAXI_IN,SCHEDULED_ARRIVAL,ARRIVAL_TIME,ARRIVAL_DELAY,DIVERTED,CANCELLED,CANCELLATION_REASON,AIR_SYSTEM_DELAY,SECURITY_DELAY,AIRLINE_DELAY,LATE_AIRCRAFT_DELAY,WEATHER_DELAY',\n",
       " '2015,1,1,4,AS,98,N407AS,ANC,SEA,0005,2354,-11,21,0015,205,194,169,1448,0404,4,0430,0408,-22,0,0,,,,,,']"
      ]
     },
     "execution_count": 12,
     "metadata": {},
     "output_type": "execute_result"
    }
   ],
   "source": [
    "# First line is the header \n",
    "lines.take(2)"
   ]
  },
  {
   "cell_type": "code",
   "execution_count": 13,
   "metadata": {},
   "outputs": [
    {
     "data": {
      "text/plain": [
       "'2015,1,1,4,US,2013,N584UW,LAX,CLT,0030,0044,14,13,0057,273,249,228,2125,0745,8,0803,0753,-10,0,0,,,,,,'"
      ]
     },
     "execution_count": 13,
     "metadata": {},
     "output_type": "execute_result"
    }
   ],
   "source": [
    "# Remove the header from the RDD\n",
    "linesHeader = lines.first()\n",
    "header = sc.parallelize([linesHeader])\n",
    "linesWithOutHeader = lines.subtract(header)\n",
    "linesWithOutHeader.first()"
   ]
  },
  {
   "cell_type": "code",
   "execution_count": 14,
   "metadata": {},
   "outputs": [
    {
     "data": {
      "text/plain": [
       "['2015',\n",
       " '1',\n",
       " '1',\n",
       " '4',\n",
       " 'US',\n",
       " '2013',\n",
       " 'N584UW',\n",
       " 'LAX',\n",
       " 'CLT',\n",
       " '0030',\n",
       " '0044',\n",
       " '14',\n",
       " '13',\n",
       " '0057',\n",
       " '273',\n",
       " '249',\n",
       " '228',\n",
       " '2125',\n",
       " '0745',\n",
       " '8',\n",
       " '0803',\n",
       " '0753',\n",
       " '-10',\n",
       " '0',\n",
       " '0',\n",
       " '',\n",
       " '',\n",
       " '',\n",
       " '',\n",
       " '',\n",
       " '']"
      ]
     },
     "execution_count": 14,
     "metadata": {},
     "output_type": "execute_result"
    }
   ],
   "source": [
    "# The data is about the flights from different airports which includes following attributes\n",
    "#[u'YEAR,MONTH,DAY,DAY_OF_WEEK,AIRLINE,FLIGHT_NUMBER,TAIL_NUMBER,ORIGIN_AIRPORT,DESTINATION_AIRPORT,SCHEDULED_DEPARTURE,DEPARTURE_TIME,DEPARTURE_DELAY,TAXI_OUT,WHEELS_OFF,SCHEDULED_TIME,ELAPSED_TIME,AIR_TIME,DISTANCE,WHEELS_ON,TAXI_IN,SCHEDULED_ARRIVAL,ARRIVAL_TIME,ARRIVAL_DELAY,DIVERTED,CANCELLED,CANCELLATION_REASON,AIR_SYSTEM_DELAY,SECURITY_DELAY,AIRLINE_DELAY,LATE_AIRCRAFT_DELAY,WEATHER_DELAY']\n",
    "flights = linesWithOutHeader.map(lambda x: x.split(','))\n",
    "flights.first()"
   ]
  },
  {
   "cell_type": "code",
   "execution_count": 15,
   "metadata": {},
   "outputs": [
    {
     "data": {
      "text/plain": [
       "['2015',\n",
       " '1',\n",
       " '1',\n",
       " '4',\n",
       " 'US',\n",
       " '2013',\n",
       " 'N584UW',\n",
       " 'LAX',\n",
       " 'CLT',\n",
       " '0030',\n",
       " '0044',\n",
       " '14',\n",
       " '13',\n",
       " '0057',\n",
       " '273',\n",
       " '249',\n",
       " '228',\n",
       " '2125',\n",
       " '0745',\n",
       " '8',\n",
       " '0803',\n",
       " '0753',\n",
       " '-10',\n",
       " '0',\n",
       " '0',\n",
       " '',\n",
       " '',\n",
       " '',\n",
       " '',\n",
       " '',\n",
       " '']"
      ]
     },
     "execution_count": 15,
     "metadata": {},
     "output_type": "execute_result"
    }
   ],
   "source": [
    "# We expect to have 31 data elements. \n",
    "# We go ahead and remove all rows that do not include 31 elements\n",
    "dataFiltered=flights.filter(lambda x: len(x)==31)\n",
    "dataFiltered.first()"
   ]
  },
  {
   "cell_type": "code",
   "execution_count": 16,
   "metadata": {},
   "outputs": [
    {
     "data": {
      "text/plain": [
       "('2015',\n",
       " '1',\n",
       " '1',\n",
       " '4',\n",
       " 'US',\n",
       " '2013',\n",
       " 'N584UW',\n",
       " 'LAX',\n",
       " 'CLT',\n",
       " '0030',\n",
       " '0044',\n",
       " '14',\n",
       " '0')"
      ]
     },
     "execution_count": 16,
     "metadata": {},
     "output_type": "execute_result"
    }
   ],
   "source": [
    "# YEAR,MONTH,DAY,DAY_OF_WEEK,AIRLINE,FLIGHT_NUMBER,TAIL_NUMBER,ORIGIN_AIRPORT,DESTINATION_AIRPORT,SCHEDULED_DEPARTURE,DEPARTURE_TIME,DEPARTURE_DELAY, CANCELLED\n",
    "# We only need the following elements\n",
    "mainFlightsData = dataFiltered.map(lambda p: (p[0], p[1] , p[2] , p[3], p[4] , p[5] , p[6], p[7] , p[8] , p[9], p[10], p[11], p[24] ))\n",
    "\n",
    "# Cache this RDD, we will use it alot\n",
    "mainFlightsData.cache()\n",
    "\n",
    "# Show the first \n",
    "mainFlightsData.first()\n",
    "\n",
    "# Note: this new RDD will have only 13 elements (max index 12) \n",
    "\n",
    "# 0 YEAR,\n",
    "# 1 MONTH,\n",
    "# 2 DAY,\n",
    "# 3 DAY_OF_WEEK,\n",
    "# 4 AIRLINE, \n",
    "# 5 FLIGHT_NUMBER,\n",
    "# 6 TAIL_NUMBER,\n",
    "# 7 ORIGIN_AIRPORT,\n",
    "# 8 DESTINATION_AIRPORT,\n",
    "# 9 SCHEDULED_DEPARTURE,\n",
    "# 10 DEPARTURE_TIME,\n",
    "# 11 DEPARTURE_DELAY, \n",
    "# 12 CANCELLED"
   ]
  },
  {
   "cell_type": "code",
   "execution_count": 17,
   "metadata": {},
   "outputs": [
    {
     "data": {
      "text/plain": [
       "['IATA_CODE,AIRLINE', 'UA,United Air Lines Inc.']"
      ]
     },
     "execution_count": 17,
     "metadata": {},
     "output_type": "execute_result"
    }
   ],
   "source": [
    "airlines = sc.textFile(\"./data/airlines.csv.bz2\")\n",
    "airlines.take(2)"
   ]
  },
  {
   "cell_type": "code",
   "execution_count": 18,
   "metadata": {},
   "outputs": [
    {
     "data": {
      "text/plain": [
       "['IATA_CODE,AIRPORT,CITY,STATE,COUNTRY,LATITUDE,LONGITUDE',\n",
       " 'ABE,Lehigh Valley International Airport,Allentown,PA,USA,40.65236,-75.44040']"
      ]
     },
     "execution_count": 18,
     "metadata": {},
     "output_type": "execute_result"
    }
   ],
   "source": [
    "airports = sc.textFile(\"./data/airports.csv.bz2\")\n",
    "airports.take(2)"
   ]
  },
  {
   "cell_type": "code",
   "execution_count": 19,
   "metadata": {},
   "outputs": [
    {
     "data": {
      "text/plain": [
       "'UA,United Air Lines Inc.'"
      ]
     },
     "execution_count": 19,
     "metadata": {},
     "output_type": "execute_result"
    }
   ],
   "source": [
    "# Remove the header from the RDD\n",
    "airlinesHeader = airlines.first()\n",
    "header1 = sc.parallelize([airlinesHeader])\n",
    "airlinesWithOutHeader = airlines.subtract(header1)\n",
    "airlinesWithOutHeader.first()"
   ]
  },
  {
   "cell_type": "code",
   "execution_count": 20,
   "metadata": {},
   "outputs": [
    {
     "data": {
      "text/plain": [
       "'ABI,Abilene Regional Airport,Abilene,TX,USA,32.41132,-99.68190'"
      ]
     },
     "execution_count": 20,
     "metadata": {},
     "output_type": "execute_result"
    }
   ],
   "source": [
    "# Remove the header from the RDD\n",
    "airportsHeader = airports.first()\n",
    "header1 = sc.parallelize([airportsHeader])\n",
    "airportsWithOutHeader = airports.subtract(header1)\n",
    "airportsWithOutHeader.first()"
   ]
  },
  {
   "cell_type": "code",
   "execution_count": null,
   "metadata": {},
   "outputs": [],
   "source": [
    "# Q1 - Find a list of unique Origin Airports"
   ]
  },
  {
   "cell_type": "code",
   "execution_count": null,
   "metadata": {},
   "outputs": [],
   "source": [
    "# Q2 - Find a list of (Origin, Destination) pairs"
   ]
  },
  {
   "cell_type": "code",
   "execution_count": null,
   "metadata": {},
   "outputs": [],
   "source": [
    "# Q3 - Find the Origin airport which had the largest departure delay \n",
    "# in the month of January"
   ]
  },
  {
   "cell_type": "code",
   "execution_count": null,
   "metadata": {},
   "outputs": [],
   "source": [
    "# Q4 - Find out which carrier has the largest delay on Weekends. \n"
   ]
  },
  {
   "cell_type": "code",
   "execution_count": null,
   "metadata": {},
   "outputs": [],
   "source": [
    "# Q5 - Which airport has the most cancellation of flights?\n"
   ]
  },
  {
   "cell_type": "code",
   "execution_count": null,
   "metadata": {},
   "outputs": [],
   "source": [
    "# Q6 - Find percentage of flights cancelled for each carrier.\n"
   ]
  },
  {
   "cell_type": "code",
   "execution_count": null,
   "metadata": {},
   "outputs": [],
   "source": [
    "# Q7 - Find the largest departure delay for each carrier\n"
   ]
  },
  {
   "cell_type": "code",
   "execution_count": null,
   "metadata": {},
   "outputs": [],
   "source": [
    "# Q8 - Find the largest departure delay for each carrier in each month"
   ]
  },
  {
   "cell_type": "code",
   "execution_count": null,
   "metadata": {},
   "outputs": [],
   "source": [
    "# Q9 - For each carrier find the average Departure delay \n"
   ]
  },
  {
   "cell_type": "code",
   "execution_count": null,
   "metadata": {},
   "outputs": [],
   "source": [
    "# Q10 - For each carrier find the average Departure delay for each month\n"
   ]
  },
  {
   "cell_type": "code",
   "execution_count": null,
   "metadata": {},
   "outputs": [],
   "source": [
    "# Q11 - Which date of year has the highest rate  of flight cancellations?\n",
    "# Rate of flight cancellation is calculated by deviding number of \n",
    "# canceled flights by total number of flights.\n"
   ]
  },
  {
   "cell_type": "code",
   "execution_count": null,
   "metadata": {},
   "outputs": [],
   "source": [
    "# Q12 - Calculate the number of flights to each destination state\n",
    "# For each carrier, for which state do they have the largest average delay? \n",
    "# You will need the airline and airport data sets for this question. "
   ]
  }
 ],
 "metadata": {
  "kernelspec": {
   "display_name": "Python 3",
   "language": "python",
   "name": "python3"
  },
  "language_info": {
   "codemirror_mode": {
    "name": "ipython",
    "version": 3
   },
   "file_extension": ".py",
   "mimetype": "text/x-python",
   "name": "python",
   "nbconvert_exporter": "python",
   "pygments_lexer": "ipython3",
   "version": "3.7.4"
  }
 },
 "nbformat": 4,
 "nbformat_minor": 2
}
