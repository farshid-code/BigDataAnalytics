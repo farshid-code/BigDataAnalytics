{
 "cells": [
  {
   "cell_type": "code",
   "execution_count": 1,
   "metadata": {},
   "outputs": [],
   "source": [
    "from pyspark import sql\n",
    "from pyspark.sql import functions as f, udf"
   ]
  },
  {
   "cell_type": "code",
   "execution_count": 2,
   "metadata": {},
   "outputs": [],
   "source": [
    "# Download the data files from AWS \n",
    "\n",
    "!wget -q  https://s3.amazonaws.com/metcs777/flights.csv.bz2\n",
    "    \n",
    "!wget -q  https://s3.amazonaws.com/metcs777/airports.csv.bz2"
   ]
  },
  {
   "cell_type": "code",
   "execution_count": 3,
   "metadata": {},
   "outputs": [],
   "source": [
    "sqlContext = sql.SparkSession.builder \\\n",
    "    .master(\"local\") \\\n",
    "    .appName(\"Flight DF\") \\\n",
    "    .getOrCreate()\n",
    "\n",
    "flights = sqlContext.read.format('csv')\\\n",
    "    .options(header='true', inferSchema='true')\\\n",
    "    .load(\"flights.csv.bz2\")\n",
    "\n",
    "airport = sqlContext.read.format('csv')\\\n",
    "    .options(header='true', inferSchema='true')\\\n",
    "    .load(\"airports.csv.bz2\")"
   ]
  },
  {
   "cell_type": "code",
   "execution_count": 4,
   "metadata": {},
   "outputs": [
    {
     "name": "stdout",
     "output_type": "stream",
     "text": [
      "root\n",
      " |-- YEAR: integer (nullable = true)\n",
      " |-- MONTH: integer (nullable = true)\n",
      " |-- DAY: integer (nullable = true)\n",
      " |-- DAY_OF_WEEK: integer (nullable = true)\n",
      " |-- AIRLINE: string (nullable = true)\n",
      " |-- FLIGHT_NUMBER: integer (nullable = true)\n",
      " |-- TAIL_NUMBER: string (nullable = true)\n",
      " |-- ORIGIN_AIRPORT: string (nullable = true)\n",
      " |-- DESTINATION_AIRPORT: string (nullable = true)\n",
      " |-- SCHEDULED_DEPARTURE: integer (nullable = true)\n",
      " |-- DEPARTURE_TIME: integer (nullable = true)\n",
      " |-- DEPARTURE_DELAY: integer (nullable = true)\n",
      " |-- TAXI_OUT: integer (nullable = true)\n",
      " |-- WHEELS_OFF: integer (nullable = true)\n",
      " |-- SCHEDULED_TIME: integer (nullable = true)\n",
      " |-- ELAPSED_TIME: integer (nullable = true)\n",
      " |-- AIR_TIME: integer (nullable = true)\n",
      " |-- DISTANCE: integer (nullable = true)\n",
      " |-- WHEELS_ON: integer (nullable = true)\n",
      " |-- TAXI_IN: integer (nullable = true)\n",
      " |-- SCHEDULED_ARRIVAL: integer (nullable = true)\n",
      " |-- ARRIVAL_TIME: integer (nullable = true)\n",
      " |-- ARRIVAL_DELAY: integer (nullable = true)\n",
      " |-- DIVERTED: integer (nullable = true)\n",
      " |-- CANCELLED: integer (nullable = true)\n",
      " |-- CANCELLATION_REASON: string (nullable = true)\n",
      " |-- AIR_SYSTEM_DELAY: integer (nullable = true)\n",
      " |-- SECURITY_DELAY: integer (nullable = true)\n",
      " |-- AIRLINE_DELAY: integer (nullable = true)\n",
      " |-- LATE_AIRCRAFT_DELAY: integer (nullable = true)\n",
      " |-- WEATHER_DELAY: integer (nullable = true)\n",
      "\n",
      "root\n",
      " |-- IATA_CODE: string (nullable = true)\n",
      " |-- AIRPORT: string (nullable = true)\n",
      " |-- CITY: string (nullable = true)\n",
      " |-- STATE: string (nullable = true)\n",
      " |-- COUNTRY: string (nullable = true)\n",
      " |-- LATITUDE: double (nullable = true)\n",
      " |-- LONGITUDE: double (nullable = true)\n",
      "\n"
     ]
    }
   ],
   "source": [
    "flights.printSchema()\n",
    "airport.printSchema()"
   ]
  },
  {
   "cell_type": "markdown",
   "metadata": {},
   "source": [
    "# Questions "
   ]
  },
  {
   "cell_type": "markdown",
   "metadata": {},
   "source": [
    "## Q1 Find a list of Origin Airports"
   ]
  },
  {
   "cell_type": "code",
   "execution_count": 5,
   "metadata": {},
   "outputs": [
    {
     "name": "stdout",
     "output_type": "stream",
     "text": [
      "+--------------+\n",
      "|ORIGIN_AIRPORT|\n",
      "+--------------+\n",
      "|           BGM|\n",
      "|           PSE|\n",
      "|           INL|\n",
      "|           DLG|\n",
      "|         12888|\n",
      "|           MSY|\n",
      "|           PPG|\n",
      "|         12003|\n",
      "|         15041|\n",
      "|           GEG|\n",
      "|           SNA|\n",
      "|           BUR|\n",
      "|           GRB|\n",
      "|           GTF|\n",
      "|         14986|\n",
      "|         13851|\n",
      "|           IDA|\n",
      "|         11150|\n",
      "|         15412|\n",
      "|           GRR|\n",
      "+--------------+\n",
      "only showing top 20 rows\n",
      "\n"
     ]
    }
   ],
   "source": [
    "#Q1 Find a list of Origin Airports\n",
    "flights.select(\"ORIGIN_AIRPORT\").distinct().show()"
   ]
  },
  {
   "cell_type": "markdown",
   "metadata": {},
   "source": [
    "## Q2 Find a list of (Origin, Destination) pairs\n"
   ]
  },
  {
   "cell_type": "code",
   "execution_count": 6,
   "metadata": {},
   "outputs": [
    {
     "name": "stdout",
     "output_type": "stream",
     "text": [
      "+--------------+-------------------+\n",
      "|ORIGIN_AIRPORT|DESTINATION_AIRPORT|\n",
      "+--------------+-------------------+\n",
      "|           BQN|                MCO|\n",
      "|           PHL|                MCO|\n",
      "|           MCI|                IAH|\n",
      "|           SPI|                ORD|\n",
      "|           SNA|                PHX|\n",
      "|           LBB|                DEN|\n",
      "|           ORD|                PDX|\n",
      "|           EWR|                STT|\n",
      "|           ATL|                GSP|\n",
      "|           MCI|                MKE|\n",
      "|           PBI|                DCA|\n",
      "|           SMF|                BUR|\n",
      "|           MDW|                MEM|\n",
      "|           LAS|                LIT|\n",
      "|           TPA|                ACY|\n",
      "|           DSM|                EWR|\n",
      "|           FSD|                ATL|\n",
      "|           SJC|                LIH|\n",
      "|           CLE|                SJU|\n",
      "|         11298|              11057|\n",
      "+--------------+-------------------+\n",
      "only showing top 20 rows\n",
      "\n"
     ]
    }
   ],
   "source": [
    "#Q2 Find a list of (Origin, Destination) pairs\n",
    "flights.select(\"ORIGIN_AIRPORT\", \"DESTINATION_AIRPORT\").distinct().show()"
   ]
  },
  {
   "cell_type": "markdown",
   "metadata": {},
   "source": [
    "## Q3 Find the Origin airport which had the largest departure delay in the month of January\n"
   ]
  },
  {
   "cell_type": "code",
   "execution_count": 7,
   "metadata": {},
   "outputs": [
    {
     "name": "stdout",
     "output_type": "stream",
     "text": [
      "+--------------+\n",
      "|ORIGIN_AIRPORT|\n",
      "+--------------+\n",
      "|           BHM|\n",
      "+--------------+\n",
      "\n"
     ]
    }
   ],
   "source": [
    "#Q3 Find the Origin airport which had the largest departure delay in the month of January\n",
    "flights.where(flights.MONTH == 1)\\\n",
    "    .orderBy(\"DEPARTURE_DELAY\", ascending=False)\\\n",
    "    .limit(1)\\\n",
    "    .select(\"ORIGIN_AIRPORT\")\\\n",
    "    .show()"
   ]
  },
  {
   "cell_type": "markdown",
   "metadata": {},
   "source": [
    "## Q4 Find out which carrier has the largest delay on Weekends. \n"
   ]
  },
  {
   "cell_type": "code",
   "execution_count": 8,
   "metadata": {},
   "outputs": [
    {
     "name": "stdout",
     "output_type": "stream",
     "text": [
      "+-------+\n",
      "|AIRLINE|\n",
      "+-------+\n",
      "|     AA|\n",
      "+-------+\n",
      "\n"
     ]
    }
   ],
   "source": [
    "#Q4 Find out which carrier has the largest delay on Weekends. \n",
    "flights.filter(\"DAY_OF_WEEK = 6 OR DAY_OF_WEEK = 7\" )\\\n",
    "    .orderBy(\"DEPARTURE_DELAY\", ascending=False)\\\n",
    "    .limit(1)\\\n",
    "    .select(\"AIRLINE\")\\\n",
    "    .show()"
   ]
  },
  {
   "cell_type": "markdown",
   "metadata": {},
   "source": [
    "## Q5 Which airport has the most cancellation of flights?\n"
   ]
  },
  {
   "cell_type": "code",
   "execution_count": 9,
   "metadata": {},
   "outputs": [
    {
     "name": "stdout",
     "output_type": "stream",
     "text": [
      "+--------------+-----+\n",
      "|ORIGIN_AIRPORT|COUNT|\n",
      "+--------------+-----+\n",
      "|           ORD| 8548|\n",
      "+--------------+-----+\n",
      "\n"
     ]
    }
   ],
   "source": [
    "#Q5 Which airport has the most cancellation of flights?\n",
    "flights.filter(\"CANCELLED = 1\")\\\n",
    "    .withColumn(\"COUNT\", f.lit(1))\\\n",
    "    .groupBy(\"ORIGIN_AIRPORT\")\\\n",
    "    .agg(f.sum(\"COUNT\").alias(\"COUNT\"))\\\n",
    "    .orderBy(\"COUNT\", ascending=False)\\\n",
    "    .limit(1)\\\n",
    "    .select(\"ORIGIN_AIRPORT\", \"COUNT\")\\\n",
    "    .show()"
   ]
  },
  {
   "cell_type": "markdown",
   "metadata": {},
   "source": [
    "## Q6 Find the percent of flights cancelled for each carrier.\n"
   ]
  },
  {
   "cell_type": "code",
   "execution_count": 10,
   "metadata": {},
   "outputs": [
    {
     "name": "stdout",
     "output_type": "stream",
     "text": [
      "+-------+---------------+-------+-------------------+\n",
      "|AIRLINE|TOTAL_CANCELLED|  TOTAL|        CANCEL_RATE|\n",
      "+-------+---------------+-------+-------------------+\n",
      "|     UA|           6573| 515723|  1.274521400053905|\n",
      "|     NK|           2004| 117379| 1.7072900604026275|\n",
      "|     AA|          10919| 725984| 1.5040276369727157|\n",
      "|     EV|          15231| 571977| 2.6628693111785964|\n",
      "|     B6|           4276| 267048| 1.6012102693148795|\n",
      "|     DL|           3824| 875881| 0.4365889886868193|\n",
      "|     OO|           9960| 588353| 1.6928612584621818|\n",
      "|     F9|            588|  90836| 0.6473204456382932|\n",
      "|     US|           4067| 198715| 2.0466497244797823|\n",
      "|     MQ|          15025| 294632| 5.0995818512585185|\n",
      "|     HA|            171|  76272|0.22419760855884205|\n",
      "|     AS|            669| 172521|   0.38777887909298|\n",
      "|     VX|            534|  61903| 0.8626399366751207|\n",
      "|     WN|          16043|1261855| 1.2713822111098343|\n",
      "+-------+---------------+-------+-------------------+\n",
      "\n"
     ]
    }
   ],
   "source": [
    "#Q6 Find the percent of flights cancelled for each carrier.\n",
    "flights.withColumn(\"TOTAL\", f.lit(1))\\\n",
    "    .groupBy(\"AIRLINE\")\\\n",
    "    .agg(f.sum(\"CANCELLED\").alias(\"TOTAL_CANCELLED\"), f.sum(\"TOTAL\").alias(\"TOTAL\"))\\\n",
    "    .withColumn(\"CANCEL_RATE\", f.col(\"TOTAL_CANCELLED\")/f.col(\"TOTAL\")*100)\\\n",
    "    .show()"
   ]
  },
  {
   "cell_type": "markdown",
   "metadata": {},
   "source": [
    "## Q7 Find the largest departure delay for each carrier\n"
   ]
  },
  {
   "cell_type": "code",
   "execution_count": 11,
   "metadata": {},
   "outputs": [
    {
     "name": "stdout",
     "output_type": "stream",
     "text": [
      "+-------+-------------------+\n",
      "|AIRLINE|MAX_DEPARTURE_DELAY|\n",
      "+-------+-------------------+\n",
      "|     UA|               1314|\n",
      "|     NK|                836|\n",
      "|     AA|               1988|\n",
      "|     EV|               1274|\n",
      "|     B6|               1006|\n",
      "|     DL|               1289|\n",
      "|     OO|               1378|\n",
      "|     F9|               1112|\n",
      "|     US|                759|\n",
      "|     MQ|               1544|\n",
      "|     HA|               1433|\n",
      "|     AS|                963|\n",
      "|     VX|                644|\n",
      "|     WN|                665|\n",
      "+-------+-------------------+\n",
      "\n"
     ]
    }
   ],
   "source": [
    "#Q7 Find the largest departure delay for each carrier\n",
    "flights.groupBy(\"AIRLINE\")\\\n",
    "    .agg(f.max(\"DEPARTURE_DELAY\").alias(\"MAX_DEPARTURE_DELAY\"))\\\n",
    "    .show()"
   ]
  },
  {
   "cell_type": "code",
   "execution_count": 12,
   "metadata": {},
   "outputs": [
    {
     "name": "stdout",
     "output_type": "stream",
     "text": [
      "+-------+-----+-------------------+\n",
      "|AIRLINE|MONTH|MAX_DEPARTURE_DELAY|\n",
      "+-------+-----+-------------------+\n",
      "|     NK|   11|                476|\n",
      "|     VX|   10|                430|\n",
      "|     UA|   12|               1194|\n",
      "|     HA|   10|               1022|\n",
      "|     OO|    3|                874|\n",
      "|     OO|    4|                878|\n",
      "|     OO|    9|                893|\n",
      "|     F9|    2|                852|\n",
      "|     F9|   12|                781|\n",
      "|     HA|    5|                326|\n",
      "|     UA|    4|               1314|\n",
      "|     MQ|   10|               1544|\n",
      "|     HA|   12|               1095|\n",
      "|     EV|    4|                757|\n",
      "|     DL|    6|               1201|\n",
      "|     DL|    3|               1166|\n",
      "|     DL|    8|               1207|\n",
      "|     B6|    6|                507|\n",
      "|     DL|   10|               1120|\n",
      "|     OO|   10|               1122|\n",
      "+-------+-----+-------------------+\n",
      "only showing top 20 rows\n",
      "\n"
     ]
    }
   ],
   "source": [
    "#Q8 Find the largest departure delay for each carrier for each month\n",
    "flights.groupBy(\"AIRLINE\", \"MONTH\")\\\n",
    "    .agg(f.max(\"DEPARTURE_DELAY\").alias(\"MAX_DEPARTURE_DELAY\"))\\\n",
    "    .show()"
   ]
  },
  {
   "cell_type": "markdown",
   "metadata": {},
   "source": [
    "## Q8 Find the largest departure delay for each carrier for each month\n",
    " "
   ]
  },
  {
   "cell_type": "code",
   "execution_count": 13,
   "metadata": {},
   "outputs": [
    {
     "name": "stdout",
     "output_type": "stream",
     "text": [
      "+-------+---------------------+-------+-------------------+\n",
      "|AIRLINE|TOTAL_DEPARTURE_DELAY|  TOTAL|AVG_DEPARTURE_DELAY|\n",
      "+-------+---------------------+-------+-------------------+\n",
      "|     UA|              7355348| 515723|  14.26220664969373|\n",
      "|     NK|              1840887| 117379|  15.68327383944317|\n",
      "|     AA|              6369435| 725984|  8.773519802089302|\n",
      "|     EV|              4857338| 571977|   8.49219111957299|\n",
      "|     B6|              3026467| 267048| 11.333044995656211|\n",
      "|     DL|              6427294| 875881|  7.338090448359994|\n",
      "|     OO|              4517510| 588353|   7.67823058605973|\n",
      "|     F9|              1205449|  90836|  13.27060856928971|\n",
      "|     US|              1196447| 198715| 6.0209194071912036|\n",
      "|     MQ|              2837908| 294632|   9.63204268375465|\n",
      "|     HA|                36972|  76272|0.48473882945248586|\n",
      "|     AS|               306997| 172521| 1.7794761217474975|\n",
      "|     VX|               553852|  61903|  8.947094648078446|\n",
      "|     WN|             13186520|1261855| 10.450107183471951|\n",
      "+-------+---------------------+-------+-------------------+\n",
      "\n"
     ]
    }
   ],
   "source": [
    "#Q9 For each carrier find the average Departure delay\n",
    "flights.withColumn(\"TOTAL\", f.lit(1))\\\n",
    "    .groupBy(\"AIRLINE\")\\\n",
    "    .agg(f.sum(\"DEPARTURE_DELAY\").alias(\"TOTAL_DEPARTURE_DELAY\"), f.sum(\"TOTAL\").alias(\"TOTAL\"))\\\n",
    "    .withColumn(\"AVG_DEPARTURE_DELAY\", f.col(\"TOTAL_DEPARTURE_DELAY\")/f.col(\"TOTAL\"))\\\n",
    "    .show()"
   ]
  },
  {
   "cell_type": "markdown",
   "metadata": {},
   "source": [
    "## Q10 For each carrier find the average Departure delay for each month\n"
   ]
  },
  {
   "cell_type": "code",
   "execution_count": 17,
   "metadata": {},
   "outputs": [
    {
     "name": "stdout",
     "output_type": "stream",
     "text": [
      "+-------+-----+-------------------+\n",
      "|AIRLINE|MONTH|AVG_DEPARTURE_DELAY|\n",
      "+-------+-----+-------------------+\n",
      "|     NK|   11|  8.559720582447856|\n",
      "|     VX|   10|  7.053440702781844|\n",
      "|     UA|   12|  17.51819625716456|\n",
      "|     HA|   10| 0.1680551105414931|\n",
      "|     OO|    3|  5.789528335796158|\n",
      "|     OO|    4|  5.276855399460763|\n",
      "|     OO|    9| 3.8390551181102364|\n",
      "|     F9|    2| 25.258564296780857|\n",
      "|     F9|   12|  15.89396551724138|\n",
      "|     HA|    5|-1.3484612993472178|\n",
      "|     UA|    4| 12.880508925547868|\n",
      "|     MQ|   10| 3.4174779364934946|\n",
      "|     HA|   12|-0.4426517571884984|\n",
      "|     EV|    4|  6.673949204803635|\n",
      "|     DL|    6| 10.844916186654585|\n",
      "|     DL|    3|  8.386646172100424|\n",
      "|     DL|    8|   7.74069452851866|\n",
      "|     B6|    6|  11.31625144073056|\n",
      "|     DL|   10| 3.2151895383312157|\n",
      "|     OO|   10| 3.6338714964759875|\n",
      "+-------+-----+-------------------+\n",
      "only showing top 20 rows\n",
      "\n"
     ]
    }
   ],
   "source": [
    "#Q10 For each carrier find the average Departure delay for each month\n",
    "flights.withColumn(\"TOTAL\", f.lit(1))\\\n",
    "    .groupBy(\"AIRLINE\",\"MONTH\")\\\n",
    "    .agg(f.sum(\"DEPARTURE_DELAY\").alias(\"TOTAL_DEPARTURE_DELAY\"), f.sum(\"TOTAL\").alias(\"TOTAL\"))\\\n",
    "    .withColumn(\"AVG_DEPARTURE_DELAY\", f.col(\"TOTAL_DEPARTURE_DELAY\")/f.col(\"TOTAL\"))\\\n",
    "    .select(\"AIRLINE\", \"MONTH\", \"AVG_DEPARTURE_DELAY\")\\\n",
    "    .show()"
   ]
  },
  {
   "cell_type": "markdown",
   "metadata": {},
   "source": [
    "## Q11 Which date of year has the highest rate  of flight cancellations? Rate of flight cancellation is calculated by deviding number of canceled flights by total number of flights.\n"
   ]
  },
  {
   "cell_type": "code",
   "execution_count": 18,
   "metadata": {},
   "outputs": [
    {
     "name": "stdout",
     "output_type": "stream",
     "text": [
      "+----+-----+---+\n",
      "|YEAR|MONTH|DAY|\n",
      "+----+-----+---+\n",
      "|2015|    1| 27|\n",
      "+----+-----+---+\n",
      "\n"
     ]
    }
   ],
   "source": [
    "#Q11 Which date of year has the highest rate  of flight cancellations?\n",
    "# Rate of flight cancellation is calculated by deviding number of canceled flights by total number of flights.\n",
    "\n",
    "flights.withColumn(\"TOTAL\", f.lit(1))\\\n",
    "    .groupBy(\"YEAR\",\"MONTH\",\"DAY\")\\\n",
    "    .agg(f.sum(\"CANCELLED\").alias(\"TOTAL_CANCELLED\"), f.sum(\"TOTAL\").alias(\"TOTAL\"))\\\n",
    "    .withColumn(\"CANCEL_RATE\", f.col(\"TOTAL_CANCELLED\")/f.col(\"TOTAL\")*100)\\\n",
    "    .orderBy(\"CANCEL_RATE\", ascending=False)\\\n",
    "    .limit(1)\\\n",
    "    .select(\"YEAR\",\"MONTH\",\"DAY\")\\\n",
    "    .show()\n"
   ]
  },
  {
   "cell_type": "markdown",
   "metadata": {},
   "source": [
    "## Q12 Calculate the number of flights to each destination state For each carrier, for which state do they have the largest average delay? You will need the airline and airport data sets for this question."
   ]
  },
  {
   "cell_type": "code",
   "execution_count": 19,
   "metadata": {},
   "outputs": [
    {
     "name": "stdout",
     "output_type": "stream",
     "text": [
      "+-------+------------------+\n",
      "|AIRLINE|MAX_AVGDELAY_STATE|\n",
      "+-------+------------------+\n",
      "|     UA|                IL|\n",
      "|     NK|                IL|\n",
      "|     AA|                TX|\n",
      "|     EV|                GA|\n",
      "|     B6|                NY|\n",
      "|     DL|                GA|\n",
      "|     OO|                IL|\n",
      "|     F9|                CO|\n",
      "|     US|                NC|\n",
      "|     MQ|                IL|\n",
      "|     HA|                HI|\n",
      "|     AS|                WA|\n",
      "|     VX|                CA|\n",
      "|     WN|                IL|\n",
      "+-------+------------------+\n",
      "\n"
     ]
    }
   ],
   "source": [
    "#Q12 Calculate the number of flights to each destination state\n",
    "# For each carrier, for which state do they have the largest average delay? \n",
    "# You will need the airline and airport data sets for this question.\n",
    "\n",
    "from pyspark.sql.types import ArrayType, IntegerType, StringType\n",
    "from pyspark.sql.functions import udf\n",
    "fold_list = udf(lambda x,y: sorted(zip(x,y))[-1][1],StringType())\n",
    "\n",
    "#Q8 Find the largest departure delay for each carrier for each month\n",
    "flights.withColumn(\"COUNT\", f.lit(1))\\\n",
    "    .groupBy(\"AIRLINE\", \"DESTINATION_AIRPORT\")\\\n",
    "    .agg(f.sum(\"DEPARTURE_DELAY\").alias(\"TOTAL_DEPARTURE_DELAY\"),f.sum(\"COUNT\").alias(\"COUNT\"))\\\n",
    "    .withColumn(\"DEPARTURE_AVG_DELAY\", f.col(\"TOTAL_DEPARTURE_DELAY\")/f.col(\"COUNT\"))\\\n",
    "    .join(airport, flights.DESTINATION_AIRPORT == airport.IATA_CODE)\\\n",
    "    .select(\"AIRLINE\", \"TOTAL_DEPARTURE_DELAY\", \"STATE\")\\\n",
    "    .groupBy(\"AIRLINE\")\\\n",
    "    .agg(\n",
    "        f.collect_list(\"TOTAL_DEPARTURE_DELAY\").alias(\"delay\"),\n",
    "        f.collect_list(\"STATE\").alias(\"state\")\n",
    "    )\\\n",
    "    .withColumn(\"MAX_AVGDELAY_STATE\", fold_list(f.col(\"delay\"), f.col(\"state\")))\\\n",
    "    .select(\"AIRLINE\", \"MAX_AVGDELAY_STATE\")\\\n",
    "    .show()\n"
   ]
  },
  {
   "cell_type": "code",
   "execution_count": null,
   "metadata": {},
   "outputs": [],
   "source": []
  }
 ],
 "metadata": {
  "kernelspec": {
   "display_name": "Python 3",
   "language": "python",
   "name": "python3"
  },
  "language_info": {
   "codemirror_mode": {
    "name": "ipython",
    "version": 3
   },
   "file_extension": ".py",
   "mimetype": "text/x-python",
   "name": "python",
   "nbconvert_exporter": "python",
   "pygments_lexer": "ipython3",
   "version": "3.8.5"
  }
 },
 "nbformat": 4,
 "nbformat_minor": 2
}
