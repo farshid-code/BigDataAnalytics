{
  "nbformat": 4,
  "nbformat_minor": 0,
  "metadata": {
    "colab": {
      "name": "RDD Operations",
      "provenance": [],
      "toc_visible": true
    },
    "kernelspec": {
      "name": "python3",
      "display_name": "Python 3"
    },
    "language_info": {
      "name": "python"
    }
  },
  "cells": [
    {
      "cell_type": "code",
      "execution_count": 1,
      "metadata": {
        "colab": {
          "base_uri": "https://localhost:8080/"
        },
        "id": "aD3O3_zBXRNA",
        "outputId": "8b4eceb6-416b-444f-d577-52eacfb0621f"
      },
      "outputs": [
        {
          "output_type": "stream",
          "name": "stdout",
          "text": [
            "Requirement already satisfied: pyspark in /usr/local/lib/python3.7/dist-packages (3.2.1)\n",
            "Requirement already satisfied: py4j==0.10.9.3 in /usr/local/lib/python3.7/dist-packages (from pyspark) (0.10.9.3)\n"
          ]
        }
      ],
      "source": [
        "!pip install pyspark"
      ]
    },
    {
      "cell_type": "code",
      "source": [
        "from pyspark import SparkContext\n",
        "sc = SparkContext()\n",
        "sc"
      ],
      "metadata": {
        "id": "A6QpiLo_Yp9Z",
        "colab": {
          "base_uri": "https://localhost:8080/",
          "height": 196
        },
        "outputId": "02154bac-9918-48be-8864-b826fbfec495"
      },
      "execution_count": 2,
      "outputs": [
        {
          "output_type": "execute_result",
          "data": {
            "text/plain": [
              "<SparkContext master=local[*] appName=pyspark-shell>"
            ],
            "text/html": [
              "\n",
              "        <div>\n",
              "            <p><b>SparkContext</b></p>\n",
              "\n",
              "            <p><a href=\"http://53f2e43f6ea6:4040\">Spark UI</a></p>\n",
              "\n",
              "            <dl>\n",
              "              <dt>Version</dt>\n",
              "                <dd><code>v3.2.1</code></dd>\n",
              "              <dt>Master</dt>\n",
              "                <dd><code>local[*]</code></dd>\n",
              "              <dt>AppName</dt>\n",
              "                <dd><code>pyspark-shell</code></dd>\n",
              "            </dl>\n",
              "        </div>\n",
              "        "
            ]
          },
          "metadata": {},
          "execution_count": 2
        }
      ]
    },
    {
      "cell_type": "code",
      "source": [
        "# flatMap\n",
        "rdd = sc.parallelize([2, 3, 4])\n",
        "newRDD = rdd.flatMap(lambda x: range(1, x*2))\n",
        "newRDD.collect()\n"
      ],
      "metadata": {
        "colab": {
          "base_uri": "https://localhost:8080/"
        },
        "id": "Vgip0aeKXuVc",
        "outputId": "0f456c05-6afa-4cc7-d1c9-ca3bfa2c9532"
      },
      "execution_count": 3,
      "outputs": [
        {
          "output_type": "execute_result",
          "data": {
            "text/plain": [
              "[1, 2, 3, 1, 2, 3, 4, 5, 1, 2, 3, 4, 5, 6, 7]"
            ]
          },
          "metadata": {},
          "execution_count": 3
        }
      ]
    },
    {
      "cell_type": "code",
      "source": [
        "# mapValues\n",
        "rdd = sc.parallelize([(\"a\", [\"apple\", \"banana\", \"lemon\"]), (\"b\", [\"grapes\"])])\n",
        "rdd.mapValues(lambda x: len(x)).collect()\n"
      ],
      "metadata": {
        "colab": {
          "base_uri": "https://localhost:8080/"
        },
        "id": "5PWek5HIYpPn",
        "outputId": "aacf32a7-9980-4304-98fb-32e14cb6297d"
      },
      "execution_count": 4,
      "outputs": [
        {
          "output_type": "execute_result",
          "data": {
            "text/plain": [
              "[('a', 3), ('b', 1)]"
            ]
          },
          "metadata": {},
          "execution_count": 4
        }
      ]
    },
    {
      "cell_type": "code",
      "source": [
        "# mapValues\n",
        "rdd = sc.parallelize([(\"a\", [\"apple\", \"banana\", \"lemon\"]), (\"b\", [\"grapes\"])])\n",
        "rdd.mapValues(len).collect()"
      ],
      "metadata": {
        "colab": {
          "base_uri": "https://localhost:8080/"
        },
        "id": "zo4X1NYNLgK9",
        "outputId": "3521a80c-6d7f-4124-f01c-21244aa5e448"
      },
      "execution_count": 5,
      "outputs": [
        {
          "output_type": "execute_result",
          "data": {
            "text/plain": [
              "[('a', 3), ('b', 1)]"
            ]
          },
          "metadata": {},
          "execution_count": 5
        }
      ]
    },
    {
      "cell_type": "code",
      "source": [
        "# map\n",
        "rdd.map(lambda x: (x[0], len(x[1]))).collect()"
      ],
      "metadata": {
        "colab": {
          "base_uri": "https://localhost:8080/"
        },
        "id": "0L5MobtMZ7IO",
        "outputId": "da02f9fc-a940-4b17-ddd4-478ad2000c67"
      },
      "execution_count": 6,
      "outputs": [
        {
          "output_type": "execute_result",
          "data": {
            "text/plain": [
              "[('a', 3), ('b', 1)]"
            ]
          },
          "metadata": {},
          "execution_count": 6
        }
      ]
    },
    {
      "cell_type": "code",
      "source": [
        "# filter\n",
        "rdd = sc.parallelize([1, 2, 3, 4, 5])\n",
        "rdd.filter(lambda x: x%2 == 0).collect()\n"
      ],
      "metadata": {
        "colab": {
          "base_uri": "https://localhost:8080/"
        },
        "id": "snzPiPmfbNwg",
        "outputId": "b33a863d-de40-4836-cf24-d2c8cb75be90"
      },
      "execution_count": 7,
      "outputs": [
        {
          "output_type": "execute_result",
          "data": {
            "text/plain": [
              "[2, 4]"
            ]
          },
          "metadata": {},
          "execution_count": 7
        }
      ]
    },
    {
      "cell_type": "markdown",
      "source": [
        "Reduce"
      ],
      "metadata": {
        "id": "uoQhct0yX9Fh"
      }
    },
    {
      "cell_type": "code",
      "source": [
        "# reduce\n",
        "sc.parallelize([1, 2, 3, 4, 5]).reduce(lambda x, y: x+y)"
      ],
      "metadata": {
        "colab": {
          "base_uri": "https://localhost:8080/"
        },
        "id": "20E2P47JbNzR",
        "outputId": "df934b66-3575-4ce5-bda0-60c5f656486a"
      },
      "execution_count": 8,
      "outputs": [
        {
          "output_type": "execute_result",
          "data": {
            "text/plain": [
              "15"
            ]
          },
          "metadata": {},
          "execution_count": 8
        }
      ]
    },
    {
      "cell_type": "code",
      "source": [
        "# reduceByKey\n",
        "rdd = sc.parallelize([(\"to\", 1), (\"be\", 1), (\"or\", 1), (\"not\", 1), (\"to\", 1),(\"be\", 1)])\n",
        "rdd.reduceByKey(lambda x, y: x+y).collect()\n"
      ],
      "metadata": {
        "colab": {
          "base_uri": "https://localhost:8080/"
        },
        "id": "qynkIX3CbN2Q",
        "outputId": "7d02b8ef-7a95-4831-c5b2-d3bb1c71c2ce"
      },
      "execution_count": 9,
      "outputs": [
        {
          "output_type": "execute_result",
          "data": {
            "text/plain": [
              "[('to', 2), ('be', 2), ('or', 1), ('not', 1)]"
            ]
          },
          "metadata": {},
          "execution_count": 9
        }
      ]
    },
    {
      "cell_type": "code",
      "source": [
        "#  union\n",
        "rdd = sc.parallelize([1, 1, 2, 3])\n",
        "rdd.union(rdd).collect()"
      ],
      "metadata": {
        "id": "Yg11sOGifchl",
        "colab": {
          "base_uri": "https://localhost:8080/"
        },
        "outputId": "2d36be55-21f2-4817-ea36-778652c79b29"
      },
      "execution_count": 10,
      "outputs": [
        {
          "output_type": "execute_result",
          "data": {
            "text/plain": [
              "[1, 1, 2, 3, 1, 1, 2, 3]"
            ]
          },
          "metadata": {},
          "execution_count": 10
        }
      ]
    },
    {
      "cell_type": "code",
      "source": [
        "# distinct\n",
        "sc.parallelize([1, 1, 2, 3]).distinct().collect()\n"
      ],
      "metadata": {
        "id": "ExKoVVy8fckm",
        "colab": {
          "base_uri": "https://localhost:8080/"
        },
        "outputId": "dd665bfe-78bd-46c6-c3cd-03fd32c3f038"
      },
      "execution_count": 11,
      "outputs": [
        {
          "output_type": "execute_result",
          "data": {
            "text/plain": [
              "[2, 1, 3]"
            ]
          },
          "metadata": {},
          "execution_count": 11
        }
      ]
    },
    {
      "cell_type": "code",
      "source": [
        "# join\n",
        "rdd1 = sc.parallelize([(1, 'a'), (1, 'b'), (5, 'c'), (2, 'd'), (3, 'e')])\n",
        "rdd2 = sc.parallelize([(1, 'AA'), (5, 'BB'), (5, 'CC'), (6, 'DD')])\n",
        "rdd1.join(rdd2).collect()"
      ],
      "metadata": {
        "id": "Rf-cDI86fcny",
        "colab": {
          "base_uri": "https://localhost:8080/"
        },
        "outputId": "96b748fc-9347-4dda-d4dc-ffe924eeee1e"
      },
      "execution_count": 12,
      "outputs": [
        {
          "output_type": "execute_result",
          "data": {
            "text/plain": [
              "[(1, ('a', 'AA')), (1, ('b', 'AA')), (5, ('c', 'BB')), (5, ('c', 'CC'))]"
            ]
          },
          "metadata": {},
          "execution_count": 12
        }
      ]
    },
    {
      "cell_type": "code",
      "source": [
        "# leftOuterJoin\n",
        "rdd1 = sc.parallelize([(1, 'a'), (1, 'b'), (5, 'c'), (2, 'd'), (3, 'e')])\n",
        "rdd2 = sc.parallelize([(1, 'AA'), (5, 'BB'), (5, 'CC'), (6, 'DD')])\n",
        "rdd1.leftOuterJoin(rdd2).collect()\n"
      ],
      "metadata": {
        "colab": {
          "base_uri": "https://localhost:8080/"
        },
        "id": "XQb9zReajP6k",
        "outputId": "73b03202-cc2c-4c5b-fae2-dc6dd202c0f0"
      },
      "execution_count": 13,
      "outputs": [
        {
          "output_type": "execute_result",
          "data": {
            "text/plain": [
              "[(1, ('a', 'AA')),\n",
              " (1, ('b', 'AA')),\n",
              " (5, ('c', 'BB')),\n",
              " (5, ('c', 'CC')),\n",
              " (2, ('d', None)),\n",
              " (3, ('e', None))]"
            ]
          },
          "metadata": {},
          "execution_count": 13
        }
      ]
    },
    {
      "cell_type": "code",
      "source": [
        "# rightOuterJoin\n",
        "rdd1 = sc.parallelize([(1, 'a'), (1, 'b'), (5, 'c'), (2, 'd'), (3, 'e')])\n",
        "rdd2 = sc.parallelize([(1, 'AA'), (5, 'BB'), (5, 'CC'), (6, 'DD')])\n",
        "rdd1.rightOuterJoin(rdd2).collect()"
      ],
      "metadata": {
        "colab": {
          "base_uri": "https://localhost:8080/"
        },
        "id": "47VmGPRhjfDs",
        "outputId": "b23d8495-fdf4-4fc7-a5fe-6de40b795daa"
      },
      "execution_count": 14,
      "outputs": [
        {
          "output_type": "execute_result",
          "data": {
            "text/plain": [
              "[(1, ('a', 'AA')),\n",
              " (1, ('b', 'AA')),\n",
              " (5, ('c', 'BB')),\n",
              " (5, ('c', 'CC')),\n",
              " (6, (None, 'DD'))]"
            ]
          },
          "metadata": {},
          "execution_count": 14
        }
      ]
    },
    {
      "cell_type": "code",
      "source": [
        "# fullOuterJoin\n",
        "rdd1 = sc.parallelize([(1, 'a'), (1, 'b'), (5, 'c'), (2, 'd'), (3, 'e')])\n",
        "rdd2 = sc.parallelize([(1, 'AA'), (5, 'BB'), (5, 'CC'), (6, 'DD')])\n",
        "rdd1.fullOuterJoin(rdd2).collect()"
      ],
      "metadata": {
        "colab": {
          "base_uri": "https://localhost:8080/"
        },
        "id": "bmBGjKjyjkHl",
        "outputId": "198e1215-155d-4d90-d306-0dd7f9df8445"
      },
      "execution_count": 15,
      "outputs": [
        {
          "output_type": "execute_result",
          "data": {
            "text/plain": [
              "[(1, ('a', 'AA')),\n",
              " (1, ('b', 'AA')),\n",
              " (5, ('c', 'BB')),\n",
              " (5, ('c', 'CC')),\n",
              " (2, ('d', None)),\n",
              " (6, (None, 'DD')),\n",
              " (3, ('e', None))]"
            ]
          },
          "metadata": {},
          "execution_count": 15
        }
      ]
    },
    {
      "cell_type": "code",
      "source": [
        "# cartesian\n",
        "rdd = sc.parallelize([1,2,3])\n",
        "rdd.cartesian(rdd).collect()"
      ],
      "metadata": {
        "colab": {
          "base_uri": "https://localhost:8080/"
        },
        "id": "seE7YNEZjph2",
        "outputId": "60581da9-3189-4dc4-9d37-49eff79db4d3"
      },
      "execution_count": 16,
      "outputs": [
        {
          "output_type": "execute_result",
          "data": {
            "text/plain": [
              "[(1, 1), (1, 2), (1, 3), (2, 1), (3, 1), (2, 2), (2, 3), (3, 2), (3, 3)]"
            ]
          },
          "metadata": {},
          "execution_count": 16
        }
      ]
    },
    {
      "cell_type": "code",
      "source": [
        "# groupByKey\n",
        "rdd = sc.parallelize([(\"a\", 1), (\"b\", 1), (\"a\", 1)])\n",
        "rdd.groupByKey().collect()\n"
      ],
      "metadata": {
        "colab": {
          "base_uri": "https://localhost:8080/"
        },
        "id": "jjOi5nrCk3MX",
        "outputId": "22115faa-e5ed-4b86-d53b-c4a71330d71b"
      },
      "execution_count": 17,
      "outputs": [
        {
          "output_type": "execute_result",
          "data": {
            "text/plain": [
              "[('b', <pyspark.resultiterable.ResultIterable at 0x7fad233aa5d0>),\n",
              " ('a', <pyspark.resultiterable.ResultIterable at 0x7fad233aa9d0>)]"
            ]
          },
          "metadata": {},
          "execution_count": 17
        }
      ]
    },
    {
      "cell_type": "code",
      "source": [
        "# groupByKey\n",
        "rdd = sc.parallelize([(\"a\", 1), (\"b\", 1), (\"a\", 1), (\"a\", 2), (\"b\", 3)])\n",
        "rdd.groupByKey().mapValues(list).collect()\n"
      ],
      "metadata": {
        "colab": {
          "base_uri": "https://localhost:8080/"
        },
        "id": "W7lwOt6ulWdq",
        "outputId": "6530313d-caff-467a-d07d-04052a17f58b"
      },
      "execution_count": 18,
      "outputs": [
        {
          "output_type": "execute_result",
          "data": {
            "text/plain": [
              "[('b', [1, 3]), ('a', [1, 1, 2])]"
            ]
          },
          "metadata": {},
          "execution_count": 18
        }
      ]
    },
    {
      "cell_type": "code",
      "source": [
        "# sortByKey\n",
        "rdd = sc.parallelize([(\"c\", 1), (\"a\", 1), (\"b\", 1)])\n",
        "rdd.sortByKey().collect()\n",
        "rdd.collect()"
      ],
      "metadata": {
        "colab": {
          "base_uri": "https://localhost:8080/"
        },
        "id": "VqBTcy8qllhw",
        "outputId": "84b1872a-1d27-4caa-a039-55856042a81a"
      },
      "execution_count": 19,
      "outputs": [
        {
          "output_type": "execute_result",
          "data": {
            "text/plain": [
              "[('c', 1), ('a', 1), ('b', 1)]"
            ]
          },
          "metadata": {},
          "execution_count": 19
        }
      ]
    },
    {
      "cell_type": "code",
      "source": [
        "# Aggregate the above RDD\n",
        "def mySequenceFunction(x, y):\n",
        "  x.add(y)\n",
        "  return x\n",
        " \n",
        "def myCombinerFunction(x, y):\n",
        "  x.update(y)\n",
        "  return x\n",
        "rdd = sc.parallelize([(\"c1\", \"p1\"), (\"c2\", \"p1\"), (\"c1\", \"p1\"), (\"c2\", \"p2\"), (\"c2\", \"p3\")])\n",
        "rdd.aggregateByKey(set(), mySequenceFunction, myCombinerFunction).collect()"
      ],
      "metadata": {
        "colab": {
          "base_uri": "https://localhost:8080/"
        },
        "id": "VTckjADYoiwB",
        "outputId": "e732db87-6fc8-494e-cfe2-7f040d3da085"
      },
      "execution_count": 20,
      "outputs": [
        {
          "output_type": "execute_result",
          "data": {
            "text/plain": [
              "[('c1', {'p1'}), ('c2', {'p1', 'p2', 'p3'})]"
            ]
          },
          "metadata": {},
          "execution_count": 20
        }
      ]
    },
    {
      "cell_type": "code",
      "source": [
        "#rdd.treeAggregate(0, mySequenceFunction, myCombinerFunction).collect()"
      ],
      "metadata": {
        "id": "NdloaTSAolsu"
      },
      "execution_count": 21,
      "outputs": []
    },
    {
      "cell_type": "code",
      "source": [
        "# zip\n",
        "x = sc.parallelize(range(0, 5))\n",
        "y = sc.parallelize(range(1000, 1005))\n",
        "x.zip(y).collect()"
      ],
      "metadata": {
        "colab": {
          "base_uri": "https://localhost:8080/"
        },
        "id": "kZr0cNrjp_Y8",
        "outputId": "11f5d106-5833-4652-ba63-2b96c5563cf1"
      },
      "execution_count": 22,
      "outputs": [
        {
          "output_type": "execute_result",
          "data": {
            "text/plain": [
              "[(0, 1000), (1, 1001), (2, 1002), (3, 1003), (4, 1004)]"
            ]
          },
          "metadata": {},
          "execution_count": 22
        }
      ]
    },
    {
      "cell_type": "code",
      "source": [
        "# zipWithIndex\n",
        "y.zipWithIndex().collect()"
      ],
      "metadata": {
        "colab": {
          "base_uri": "https://localhost:8080/"
        },
        "id": "VF-TJ0JL-KVW",
        "outputId": "1533920b-8c9b-4b71-829b-8b443f10f38d"
      },
      "execution_count": 23,
      "outputs": [
        {
          "output_type": "execute_result",
          "data": {
            "text/plain": [
              "[(1000, 0), (1001, 1), (1002, 2), (1003, 3), (1004, 4)]"
            ]
          },
          "metadata": {},
          "execution_count": 23
        }
      ]
    },
    {
      "cell_type": "code",
      "source": [
        "sc.parallelize([\"a\", \"b\", \"c\", \"d\"], 3).zipWithIndex().collect()"
      ],
      "metadata": {
        "colab": {
          "base_uri": "https://localhost:8080/"
        },
        "id": "1XRBYzEp-Vq2",
        "outputId": "1612f10b-a6c0-4305-b349-08718f3cd38f"
      },
      "execution_count": 24,
      "outputs": [
        {
          "output_type": "execute_result",
          "data": {
            "text/plain": [
              "[('a', 0), ('b', 1), ('c', 2), ('d', 3)]"
            ]
          },
          "metadata": {},
          "execution_count": 24
        }
      ]
    },
    {
      "cell_type": "markdown",
      "source": [
        "# Glom Operation\n",
        "The glom() operation returns an RDD created by coalescing all elements within each partition into a list. Glom is a highly useful operation when you want to access batches of an RDD. Listing 1.34 is a simple example of how we can access data batches of an RDD"
      ],
      "metadata": {
        "id": "bSyWo1E5VxXJ"
      }
    },
    {
      "cell_type": "code",
      "source": [
        "# glom\n",
        "rdd = sc.parallelize([1, 2, 3, 4], 3)\n",
        "sorted(rdd.glom().collect())"
      ],
      "metadata": {
        "colab": {
          "base_uri": "https://localhost:8080/"
        },
        "id": "B7H0kyJR-bwW",
        "outputId": "1bc31476-17e0-4da9-9ba1-84ace7e6ac6f"
      },
      "execution_count": 25,
      "outputs": [
        {
          "output_type": "execute_result",
          "data": {
            "text/plain": [
              "[[1], [2], [3, 4]]"
            ]
          },
          "metadata": {},
          "execution_count": 25
        }
      ]
    },
    {
      "cell_type": "code",
      "source": [
        "# glom\n",
        "rdd = sc.parallelize([1,2,3,4,5,6,7,8], 4)\n",
        "rdd.glom().collect()"
      ],
      "metadata": {
        "colab": {
          "base_uri": "https://localhost:8080/"
        },
        "id": "-2qCthVZ-of6",
        "outputId": "f9634781-ac44-4477-fc51-4038dae16177"
      },
      "execution_count": 26,
      "outputs": [
        {
          "output_type": "execute_result",
          "data": {
            "text/plain": [
              "[[1, 2], [3, 4], [5, 6], [7, 8]]"
            ]
          },
          "metadata": {},
          "execution_count": 26
        }
      ]
    },
    {
      "cell_type": "code",
      "source": [
        "# repartition\n",
        "rdd = rdd.repartition(2)\n",
        "rdd.glom().collect()"
      ],
      "metadata": {
        "colab": {
          "base_uri": "https://localhost:8080/"
        },
        "id": "07shqJTl-_xB",
        "outputId": "5304a178-7b73-4192-d996-c741507b0a6b"
      },
      "execution_count": 27,
      "outputs": [
        {
          "output_type": "execute_result",
          "data": {
            "text/plain": [
              "[[1, 2, 5, 6, 7, 8], [3, 4]]"
            ]
          },
          "metadata": {},
          "execution_count": 27
        }
      ]
    },
    {
      "cell_type": "code",
      "source": [
        "# coalesce: This is optimized or improved version of repartition() \n",
        "# where the movement of the data across the partitions is lower using coalesce.\n",
        "rdd = sc.parallelize([1,2,3,4,5,6,7,8], 4)\n",
        "rdd.coalesce(2).glom().collect()"
      ],
      "metadata": {
        "colab": {
          "base_uri": "https://localhost:8080/"
        },
        "id": "MT458FNE_DF8",
        "outputId": "20ca5eb5-8551-4ac3-e385-42ec22b2c01d"
      },
      "execution_count": 28,
      "outputs": [
        {
          "output_type": "execute_result",
          "data": {
            "text/plain": [
              "[[1, 2, 3, 4], [5, 6, 7, 8]]"
            ]
          },
          "metadata": {},
          "execution_count": 28
        }
      ]
    },
    {
      "cell_type": "code",
      "source": [
        " # cache\n",
        " rdd = sc.parallelize([1, 2, 3, 4])\n",
        " rdd.cache()"
      ],
      "metadata": {
        "colab": {
          "base_uri": "https://localhost:8080/"
        },
        "id": "qLq91TgXACBJ",
        "outputId": "0af578a3-6bb6-404a-9bc8-0f1063e85f86"
      },
      "execution_count": 29,
      "outputs": [
        {
          "output_type": "execute_result",
          "data": {
            "text/plain": [
              "ParallelCollectionRDD[116] at readRDDFromFile at PythonRDD.scala:274"
            ]
          },
          "metadata": {},
          "execution_count": 29
        }
      ]
    },
    {
      "cell_type": "code",
      "source": [
        "# countByValue\n",
        "sc.parallelize([1, 2, 1, 2, 2], 2).countByValue()"
      ],
      "metadata": {
        "colab": {
          "base_uri": "https://localhost:8080/"
        },
        "id": "CzfMsIC9C-jv",
        "outputId": "ab82e9e1-3ffe-4b97-820b-981aae75255d"
      },
      "execution_count": 30,
      "outputs": [
        {
          "output_type": "execute_result",
          "data": {
            "text/plain": [
              "defaultdict(int, {1: 2, 2: 3})"
            ]
          },
          "metadata": {},
          "execution_count": 30
        }
      ]
    },
    {
      "cell_type": "code",
      "source": [
        "# first\n",
        "sc.parallelize([(4, 2), (1, 2), (3, 2)]).first()\n"
      ],
      "metadata": {
        "colab": {
          "base_uri": "https://localhost:8080/"
        },
        "id": "9kj2l3_DDNzp",
        "outputId": "2fe1eaa4-b6dd-44d9-f091-750917f6285a"
      },
      "execution_count": 31,
      "outputs": [
        {
          "output_type": "execute_result",
          "data": {
            "text/plain": [
              "(4, 2)"
            ]
          },
          "metadata": {},
          "execution_count": 31
        }
      ]
    },
    {
      "cell_type": "code",
      "source": [
        "# take\n",
        "sc.parallelize([2, 3, 4, 5, 6]).take(2)"
      ],
      "metadata": {
        "colab": {
          "base_uri": "https://localhost:8080/"
        },
        "id": "S6s63tqKDndd",
        "outputId": "7252cca7-e8ed-43b2-9592-216b22364be2"
      },
      "execution_count": 32,
      "outputs": [
        {
          "output_type": "execute_result",
          "data": {
            "text/plain": [
              "[2, 3]"
            ]
          },
          "metadata": {},
          "execution_count": 32
        }
      ]
    },
    {
      "cell_type": "code",
      "source": [
        "# groupByKey\n",
        "x = sc.parallelize([('B',5),('B',4),('A',3),('A',2),('A',1)])\n",
        "y = x.groupByKey()\n",
        "print(x.collect())\n",
        "print([(j[0],[i for i in j[1]]) for j in y.collect()])"
      ],
      "metadata": {
        "id": "meGSi_rrDntW",
        "colab": {
          "base_uri": "https://localhost:8080/"
        },
        "outputId": "ca517af9-1b1e-49cb-d26a-accd593344a9"
      },
      "execution_count": 33,
      "outputs": [
        {
          "output_type": "stream",
          "name": "stdout",
          "text": [
            "[('B', 5), ('B', 4), ('A', 3), ('A', 2), ('A', 1)]\n",
            "[('B', [5, 4]), ('A', [3, 2, 1])]\n"
          ]
        }
      ]
    },
    {
      "cell_type": "code",
      "source": [
        "# aggregateByKey\n",
        "x = sc.parallelize([('B',1),('B',2),('A',3),('A',4),('A',5)])\n",
        "zeroValue = [] # empty list is 'zero value' for append operation\n",
        "mergeVal = (lambda aggregated, el: aggregated + [(el,el**2)])\n",
        "mergeComb = (lambda agg1,agg2: agg1 + agg2 )\n",
        "y = x.aggregateByKey(zeroValue,mergeVal,mergeComb)\n",
        "print(x.collect())\n",
        "print(y.collect())"
      ],
      "metadata": {
        "id": "e50cHHGGDnoh",
        "colab": {
          "base_uri": "https://localhost:8080/"
        },
        "outputId": "e005b85c-3fc2-498f-857b-e10bb8b6d525"
      },
      "execution_count": 34,
      "outputs": [
        {
          "output_type": "stream",
          "name": "stdout",
          "text": [
            "[('B', 1), ('B', 2), ('A', 3), ('A', 4), ('A', 5)]\n",
            "[('B', [(1, 1), (2, 4)]), ('A', [(3, 9), (4, 16), (5, 25)])]\n"
          ]
        }
      ]
    },
    {
      "cell_type": "code",
      "source": [
        ""
      ],
      "metadata": {
        "id": "PtOw2W0ZVwjx"
      },
      "execution_count": 34,
      "outputs": []
    }
  ]
}