{
 "cells": [
  {
   "cell_type": "code",
   "execution_count": 1,
   "metadata": {},
   "outputs": [],
   "source": [
    "import sys\n",
    "from operator import add\n",
    "from itertools import combinations\n",
    "\n",
    "import requests\n",
    "\n",
    "from pyspark.sql.types import *\n",
    "\n",
    "from pyspark.sql import functions as f\n",
    "from pyspark.sql.functions import udf\n",
    "\n",
    "from pyspark.sql.functions import lit\n",
    "from pyspark import sql\n",
    "\n",
    "sqlContext = sql.SparkSession.builder \\\n",
    "        .master(\"local\") \\\n",
    "        .appName(\"Word Count\") \\\n",
    "        .getOrCreate()"
   ]
  },
  {
   "cell_type": "code",
   "execution_count": 2,
   "metadata": {},
   "outputs": [],
   "source": [
    "# lineitems = sqlContext.read.format('csv').options(header='true', inferSchema='true',  sep =\"|\").load(sys.arg[1])\n",
    "path=\"./tpch_tables_scale_0.1/\"\n",
    "# path is where you have the folder. It can be a distributed path like S3, gc or hdfs\n",
    "\n",
    "customer = sqlContext.read.format('csv').options(header='true', inferSchema='true',  sep =\"|\").load(path+\"customer.tbl\")\n",
    "order = sqlContext.read.format('csv').options(header='true', inferSchema='true',  sep =\"|\").load(path+\"orders.tbl\")\n",
    "lineitems = sqlContext.read.format('csv').options(header='true', inferSchema='true',  sep =\"|\").load(path+\"lineitem.tbl\")\n",
    "part = sqlContext.read.format('csv').options(header='true', inferSchema='true',  sep =\"|\").load(path+\"part.tbl\")\n",
    "supplier = sqlContext.read.format('csv').options(header='true', inferSchema='true',  sep =\"|\").load(path+\"supplier.tbl\")\n",
    "partsupp = sqlContext.read.format('csv').options(header='true', inferSchema='true',  sep =\"|\").load(path+\"partsupp.tbl\")\n",
    "region = sqlContext.read.format('csv').options(header='true', inferSchema='true',  sep =\"|\").load(path+\"region.tbl\")\n",
    "nation = sqlContext.read.format('csv').options(header='true', inferSchema='true',  sep =\"|\").load(path+\"nation.tbl\")"
   ]
  },
  {
   "cell_type": "code",
   "execution_count": 3,
   "metadata": {},
   "outputs": [
    {
     "name": "stdout",
     "output_type": "stream",
     "text": [
      "+-------+------------------+--------------------+---------+---------------+-------+----------+--------------------+\n",
      "|CUSTKEY|              NAME|             ADDRESS|NATIONKEY|          PHONE|ACCBATL|MKTSEGMENT|             COMMENT|\n",
      "+-------+------------------+--------------------+---------+---------------+-------+----------+--------------------+\n",
      "|      1|Customer#000000001|   IVhzIApeRb ot,c,E|       15|25-989-741-2988| 711.56|  BUILDING|to the even, regu...|\n",
      "|      2|Customer#000000002|XSTf4,NCwDVaWNe6t...|       13|23-768-687-3665| 121.65|AUTOMOBILE|l accounts. blith...|\n",
      "|      3|Customer#000000003|        MG9kdTD2WBHm|        1|11-719-748-3364|7498.12|AUTOMOBILE| deposits eat sly...|\n",
      "|      4|Customer#000000004|         XxVSJsLAGtn|        4|14-128-190-5944|2866.83| MACHINERY| requests. final,...|\n",
      "|      5|Customer#000000005|KvpyuHCplrB84WgAi...|        3|13-750-942-6364| 794.47| HOUSEHOLD|n accounts will h...|\n",
      "|      6|Customer#000000006|sKZz0CsnMD7mp4Xd0...|       20|30-114-968-4951|7638.57|AUTOMOBILE|tions. even depos...|\n",
      "|      7|Customer#000000007|TcGe5gaZNgVePxU5k...|       18|28-190-982-9759|9561.95|AUTOMOBILE|ainst the ironic,...|\n",
      "|      8|Customer#000000008|I0B10bB0AymmC, 0P...|       17|27-147-574-9335|6819.74|  BUILDING|among the slyly r...|\n",
      "|      9|Customer#000000009|xKiAFTjUsCuxfeleN...|        8|18-338-906-3675|8324.07| FURNITURE|r theodolites acc...|\n",
      "|     10|Customer#000000010|6LrEaV6KR6PLVcgl2...|        5|15-741-346-9870|2753.54| HOUSEHOLD|es regular deposi...|\n",
      "|     11|Customer#000000011|PkWS 3HlXqwTuzrKg...|       23|33-464-151-3439| -272.6|  BUILDING|ckages. requests ...|\n",
      "|     12|Customer#000000012|       9PWKuhzT4Zr1Q|       13|23-791-276-1263|3396.49| HOUSEHOLD| to the carefully...|\n",
      "|     13|Customer#000000013|nsXQu0oVjD7PM659u...|        3|13-761-547-5974|3857.34|  BUILDING|ounts sleep caref...|\n",
      "|     14|Customer#000000014|     KXkletMlL2JQEA |        1|11-845-129-3851| 5266.3| FURNITURE|, ironic packages...|\n",
      "|     15|Customer#000000015|YtWggXoOLdwdo7b0y...|       23|33-687-542-7601|2788.52| HOUSEHOLD| platelets. regul...|\n",
      "|     16|Customer#000000016| cYiaeMLZSMAOQ2 d0W,|       10|20-781-609-3107|4681.03| FURNITURE|kly silent courts...|\n",
      "|     17|Customer#000000017|izrh 6jdqtp2eqdtb...|        2|12-970-682-3487|   6.34|AUTOMOBILE|packages wake! bl...|\n",
      "|     18|Customer#000000018|3txGO AiuFux3zT0Z...|        6|16-155-215-1315|5494.43|  BUILDING|s sleep. carefull...|\n",
      "|     19|Customer#000000019|uc,3bHIx84H,wdrmL...|       18|28-396-526-5053|8914.71| HOUSEHOLD| nag. furiously c...|\n",
      "|     20|Customer#000000020|       JrPk8Pqplj4Ne|       22|32-957-234-8742| 7603.4| FURNITURE|g alongside of th...|\n",
      "+-------+------------------+--------------------+---------+---------------+-------+----------+--------------------+\n",
      "only showing top 20 rows\n",
      "\n"
     ]
    }
   ],
   "source": [
    "customer.show()"
   ]
  },
  {
   "cell_type": "code",
   "execution_count": 4,
   "metadata": {},
   "outputs": [
    {
     "name": "stdout",
     "output_type": "stream",
     "text": [
      "+--------+-------+\n",
      "|ORDERKEY|CUSTKEY|\n",
      "+--------+-------+\n",
      "|       1|   3691|\n",
      "|       2|   7801|\n",
      "|       3|  12332|\n",
      "|       4|  13678|\n",
      "|       5|   4450|\n",
      "|       6|   5563|\n",
      "|       7|   3914|\n",
      "|      32|  13006|\n",
      "|      33|   6697|\n",
      "|      34|   6101|\n",
      "|      35|  12760|\n",
      "|      36|  11527|\n",
      "|      37|   8612|\n",
      "|      38|  12484|\n",
      "|      39|   8177|\n",
      "|      64|   3212|\n",
      "|      65|   1627|\n",
      "|      66|  12920|\n",
      "|      67|   5662|\n",
      "|      68|   2855|\n",
      "+--------+-------+\n",
      "only showing top 20 rows\n",
      "\n"
     ]
    }
   ],
   "source": [
    "order.select(\"ORDERKEY\", \"CUSTKEY\").show()"
   ]
  },
  {
   "cell_type": "code",
   "execution_count": 5,
   "metadata": {},
   "outputs": [
    {
     "name": "stdout",
     "output_type": "stream",
     "text": [
      "+--------+-------+-------+--------+\n",
      "|ORDERKEY|SUPPKEY|PARTKEY|QUANTITY|\n",
      "+--------+-------+-------+--------+\n",
      "|       1|    785|  15519|      17|\n",
      "|       1|    732|   6731|      36|\n",
      "|       1|    371|   6370|       8|\n",
      "|       1|    465|    214|      28|\n",
      "|       1|    160|   2403|      24|\n",
      "|       1|     67|   1564|      32|\n",
      "|       2|    138|  10617|      38|\n",
      "|       3|    181|    430|      45|\n",
      "|       3|    658|   1904|      49|\n",
      "|       3|    370|  12845|      27|\n",
      "|       3|    191|   2938|       2|\n",
      "|       3|    115|  18310|      28|\n",
      "|       3|    984|   6215|      26|\n",
      "|       4|    579|   8804|      30|\n",
      "|       5|    858|  10857|      15|\n",
      "|       5|    394|  12393|      26|\n",
      "|       5|      8|   3754|      50|\n",
      "|       6|    228|  13964|      37|\n",
      "|       7|     11|  18206|      12|\n",
      "|       7|    790|  14525|       9|\n",
      "+--------+-------+-------+--------+\n",
      "only showing top 20 rows\n",
      "\n"
     ]
    }
   ],
   "source": [
    "lineitems.select(\"ORDERKEY\", \"SUPPKEY\", \"PARTKEY\", \"QUANTITY\").show()"
   ]
  },
  {
   "cell_type": "code",
   "execution_count": 6,
   "metadata": {},
   "outputs": [
    {
     "name": "stdout",
     "output_type": "stream",
     "text": [
      "+-------+-----+\n",
      "|PARTKEY|TOTAL|\n",
      "+-------+-----+\n",
      "|  10620|   56|\n",
      "|   6140|   54|\n",
      "|  15584|   52|\n",
      "|   8051|   52|\n",
      "|  10715|   51|\n",
      "|  10597|   51|\n",
      "|   2292|   51|\n",
      "|  14422|   50|\n",
      "|  17670|   50|\n",
      "|  19444|   50|\n",
      "+-------+-----+\n",
      "\n"
     ]
    }
   ],
   "source": [
    "# Question 1\n",
    "# Implement a pyspark code that can find out the top-10 sold products. \n",
    "\n",
    "lineitems\\\n",
    "    .select(\"ORDERKEY\", \"PARTKEY\")\\\n",
    "    .withColumn(\"COUNT\", lit(1))\\\n",
    "    .groupBy(\"PARTKEY\")\\\n",
    "    .agg(f.sum(\"COUNT\").alias(\"TOTAL\"))\\\n",
    "    .orderBy(\"TOTAL\", ascending=False)\\\n",
    "    .limit(10)\\\n",
    "    .show()\n",
    "    "
   ]
  },
  {
   "cell_type": "code",
   "execution_count": 7,
   "metadata": {},
   "outputs": [
    {
     "name": "stdout",
     "output_type": "stream",
     "text": [
      "+-------+-----+\n",
      "|CUSTKEY|TOTAL|\n",
      "+-------+-----+\n",
      "|   8362| 4082|\n",
      "|   9454| 3870|\n",
      "|    346| 3817|\n",
      "|   6958| 3760|\n",
      "|   1105| 3737|\n",
      "|  14707| 3710|\n",
      "|  11998| 3709|\n",
      "|  14398| 3670|\n",
      "|   8542| 3660|\n",
      "|   8761| 3658|\n",
      "+-------+-----+\n",
      "\n"
     ]
    }
   ],
   "source": [
    "# ---------------------------------------------------------------------------\n",
    "# Question 2\n",
    "\n",
    "# Find the top-10 customers based on the number of products ordered.\n",
    "\n",
    "# Collect all df to be used\n",
    "l = lineitems.select(\"ORDERKEY\", \"PARTKEY\", \"QUANTITY\")\n",
    "o = order.select(\"ORDERKEY\", \"CUSTKEY\")\n",
    "\n",
    "# Join, group, add quantity, and sort\n",
    "o.join(l, [\"ORDERKEY\"], 'full')\\\n",
    "    .drop(\"ORDERKEY\")\\\n",
    "    .groupBy(\"CUSTKEY\")\\\n",
    "    .agg(f.sum(\"QUANTITY\").alias(\"TOTAL\"))\\\n",
    "    .orderBy(\"TOTAL\", ascending=False)\\\n",
    "    .limit(10)\\\n",
    "    .show()\n"
   ]
  },
  {
   "cell_type": "code",
   "execution_count": 8,
   "metadata": {},
   "outputs": [
    {
     "name": "stdout",
     "output_type": "stream",
     "text": [
      "+-------+-------+-----+\n",
      "|CUSTKEY|SUPPKEY|COUNT|\n",
      "+-------+-------+-----+\n",
      "|   4567|    844|    7|\n",
      "|   4792|    592|    6|\n",
      "|  11809|     17|    6|\n",
      "|  14767|      8|    6|\n",
      "|   2173|    572|    6|\n",
      "|   6139|    233|    6|\n",
      "|    874|    430|    6|\n",
      "|    154|    380|    5|\n",
      "|   6889|    729|    5|\n",
      "|   8794|    545|    5|\n",
      "+-------+-------+-----+\n",
      "\n"
     ]
    }
   ],
   "source": [
    "# ---------------------------------------------------------------------------\n",
    "# Question 3\n",
    "# Find the top-10 customers that have ordered products from the same supplier. \n",
    "\n",
    "# Collect all df to be used\n",
    "l = lineitems.select(\"ORDERKEY\", \"PARTKEY\")\n",
    "o = order.select(\"ORDERKEY\", \"CUSTKEY\")\n",
    "p = partsupp.select(\"PARTKEY\", \"SUPPKEY\")\n",
    "\n",
    "# Join orders and lineitems\n",
    "ol = o.join(l, [\"ORDERKEY\"], 'full')\\\n",
    "    .drop(\"ORDERKEY\")\n",
    "\n",
    "# Join orders, lineitems, and part supplier.\n",
    "# Group by both \"CUSTKEY\" and \"SUPPKEY\", then sort\n",
    "ol.join(p, [\"PARTKEY\"], 'full')\\\n",
    "    .drop(\"PARTKEY\")\\\n",
    "    .withColumn(\"COUNT\", f.lit(1))\\\n",
    "    .groupBy(\"CUSTKEY\", \"SUPPKEY\")\\\n",
    "    .agg(f.sum(\"COUNT\").alias(\"COUNT\"))\\\n",
    "    .orderBy(\"COUNT\", ascending=False)\\\n",
    "    .limit(10)\\\n",
    "    .show()\n"
   ]
  },
  {
   "cell_type": "code",
   "execution_count": 9,
   "metadata": {},
   "outputs": [
    {
     "name": "stdout",
     "output_type": "stream",
     "text": [
      "+-------+-----------+------------+---------+------------+\n",
      "|CUSTKEY|CUST_NATION|SUPP_NATIONS|ONLY_SAME|ONLY_FOREIGN|\n",
      "+-------+-----------+------------+---------+------------+\n",
      "+-------+-----------+------------+---------+------------+\n",
      "\n"
     ]
    }
   ],
   "source": [
    "# ---------------------------------------------------------------------------\n",
    "# Question 4 and 5\n",
    "# Find the customers who have not ordered products from their own country and have ordered only foreign products. \n",
    "\n",
    "# Collect all df to be used\n",
    "o = order.select(\"CUSTKEY\", \"ORDERKEY\")\n",
    "l = lineitems.select(\"ORDERKEY\", \"SUPPKEY\")\n",
    "c = customer.select(\"CUSTKEY\", f.col(\"NATIONKEY\").alias(\"CUST_NATION\")) \\\n",
    "    .withColumn(\"CUSTKEY\", f.col(\"CUSTKEY\").cast(IntegerType()))\n",
    "s = supplier.select(\"SUPPKEY\", f.col(\"NATIONKEY\").alias(\"SUPP_NATION\")) \\\n",
    "    .withColumn(\"SUPPKEY\", f.col(\"SUPPKEY\").cast(IntegerType()))\n",
    "\n",
    "# Join dfs together\n",
    "# (\"CUSTKEY\", \"SUPPKEY\")\n",
    "ol = o.join(l, [\"ORDERKEY\"], 'full') \\\n",
    "    .drop(\"ORDERKEY\")\n",
    "# (\"CUSTKEY\", \"SUPPKEY\", \"CUST_NATION\" )\n",
    "olc = ol.join(c, [\"CUSTKEY\"], 'full')\n",
    "# (\"CUSTKEY\", \"CUST_NATION\", \"SUPP_NATION\" )\n",
    "olcs = olc.join(s, [\"SUPPKEY\"], 'full') \\\n",
    "    .drop(\"SUPPKEY\")\n",
    "\n",
    "# Define UDF (to check condition)\n",
    "only_own = udf(lambda x, y: all(i is x for i in y), BooleanType())\n",
    "only_foreign = udf(lambda x, y: x not in y, BooleanType())\n",
    "\n",
    "# Aggregate, collect SUPP_NATION, and check condition\n",
    "result = olcs\\\n",
    "    .filter(f.col(\"SUPP_NATION\").isNotNull())\\\n",
    "    .groupBy(\"CUSTKEY\", \"CUST_NATION\") \\\n",
    "    .agg(f.collect_set(\"SUPP_NATION\").alias(\"SUPP_NATIONS\")) \\\n",
    "    .withColumn(\"ONLY_SAME\", only_own(f.col(\"CUST_NATION\"), f.col(\"SUPP_NATIONS\"))) \\\n",
    "    .withColumn(\"ONLY_FOREIGN\", only_foreign(f.col(\"CUST_NATION\"), f.col(\"SUPP_NATIONS\")))\n",
    "\n",
    "\n",
    "# Q4 Answer\n",
    "result.filter(result[\"ONLY_SAME\"] == True).show()\n"
   ]
  },
  {
   "cell_type": "code",
   "execution_count": 10,
   "metadata": {},
   "outputs": [
    {
     "name": "stdout",
     "output_type": "stream",
     "text": [
      "+-------+-----------+--------------------+---------+------------+\n",
      "|CUSTKEY|CUST_NATION|        SUPP_NATIONS|ONLY_SAME|ONLY_FOREIGN|\n",
      "+-------+-----------+--------------------+---------+------------+\n",
      "|   7262|         13|[0, 15, 9, 1, 16,...|    false|        true|\n",
      "|  13802|          5|[0, 9, 1, 2, 17, ...|    false|        true|\n",
      "|  10106|         18|[15, 9, 1, 16, 2,...|    false|        true|\n",
      "|   1628|         18|[15, 9, 1, 16, 2,...|    false|        true|\n",
      "|   6302|         11|[0, 9, 16, 5, 17,...|    false|        true|\n",
      "|   9023|         10|[0, 15, 9, 1, 2, ...|    false|        true|\n",
      "|   2279|         23|[15, 9, 1, 16, 17...|    false|        true|\n",
      "|  12767|          1|[15, 9, 16, 2, 17...|    false|        true|\n",
      "|   6145|         21|[0, 15, 9, 1, 16,...|    false|        true|\n",
      "|  10217|         22|[9, 1, 2, 17, 3, ...|    false|        true|\n",
      "|   5459|         19|[15, 1, 16, 2, 17...|    false|        true|\n",
      "|   1124|          1|[15, 9, 2, 17, 24...|    false|        true|\n",
      "|   2500|          0|[15, 9, 1, 16, 2,...|    false|        true|\n",
      "|   4442|          7|[0, 9, 1, 16, 17,...|    false|        true|\n",
      "|   7967|          3|[0, 15, 9, 1, 16,...|    false|        true|\n",
      "|   8170|         13|[0, 15, 9, 1, 16,...|    false|        true|\n",
      "|  10310|         12|[1, 16, 13, 19, 2...|    false|        true|\n",
      "|   6620|         13|[15, 9, 16, 2, 17...|    false|        true|\n",
      "|  14201|          1|[0, 15, 16, 2, 17...|    false|        true|\n",
      "|  13528|         13|[0, 15, 9, 1, 2, ...|    false|        true|\n",
      "+-------+-----------+--------------------+---------+------------+\n",
      "only showing top 20 rows\n",
      "\n"
     ]
    }
   ],
   "source": [
    "# Q5 Answer\n",
    "result.filter(result[\"ONLY_FOREIGN\"] == True).show()"
   ]
  },
  {
   "cell_type": "code",
   "execution_count": 11,
   "metadata": {},
   "outputs": [
    {
     "name": "stdout",
     "output_type": "stream",
     "text": [
      "+--------+--------------------+--------+--------------------+----------+\n",
      "|CUSTKEY1|          PART_LIST1|CUSTKEY2|          PART_LIST2|   JACCARD|\n",
      "+--------+--------------------+--------+--------------------+----------+\n",
      "|    8456|[15747, 18343, 41...|   10376|[13032, 18343, 15...|0.09090909|\n",
      "|   10376|[13032, 18343, 15...|    8456|[15747, 18343, 41...|0.09090909|\n",
      "|   10901|[10142, 9529, 124...|    4808|[17169, 19122, 33...|0.06666667|\n",
      "|    4808|[17169, 19122, 33...|   10901|[10142, 9529, 124...|0.06666667|\n",
      "|    7532|[15572, 2151, 174...|    5390|[5452, 16969, 755...|0.06451613|\n",
      "|    5390|[5452, 16969, 755...|    7532|[15572, 2151, 174...|0.06451613|\n",
      "|    2489|[6418, 7101, 7102...|    4283|[13060, 12044, 12...|0.06349207|\n",
      "|    4283|[13060, 12044, 12...|    2489|[6418, 7101, 7102...|0.06349207|\n",
      "|    2768|[19866, 1648, 123...|    4385|[1648, 7100, 1122...|    0.0625|\n",
      "|    4385|[1648, 7100, 1122...|    2768|[19866, 1648, 123...|    0.0625|\n",
      "+--------+--------------------+--------+--------------------+----------+\n",
      "\n"
     ]
    }
   ],
   "source": [
    "# Q6 Answer\n",
    "\n",
    "\n",
    "def jaccard_similarity(list1, list2):\n",
    "    s1 = set(list1)\n",
    "    s2 = set(list2)\n",
    "    return len(s1.intersection(s2)) / len(s1.union(s2))\n",
    "\n",
    "jaccard_similarity_udf = udf(lambda x,y: jaccard_similarity(x,y),\n",
    "                             FloatType())\n",
    "\n",
    "o = order.select(\"CUSTKEY\", \"ORDERKEY\")\n",
    "l = lineitems.select(\"ORDERKEY\", \"PARTKEY\")\n",
    "\n",
    "ol = o.join(l, [\"ORDERKEY\"], 'full')\\\n",
    "    .drop(\"ORDERKEY\")\\\n",
    "    .groupBy(\"CUSTKEY\")\\\n",
    "    .agg(f.collect_set(\"PARTKEY\").alias(\"PART_LIST\"))\n",
    "\n",
    "ol.crossJoin(ol)\\\n",
    "    .toDF(\"CUSTKEY1\",\"PART_LIST1\",\"CUSTKEY2\",\"PART_LIST2\")\\\n",
    "    .filter( f.col(\"CUSTKEY1\") != f.col(\"CUSTKEY2\"))\\\n",
    "    .dropDuplicates([\"CUSTKEY1\", \"CUSTKEY2\"])\\\n",
    "    .withColumn(\"JACCARD\", jaccard_similarity_udf(f.col(\"PART_LIST1\"), f.col(\"PART_LIST2\")))\\\n",
    "    .orderBy(f.desc(\"JACCARD\"))\\\n",
    "    .limit(10)\\\n",
    "    .show()\n"
   ]
  },
  {
   "cell_type": "code",
   "execution_count": 13,
   "metadata": {},
   "outputs": [
    {
     "name": "stdout",
     "output_type": "stream",
     "text": [
      "+-----------+-----+\n",
      "|   PARTCOMB|TOTAL|\n",
      "+-----------+-----+\n",
      "|  595+11837|    3|\n",
      "|11004+15109|    3|\n",
      "| 6031+15277|    3|\n",
      "|14524+14743|    3|\n",
      "|   250+7045|    3|\n",
      "|11630+14244|    3|\n",
      "|14405+17144|    3|\n",
      "|   364+3823|    3|\n",
      "| 5850+11561|    3|\n",
      "|12966+16068|    3|\n",
      "+-----------+-----+\n",
      "\n"
     ]
    }
   ],
   "source": [
    "# Q7 Answer\n",
    "l = lineitems.select(\"ORDERKEY\", \"PARTKEY\")\n",
    "\n",
    "l_partslist = l\\\n",
    "    .groupBy(\"ORDERKEY\")\\\n",
    "    .agg(f.collect_set(f.col(\"PARTKEY\")).alias(\"PARTLIST\"))\n",
    "\n",
    "def combin(x):\n",
    "    return [ '+'.join([str(i),str(j)]) for i,j in combinations(sorted(x),2) ]\n",
    "\n",
    "cmb = udf(lambda x: combin(x), ArrayType(StringType()))\n",
    "\n",
    "l_partslist\\\n",
    "    .where(f.size(f.col(\"PARTLIST\")) > 1)\\\n",
    "    .withColumn(\"PARTCOMBLIST\", cmb(f.col(\"PARTLIST\")))\\\n",
    "    .drop(\"PARTLIST\")\\\n",
    "    .withColumn(\"PARTCOMB\", f.explode(\"PARTCOMBLIST\"))\\\n",
    "    .withColumn(\"COUNT\", f.lit(1))\\\n",
    "    .groupBy(\"PARTCOMB\")\\\n",
    "    .agg(f.sum(f.col(\"COUNT\")).alias(\"TOTAL\"))\\\n",
    "    .orderBy(f.col(\"TOTAL\").desc())\\\n",
    "    .limit(10)\\\n",
    "    .show()\n"
   ]
  },
  {
   "cell_type": "code",
   "execution_count": null,
   "metadata": {},
   "outputs": [],
   "source": []
  }
 ],
 "metadata": {
  "kernelspec": {
   "display_name": "Python 3",
   "language": "python",
   "name": "python3"
  },
  "language_info": {
   "codemirror_mode": {
    "name": "ipython",
    "version": 3
   },
   "file_extension": ".py",
   "mimetype": "text/x-python",
   "name": "python",
   "nbconvert_exporter": "python",
   "pygments_lexer": "ipython3",
   "version": "3.7.4"
  }
 },
 "nbformat": 4,
 "nbformat_minor": 2
}
