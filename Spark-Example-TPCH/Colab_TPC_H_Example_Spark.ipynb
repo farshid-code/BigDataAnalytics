{
  "nbformat": 4,
  "nbformat_minor": 0,
  "metadata": {
    "colab": {
      "name": "Colab-TPC-H-Example-Spark.ipynb",
      "provenance": [],
      "collapsed_sections": [],
      "include_colab_link": true
    },
    "kernelspec": {
      "name": "python3",
      "display_name": "Python 3"
    }
  },
  "cells": [
    {
      "cell_type": "markdown",
      "metadata": {
        "id": "view-in-github",
        "colab_type": "text"
      },
      "source": [
        "<a href=\"https://colab.research.google.com/github/kiat/BigDataAnalytics/blob/master/Spark-Example-TPCH/Colab_TPC_H_Example_Spark.ipynb\" target=\"_parent\"><img src=\"https://colab.research.google.com/assets/colab-badge.svg\" alt=\"Open In Colab\"/></a>"
      ]
    },
    {
      "cell_type": "code",
      "metadata": {
        "id": "LmxLySb20jtX",
        "colab": {
          "base_uri": "https://localhost:8080/"
        },
        "outputId": "d3d4bad2-a4dd-4f7e-a54e-832998671545"
      },
      "source": [
        "# Spark installation on Colab\n",
        "# !apt-get install openjdk-8-jdk-headless -qq > /dev/null\n",
        "# !wget -q https://downloads.apache.org/spark/spark-3.0.1/spark-3.0.1-bin-hadoop3.2.tgz\n",
        "# !tar xf spark-3.0.1-bin-hadoop3.2.tgz\n",
        "# !pip install -q findspark\n",
        "\n",
        "!pip install --ignore-installed -q pyspark==3.0.1"
      ],
      "execution_count": 1,
      "outputs": [
        {
          "output_type": "stream",
          "text": [
            "\u001b[K     |████████████████████████████████| 204.2MB 74kB/s \n",
            "\u001b[K     |████████████████████████████████| 204kB 19.3MB/s \n",
            "\u001b[?25h  Building wheel for pyspark (setup.py) ... \u001b[?25l\u001b[?25hdone\n"
          ],
          "name": "stdout"
        }
      ]
    },
    {
      "cell_type": "code",
      "metadata": {
        "id": "Nor9olN20p0M"
      },
      "source": [
        "import os\n",
        "from pyspark.sql import SparkSession\n",
        "from pyspark import SparkContext\n",
        "\n",
        "\n",
        "import sys\n",
        "from operator import add\n",
        "\n",
        "from pyspark import SparkContext\n",
        "from pyspark import SparkConf,SparkContext\n",
        "from pyspark.streaming import StreamingContext\n",
        "import sys\n",
        "import requests\n",
        "from operator import add\n",
        "\n",
        "from pyspark.sql.types import *\n",
        "from pyspark.sql import functions as func\n",
        "\n",
        "from pyspark.sql.functions import lit\n",
        "from pyspark.sql.functions import udf\n",
        "from pyspark.sql.functions import *\n",
        "from pyspark.sql.functions import array\n",
        "\n",
        "from pyspark.sql import SQLContext\n",
        "\n",
        "spark = SparkSession.builder.master(\"local[*]\").getOrCreate()\n",
        "sc = SparkContext.getOrCreate()\n",
        "\n",
        "# conf = SparkConf(appName=\"TPCH-Example\")\n",
        "# create spark context with the above configuration\n",
        "# sc = SparkContext(conf=conf)\n",
        "\n",
        "sqlContext = SQLContext(sc)\n"
      ],
      "execution_count": 3,
      "outputs": []
    },
    {
      "cell_type": "markdown",
      "metadata": {
        "id": "XL3CjM3406y4"
      },
      "source": [
        ""
      ]
    },
    {
      "cell_type": "code",
      "metadata": {
        "id": "2bNmkjaMYk7r"
      },
      "source": [
        "! wget -q https://github.com/kiat/BigDataAnalytics/blob/master/Spark-Example-TPCH/tpch_tables_scale_0.1/customer.tbl\n",
        "! wget -q https://github.com/kiat/BigDataAnalytics/blob/master/Spark-Example-TPCH/tpch_tables_scale_0.1/lineitem.tbl\n",
        "! wget -q https://github.com/kiat/BigDataAnalytics/blob/master/Spark-Example-TPCH/tpch_tables_scale_0.1/nation.tbl\n",
        "! wget -q https://github.com/kiat/BigDataAnalytics/blob/master/Spark-Example-TPCH/tpch_tables_scale_0.1/orders.tbl\n",
        "! wget -q https://github.com/kiat/BigDataAnalytics/blob/master/Spark-Example-TPCH/tpch_tables_scale_0.1/region.tbl\n",
        "! wget -q https://github.com/kiat/BigDataAnalytics/blob/master/Spark-Example-TPCH/tpch_tables_scale_0.1/supplier.tbl\n",
        "! wget -q https://github.com/kiat/BigDataAnalytics/blob/master/Spark-Example-TPCH/tpch_tables_scale_0.1/part.tbl\n",
        "! wget -q https://github.com/kiat/BigDataAnalytics/blob/master/Spark-Example-TPCH/tpch_tables_scale_0.1/region.tbl\n",
        "! wget -q https://github.com/kiat/BigDataAnalytics/blob/master/Spark-Example-TPCH/tpch_tables_scale_0.1/partsupp.tbl"
      ],
      "execution_count": 8,
      "outputs": []
    },
    {
      "cell_type": "code",
      "metadata": {
        "id": "Q0qB4iql-uaK",
        "colab": {
          "base_uri": "https://localhost:8080/"
        },
        "outputId": "04deb362-a81a-48e6-838d-a4bd3ef8e7d3"
      },
      "source": [
        "! ls -la \n"
      ],
      "execution_count": 10,
      "outputs": [
        {
          "output_type": "stream",
          "text": [
            "total 1248\n",
            "drwxr-xr-x 1 root root   4096 Mar 23 21:55 .\n",
            "drwxr-xr-x 1 root root   4096 Mar 23 21:50 ..\n",
            "drwxr-xr-x 4 root root   4096 Mar 18 13:36 .config\n",
            "-rw-r--r-- 1 root root 101174 Mar 23 21:55 customer.tbl\n",
            "-rw-r--r-- 1 root root 101174 Mar 23 21:55 lineitem.tbl\n",
            "-rw-r--r-- 1 root root 110140 Mar 23 21:55 nation.tbl\n",
            "-rw-r--r-- 1 root root 101132 Mar 23 21:55 orders.tbl\n",
            "-rw-r--r-- 1 root root 101180 Mar 23 21:55 partsupp.tbl\n",
            "-rw-r--r-- 1 root root 101078 Mar 23 21:55 part.tbl\n",
            "-rw-r--r-- 1 root root 104745 Mar 23 21:55 region.tbl\n",
            "-rw-r--r-- 1 root root 104744 Mar 23 21:55 region.tbl.1\n",
            "drwxr-xr-x 1 root root   4096 Mar 18 13:36 sample_data\n",
            "-rw-r--r-- 1 root root 423874 Mar 23 21:55 supplier.tbl\n"
          ],
          "name": "stdout"
        }
      ]
    },
    {
      "cell_type": "code",
      "metadata": {
        "id": "h5VEYx0pAgy8",
        "colab": {
          "base_uri": "https://localhost:8080/"
        },
        "outputId": "a279ae72-1353-4794-b539-012a29417c14"
      },
      "source": [
        "lineitems = sqlContext.read.format('csv').options(header='true', inferSchema='true',  sep =\"|\").load(\"lineitem.tbl\")\n",
        "lineitems.show()"
      ],
      "execution_count": 11,
      "outputs": [
        {
          "output_type": "stream",
          "text": [
            "+--------------------+\n",
            "|     <!DOCTYPE html>|\n",
            "+--------------------+\n",
            "|   <html lang=\"en\" >|\n",
            "|              <head>|\n",
            "|    <meta charset...|\n",
            "|  <link rel=\"dns-...|\n",
            "|  <link rel=\"dns-...|\n",
            "|  <link rel=\"dns-...|\n",
            "|  <link rel=\"dns-...|\n",
            "|  <link crossorig...|\n",
            "|  <link crossorig...|\n",
            "|    <link crossor...|\n",
            "|    <link crossor...|\n",
            "|  <script crossor...|\n",
            "|    <script cross...|\n",
            "|    <script cross...|\n",
            "|  <script crossor...|\n",
            "|    <script cross...|\n",
            "|    <script cross...|\n",
            "|    <script cross...|\n",
            "|    <script cross...|\n",
            "|    <script cross...|\n",
            "+--------------------+\n",
            "only showing top 20 rows\n",
            "\n"
          ],
          "name": "stdout"
        }
      ]
    },
    {
      "cell_type": "code",
      "metadata": {
        "id": "eHCWjR6rBDfE"
      },
      "source": [
        "\n",
        "customer = sqlContext.read.format('csv').options(header='true', inferSchema='true',  sep =\"|\").load(\"customer.tbl\")\n",
        "orders = sqlContext.read.format('csv').options(header='true', inferSchema='true',  sep =\"|\").load(\"orders.tbl\")\n",
        "lineitems = sqlContext.read.format('csv').options(header='true', inferSchema='true',  sep =\"|\").load(\"lineitem.tbl\")\n",
        "part = sqlContext.read.format('csv').options(header='true', inferSchema='true',  sep =\"|\").load(\"part.tbl\")\n",
        "supplier = sqlContext.read.format('csv').options(header='true', inferSchema='true',  sep =\"|\").load(\"supplier.tbl\")\n",
        "partsupp = sqlContext.read.format('csv').options(header='true', inferSchema='true',  sep =\"|\").load(\"partsupp.tbl\")\n",
        "region = sqlContext.read.format('csv').options(header='true', inferSchema='true',  sep =\"|\").load(\"region.tbl\")\n",
        "nation = sqlContext.read.format('csv').options(header='true', inferSchema='true',  sep =\"|\").load(\"nation.tbl\")\n",
        "\n"
      ],
      "execution_count": 12,
      "outputs": []
    },
    {
      "cell_type": "code",
      "metadata": {
        "id": "LuUnPsPBELW1",
        "colab": {
          "base_uri": "https://localhost:8080/"
        },
        "outputId": "63e2afbb-9922-4a08-a9d7-48c4cc5a4bdc"
      },
      "source": [
        "nation.show()"
      ],
      "execution_count": 13,
      "outputs": [
        {
          "output_type": "stream",
          "text": [
            "+--------------------+\n",
            "|     <!DOCTYPE html>|\n",
            "+--------------------+\n",
            "|   <html lang=\"en\" >|\n",
            "|              <head>|\n",
            "|    <meta charset...|\n",
            "|  <link rel=\"dns-...|\n",
            "|  <link rel=\"dns-...|\n",
            "|  <link rel=\"dns-...|\n",
            "|  <link rel=\"dns-...|\n",
            "|  <link crossorig...|\n",
            "|  <link crossorig...|\n",
            "|    <link crossor...|\n",
            "|    <link crossor...|\n",
            "|  <script crossor...|\n",
            "|    <script cross...|\n",
            "|    <script cross...|\n",
            "|  <script crossor...|\n",
            "|    <script cross...|\n",
            "|    <script cross...|\n",
            "|    <script cross...|\n",
            "|    <script cross...|\n",
            "|    <script cross...|\n",
            "+--------------------+\n",
            "only showing top 20 rows\n",
            "\n"
          ],
          "name": "stdout"
        }
      ]
    },
    {
      "cell_type": "code",
      "metadata": {
        "id": "XS4aiaZUEABC"
      },
      "source": [
        ""
      ],
      "execution_count": null,
      "outputs": []
    }
  ]
}